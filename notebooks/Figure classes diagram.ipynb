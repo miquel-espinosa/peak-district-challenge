{
 "cells": [
  {
   "cell_type": "code",
   "execution_count": 1,
   "metadata": {},
   "outputs": [],
   "source": [
    "## Create plot with sunburst diagram of classes in the dataset\n",
    "%load_ext autoreload\n",
    "%autoreload 2"
   ]
  },
  {
   "cell_type": "code",
   "execution_count": 2,
   "metadata": {},
   "outputs": [
    {
     "name": "stderr",
     "output_type": "stream",
     "text": [
      "/home/tplas/anaconda3/envs/geo/lib/python3.7/site-packages/geopandas/_compat.py:115: UserWarning: The Shapely GEOS version (3.8.0-CAPI-1.13.1 ) is incompatible with the GEOS version PyGEOS was compiled with (3.10.4-CAPI-1.16.2). Conversions between both will be slow.\n",
      "  shapely_geos_version, geos_capi_version_string\n"
     ]
    },
    {
     "name": "stdout",
     "output_type": "stream",
     "text": [
      "WARNING: creating label mapping dictionary corresponding to LC80 schema (ie missing few classes)\n",
      "adding scrub\n",
      "splitting up heath\n",
      "adding wetland\n",
      "adding transport\n"
     ]
    }
   ],
   "source": [
    "import os, sys\n",
    "sys.path.append('../scripts/')\n",
    "import numpy as np\n",
    "import matplotlib.pyplot as plt\n",
    "import rasterio, rasterio.plot\n",
    "import xarray as xr\n",
    "import rioxarray as rxr\n",
    "from tqdm import tqdm\n",
    "import pandas as pd\n",
    "import time, datetime, json\n",
    "import geopandas as gpd\n",
    "import loadpaths\n",
    "import land_cover_analysis as lca\n",
    "import land_cover_visualisation as lcv\n",
    "import land_cover_models as lcm\n",
    "import create_patches_from_polygons_data\n",
    "from torch.utils.data import TensorDataset, DataLoader\n",
    "import plotly.express as px\n",
    "import plotly.graph_objects as go\n",
    "\n",
    "path_dict = loadpaths.loadpaths()"
   ]
  },
  {
   "cell_type": "code",
   "execution_count": 3,
   "metadata": {},
   "outputs": [],
   "source": [
    "mapping_dict_to_full = {'C': 'Wood and Forest Land',\n",
    "                            'D': 'Moor and Heath Land',\n",
    "                            'E': 'Agro-Pastoral Land',\n",
    "                            'F': 'Water and Wetland',\n",
    "                            'G': 'Rock and Coastal Land',\n",
    "                            'H': 'Developed Land',\n",
    "                            'I': 'Unclassified Land',\n",
    "                            '0': 'NO CLASS',\n",
    "                            'U': 'NO CLASS'}"
   ]
  },
  {
   "cell_type": "code",
   "execution_count": 4,
   "metadata": {},
   "outputs": [
    {
     "name": "stdout",
     "output_type": "stream",
     "text": [
      "WARNING: creating label mapping dictionary corresponding to LC80 schema (ie missing few classes)\n",
      "adding scrub\n",
      "splitting up heath\n",
      "adding wetland\n",
      "adding transport\n"
     ]
    }
   ],
   "source": [
    "df_schema = lca.create_df_mapping_labels_2022_to_80s()\n",
    "df_schema.drop(columns=['description_80s', 'code_80s', 'index_2022', 'index_80s'], inplace=True)\n",
    "df_schema['main_class_code'] = df_schema['code_2022'].apply(lambda x: x[0])\n",
    "df_schema['main_description'] = df_schema['main_class_code'].apply(lambda x: mapping_dict_to_full[x])"
   ]
  },
  {
   "cell_type": "code",
   "execution_count": 5,
   "metadata": {},
   "outputs": [],
   "source": [
    "# classes_ignore = ['D4a', 'D4b', 'D8', 'F1', 'F3b', 'F3c', 'G2b', 'G3a', 'G3b', 'G3c', 'G3d']\n",
    "classes_ignore = ['C3', 'D4a', 'D4b', 'D7a', 'D7b', 'D8', 'E1', 'F1', 'F3b', 'F3c', 'G2b', 'G3a', 'G3b', 'G3c', 'G3d']"
   ]
  },
  {
   "cell_type": "code",
   "execution_count": 6,
   "metadata": {},
   "outputs": [
    {
     "data": {
      "text/html": [
       "<div>\n",
       "<style scoped>\n",
       "    .dataframe tbody tr th:only-of-type {\n",
       "        vertical-align: middle;\n",
       "    }\n",
       "\n",
       "    .dataframe tbody tr th {\n",
       "        vertical-align: top;\n",
       "    }\n",
       "\n",
       "    .dataframe thead th {\n",
       "        text-align: right;\n",
       "    }\n",
       "</style>\n",
       "<table border=\"1\" class=\"dataframe\">\n",
       "  <thead>\n",
       "    <tr style=\"text-align: right;\">\n",
       "      <th></th>\n",
       "      <th>description_2022</th>\n",
       "      <th>code_2022</th>\n",
       "      <th>main_class_code</th>\n",
       "      <th>main_description</th>\n",
       "    </tr>\n",
       "  </thead>\n",
       "  <tbody>\n",
       "    <tr>\n",
       "      <th>0</th>\n",
       "      <td>NO CLASS</td>\n",
       "      <td>0</td>\n",
       "      <td>0</td>\n",
       "      <td>NO CLASS</td>\n",
       "    </tr>\n",
       "    <tr>\n",
       "      <th>1</th>\n",
       "      <td>Broadleaved High Forest</td>\n",
       "      <td>C1</td>\n",
       "      <td>C</td>\n",
       "      <td>Wood and Forest Land</td>\n",
       "    </tr>\n",
       "    <tr>\n",
       "      <th>2</th>\n",
       "      <td>Coniferous High Forest</td>\n",
       "      <td>C2</td>\n",
       "      <td>C</td>\n",
       "      <td>Wood and Forest Land</td>\n",
       "    </tr>\n",
       "    <tr>\n",
       "      <th>3</th>\n",
       "      <td>Mixed High Forest</td>\n",
       "      <td>C3</td>\n",
       "      <td>C</td>\n",
       "      <td>Wood and Forest Land</td>\n",
       "    </tr>\n",
       "    <tr>\n",
       "      <th>4</th>\n",
       "      <td>Scrub</td>\n",
       "      <td>C4a</td>\n",
       "      <td>C</td>\n",
       "      <td>Wood and Forest Land</td>\n",
       "    </tr>\n",
       "    <tr>\n",
       "      <th>5</th>\n",
       "      <td>Scrub Pasture</td>\n",
       "      <td>C4b</td>\n",
       "      <td>C</td>\n",
       "      <td>Wood and Forest Land</td>\n",
       "    </tr>\n",
       "    <tr>\n",
       "      <th>6</th>\n",
       "      <td>Woodland/Scrub Edge</td>\n",
       "      <td>C4c</td>\n",
       "      <td>C</td>\n",
       "      <td>Wood and Forest Land</td>\n",
       "    </tr>\n",
       "    <tr>\n",
       "      <th>7</th>\n",
       "      <td>Clear Felled/New Plantings in Forest Areas</td>\n",
       "      <td>C5</td>\n",
       "      <td>C</td>\n",
       "      <td>Wood and Forest Land</td>\n",
       "    </tr>\n",
       "    <tr>\n",
       "      <th>8</th>\n",
       "      <td>Upland Heath</td>\n",
       "      <td>D1a</td>\n",
       "      <td>D</td>\n",
       "      <td>Moor and Heath Land</td>\n",
       "    </tr>\n",
       "    <tr>\n",
       "      <th>9</th>\n",
       "      <td>Upland Heath Blanket Bog</td>\n",
       "      <td>D1b</td>\n",
       "      <td>D</td>\n",
       "      <td>Moor and Heath Land</td>\n",
       "    </tr>\n",
       "    <tr>\n",
       "      <th>10</th>\n",
       "      <td>Upland Grass Moor</td>\n",
       "      <td>D2b</td>\n",
       "      <td>D</td>\n",
       "      <td>Moor and Heath Land</td>\n",
       "    </tr>\n",
       "    <tr>\n",
       "      <th>11</th>\n",
       "      <td>Blanket Peat Grass Moor</td>\n",
       "      <td>D2d</td>\n",
       "      <td>D</td>\n",
       "      <td>Moor and Heath Land</td>\n",
       "    </tr>\n",
       "    <tr>\n",
       "      <th>12</th>\n",
       "      <td>Bracken</td>\n",
       "      <td>D3</td>\n",
       "      <td>D</td>\n",
       "      <td>Moor and Heath Land</td>\n",
       "    </tr>\n",
       "    <tr>\n",
       "      <th>13</th>\n",
       "      <td>Unenclosed Lowland Rough Grassland</td>\n",
       "      <td>D4a</td>\n",
       "      <td>D</td>\n",
       "      <td>Moor and Heath Land</td>\n",
       "    </tr>\n",
       "    <tr>\n",
       "      <th>14</th>\n",
       "      <td>Unenclosed Lowland Heath</td>\n",
       "      <td>D4b</td>\n",
       "      <td>D</td>\n",
       "      <td>Moor and Heath Land</td>\n",
       "    </tr>\n",
       "    <tr>\n",
       "      <th>15</th>\n",
       "      <td>Upland Heath/Grass Mosaic</td>\n",
       "      <td>D6a</td>\n",
       "      <td>D</td>\n",
       "      <td>Moor and Heath Land</td>\n",
       "    </tr>\n",
       "    <tr>\n",
       "      <th>16</th>\n",
       "      <td>Upland Heath/Bracken Mosaic</td>\n",
       "      <td>D6b</td>\n",
       "      <td>D</td>\n",
       "      <td>Moor and Heath Land</td>\n",
       "    </tr>\n",
       "    <tr>\n",
       "      <th>17</th>\n",
       "      <td>Upland Heath/Blanket Peat Mosaic</td>\n",
       "      <td>D6c</td>\n",
       "      <td>D</td>\n",
       "      <td>Moor and Heath Land</td>\n",
       "    </tr>\n",
       "    <tr>\n",
       "      <th>18</th>\n",
       "      <td>Eroded Bare Peat</td>\n",
       "      <td>D7a</td>\n",
       "      <td>D</td>\n",
       "      <td>Moor and Heath Land</td>\n",
       "    </tr>\n",
       "    <tr>\n",
       "      <th>19</th>\n",
       "      <td>Eroded Bare Mineral Soil</td>\n",
       "      <td>D7b</td>\n",
       "      <td>D</td>\n",
       "      <td>Moor and Heath Land</td>\n",
       "    </tr>\n",
       "    <tr>\n",
       "      <th>20</th>\n",
       "      <td>Coastal Heath</td>\n",
       "      <td>D8</td>\n",
       "      <td>D</td>\n",
       "      <td>Moor and Heath Land</td>\n",
       "    </tr>\n",
       "    <tr>\n",
       "      <th>21</th>\n",
       "      <td>Cultivated Land</td>\n",
       "      <td>E1</td>\n",
       "      <td>E</td>\n",
       "      <td>Agro-Pastoral Land</td>\n",
       "    </tr>\n",
       "    <tr>\n",
       "      <th>22</th>\n",
       "      <td>Improved Pasture</td>\n",
       "      <td>E2a</td>\n",
       "      <td>E</td>\n",
       "      <td>Agro-Pastoral Land</td>\n",
       "    </tr>\n",
       "    <tr>\n",
       "      <th>23</th>\n",
       "      <td>Rough Pasture</td>\n",
       "      <td>E2b</td>\n",
       "      <td>E</td>\n",
       "      <td>Agro-Pastoral Land</td>\n",
       "    </tr>\n",
       "    <tr>\n",
       "      <th>24</th>\n",
       "      <td>Open Water, Coastal</td>\n",
       "      <td>F1</td>\n",
       "      <td>F</td>\n",
       "      <td>Water and Wetland</td>\n",
       "    </tr>\n",
       "    <tr>\n",
       "      <th>25</th>\n",
       "      <td>Open Water, Inland</td>\n",
       "      <td>F2</td>\n",
       "      <td>F</td>\n",
       "      <td>Water and Wetland</td>\n",
       "    </tr>\n",
       "    <tr>\n",
       "      <th>26</th>\n",
       "      <td>Wetland, Peat Bog</td>\n",
       "      <td>F3a</td>\n",
       "      <td>F</td>\n",
       "      <td>Water and Wetland</td>\n",
       "    </tr>\n",
       "    <tr>\n",
       "      <th>27</th>\n",
       "      <td>Wetland, Freshwater Marsh</td>\n",
       "      <td>F3b</td>\n",
       "      <td>F</td>\n",
       "      <td>Water and Wetland</td>\n",
       "    </tr>\n",
       "    <tr>\n",
       "      <th>28</th>\n",
       "      <td>Wetland, Saltmarsh</td>\n",
       "      <td>F3c</td>\n",
       "      <td>F</td>\n",
       "      <td>Water and Wetland</td>\n",
       "    </tr>\n",
       "    <tr>\n",
       "      <th>29</th>\n",
       "      <td>Wetland, Wet Grassland and Rush Pasture</td>\n",
       "      <td>F3d</td>\n",
       "      <td>F</td>\n",
       "      <td>Water and Wetland</td>\n",
       "    </tr>\n",
       "    <tr>\n",
       "      <th>30</th>\n",
       "      <td>Inland Bare Rock</td>\n",
       "      <td>G2a</td>\n",
       "      <td>G</td>\n",
       "      <td>Rock and Coastal Land</td>\n",
       "    </tr>\n",
       "    <tr>\n",
       "      <th>31</th>\n",
       "      <td>Coastal Bare Rock</td>\n",
       "      <td>G2b</td>\n",
       "      <td>G</td>\n",
       "      <td>Rock and Coastal Land</td>\n",
       "    </tr>\n",
       "    <tr>\n",
       "      <th>32</th>\n",
       "      <td>Coastal Dunes</td>\n",
       "      <td>G3a</td>\n",
       "      <td>G</td>\n",
       "      <td>Rock and Coastal Land</td>\n",
       "    </tr>\n",
       "    <tr>\n",
       "      <th>33</th>\n",
       "      <td>Coastal Sand Beach</td>\n",
       "      <td>G3b</td>\n",
       "      <td>G</td>\n",
       "      <td>Rock and Coastal Land</td>\n",
       "    </tr>\n",
       "    <tr>\n",
       "      <th>34</th>\n",
       "      <td>Coastal Shingle Beach</td>\n",
       "      <td>G3c</td>\n",
       "      <td>G</td>\n",
       "      <td>Rock and Coastal Land</td>\n",
       "    </tr>\n",
       "    <tr>\n",
       "      <th>35</th>\n",
       "      <td>Coastal Mudflats</td>\n",
       "      <td>G3d</td>\n",
       "      <td>G</td>\n",
       "      <td>Rock and Coastal Land</td>\n",
       "    </tr>\n",
       "    <tr>\n",
       "      <th>36</th>\n",
       "      <td>Urban</td>\n",
       "      <td>H1a</td>\n",
       "      <td>H</td>\n",
       "      <td>Developed Land</td>\n",
       "    </tr>\n",
       "    <tr>\n",
       "      <th>37</th>\n",
       "      <td>Major Transport Routes</td>\n",
       "      <td>H1b</td>\n",
       "      <td>H</td>\n",
       "      <td>Developed Land</td>\n",
       "    </tr>\n",
       "    <tr>\n",
       "      <th>38</th>\n",
       "      <td>Minor Transport Routes</td>\n",
       "      <td>H1c</td>\n",
       "      <td>H</td>\n",
       "      <td>Developed Land</td>\n",
       "    </tr>\n",
       "    <tr>\n",
       "      <th>39</th>\n",
       "      <td>Urban Greenspace</td>\n",
       "      <td>H1d</td>\n",
       "      <td>H</td>\n",
       "      <td>Developed Land</td>\n",
       "    </tr>\n",
       "    <tr>\n",
       "      <th>40</th>\n",
       "      <td>Quarries and Mineral Workings</td>\n",
       "      <td>H2a</td>\n",
       "      <td>H</td>\n",
       "      <td>Developed Land</td>\n",
       "    </tr>\n",
       "    <tr>\n",
       "      <th>41</th>\n",
       "      <td>Derelict Land</td>\n",
       "      <td>H2b</td>\n",
       "      <td>H</td>\n",
       "      <td>Developed Land</td>\n",
       "    </tr>\n",
       "    <tr>\n",
       "      <th>42</th>\n",
       "      <td>Isolated Farmsteads (&gt;0.25 ha)</td>\n",
       "      <td>H3a</td>\n",
       "      <td>H</td>\n",
       "      <td>Developed Land</td>\n",
       "    </tr>\n",
       "    <tr>\n",
       "      <th>43</th>\n",
       "      <td>Other Isolated Rural Developments (&gt;0.25 ha)</td>\n",
       "      <td>H3b</td>\n",
       "      <td>H</td>\n",
       "      <td>Developed Land</td>\n",
       "    </tr>\n",
       "    <tr>\n",
       "      <th>44</th>\n",
       "      <td>Unclassified Land</td>\n",
       "      <td>I</td>\n",
       "      <td>I</td>\n",
       "      <td>Unclassified Land</td>\n",
       "    </tr>\n",
       "  </tbody>\n",
       "</table>\n",
       "</div>"
      ],
      "text/plain": [
       "                                description_2022 code_2022 main_class_code  \\\n",
       "0                                       NO CLASS         0               0   \n",
       "1                        Broadleaved High Forest        C1               C   \n",
       "2                         Coniferous High Forest        C2               C   \n",
       "3                              Mixed High Forest        C3               C   \n",
       "4                                          Scrub       C4a               C   \n",
       "5                                  Scrub Pasture       C4b               C   \n",
       "6                            Woodland/Scrub Edge       C4c               C   \n",
       "7     Clear Felled/New Plantings in Forest Areas        C5               C   \n",
       "8                                   Upland Heath       D1a               D   \n",
       "9                       Upland Heath Blanket Bog       D1b               D   \n",
       "10                             Upland Grass Moor       D2b               D   \n",
       "11                       Blanket Peat Grass Moor       D2d               D   \n",
       "12                                       Bracken        D3               D   \n",
       "13            Unenclosed Lowland Rough Grassland       D4a               D   \n",
       "14                      Unenclosed Lowland Heath       D4b               D   \n",
       "15                     Upland Heath/Grass Mosaic       D6a               D   \n",
       "16                   Upland Heath/Bracken Mosaic       D6b               D   \n",
       "17              Upland Heath/Blanket Peat Mosaic       D6c               D   \n",
       "18                              Eroded Bare Peat       D7a               D   \n",
       "19                      Eroded Bare Mineral Soil       D7b               D   \n",
       "20                                 Coastal Heath        D8               D   \n",
       "21                               Cultivated Land        E1               E   \n",
       "22                              Improved Pasture       E2a               E   \n",
       "23                                 Rough Pasture       E2b               E   \n",
       "24                           Open Water, Coastal        F1               F   \n",
       "25                            Open Water, Inland        F2               F   \n",
       "26                             Wetland, Peat Bog       F3a               F   \n",
       "27                     Wetland, Freshwater Marsh       F3b               F   \n",
       "28                            Wetland, Saltmarsh       F3c               F   \n",
       "29       Wetland, Wet Grassland and Rush Pasture       F3d               F   \n",
       "30                              Inland Bare Rock       G2a               G   \n",
       "31                             Coastal Bare Rock       G2b               G   \n",
       "32                                 Coastal Dunes       G3a               G   \n",
       "33                            Coastal Sand Beach       G3b               G   \n",
       "34                         Coastal Shingle Beach       G3c               G   \n",
       "35                              Coastal Mudflats       G3d               G   \n",
       "36                                         Urban       H1a               H   \n",
       "37                        Major Transport Routes       H1b               H   \n",
       "38                        Minor Transport Routes       H1c               H   \n",
       "39                              Urban Greenspace       H1d               H   \n",
       "40                 Quarries and Mineral Workings       H2a               H   \n",
       "41                                 Derelict Land       H2b               H   \n",
       "42                Isolated Farmsteads (>0.25 ha)       H3a               H   \n",
       "43  Other Isolated Rural Developments (>0.25 ha)       H3b               H   \n",
       "44                             Unclassified Land         I               I   \n",
       "\n",
       "         main_description  \n",
       "0                NO CLASS  \n",
       "1    Wood and Forest Land  \n",
       "2    Wood and Forest Land  \n",
       "3    Wood and Forest Land  \n",
       "4    Wood and Forest Land  \n",
       "5    Wood and Forest Land  \n",
       "6    Wood and Forest Land  \n",
       "7    Wood and Forest Land  \n",
       "8     Moor and Heath Land  \n",
       "9     Moor and Heath Land  \n",
       "10    Moor and Heath Land  \n",
       "11    Moor and Heath Land  \n",
       "12    Moor and Heath Land  \n",
       "13    Moor and Heath Land  \n",
       "14    Moor and Heath Land  \n",
       "15    Moor and Heath Land  \n",
       "16    Moor and Heath Land  \n",
       "17    Moor and Heath Land  \n",
       "18    Moor and Heath Land  \n",
       "19    Moor and Heath Land  \n",
       "20    Moor and Heath Land  \n",
       "21     Agro-Pastoral Land  \n",
       "22     Agro-Pastoral Land  \n",
       "23     Agro-Pastoral Land  \n",
       "24      Water and Wetland  \n",
       "25      Water and Wetland  \n",
       "26      Water and Wetland  \n",
       "27      Water and Wetland  \n",
       "28      Water and Wetland  \n",
       "29      Water and Wetland  \n",
       "30  Rock and Coastal Land  \n",
       "31  Rock and Coastal Land  \n",
       "32  Rock and Coastal Land  \n",
       "33  Rock and Coastal Land  \n",
       "34  Rock and Coastal Land  \n",
       "35  Rock and Coastal Land  \n",
       "36         Developed Land  \n",
       "37         Developed Land  \n",
       "38         Developed Land  \n",
       "39         Developed Land  \n",
       "40         Developed Land  \n",
       "41         Developed Land  \n",
       "42         Developed Land  \n",
       "43         Developed Land  \n",
       "44      Unclassified Land  "
      ]
     },
     "execution_count": 6,
     "metadata": {},
     "output_type": "execute_result"
    }
   ],
   "source": [
    "## add row:\n",
    "# df_schema = df_schema.append({'code_2022': 'D1a', 'description_2022': 'Upland Heath', \n",
    "#                               'main_class_code': 'D', 'main_description': 'Moor and Heath Land'}, ignore_index=True)\n",
    "# df_schema = df_schema.append({'code_2022': 'D1b', 'description_2022': 'Peaty Upland Heath', \n",
    "#                               'main_class_code': 'D', 'main_description': 'Moor and Heath Land'}, ignore_index=True)\n",
    "## drop row;\n",
    "# df_schema = df_schema[df_schema['code_2022'] != 'D1']\n",
    "## sort by code_2022:\n",
    "df_schema = df_schema.sort_values(by=['code_2022'])\n",
    "## reset index:\n",
    "df_schema = df_schema.reset_index(drop=True)\n",
    "\n",
    "df_schema.head(50)"
   ]
  },
  {
   "cell_type": "code",
   "execution_count": 7,
   "metadata": {},
   "outputs": [],
   "source": [
    "data_plot = {'child': [], 'parents': [], 'values': []}\n",
    "value_size = 2\n",
    "for ii in range(len(df_schema)):\n",
    "    code = df_schema['code_2022'].iloc[ii]\n",
    "    if code == '0' or code in classes_ignore:\n",
    "        continue\n",
    "    if len(code) == 1:\n",
    "        data_plot['child'].append(code)\n",
    "        data_plot['parents'].append('LC schema')\n",
    "        if code == 'I':\n",
    "            data_plot['values'].append(value_size)\n",
    "        else:\n",
    "            data_plot['values'].append(0) \n",
    "    elif len(code) == 2:\n",
    "        data_plot['child'].append(code)\n",
    "        # data_plot['parents'].append(mapping_dict_to_full[code[0]])\n",
    "        data_plot['parents'].append(code[0])\n",
    "        data_plot['values'].append(value_size)\n",
    "    elif len(code) == 3:\n",
    "        data_plot['child'].append(code)\n",
    "        data_plot['parents'].append(code[:2])\n",
    "        data_plot['values'].append(value_size)\n",
    "\n",
    "        if code[:2] not in data_plot['child']:\n",
    "            data_plot['child'].append(code[:2])\n",
    "            data_plot['parents'].append(code[0])\n",
    "            # data_plot['parents'].append(mapping_dict_to_full[code[0]])\n",
    "            data_plot['values'].append(0)\n",
    "\n",
    "list_low_level = list(set([x[0] for x in data_plot['child']]))\n",
    "list_low_level.sort()\n",
    "for low_level in list_low_level:\n",
    "    if low_level not in data_plot['child']:\n",
    "        data_plot['child'].append(low_level)\n",
    "        # data_plot['child'].append(mapping_dict_to_full[low_level])\n",
    "        data_plot['parents'].append('LC schema')\n",
    "        data_plot['values'].append(0)"
   ]
  },
  {
   "cell_type": "code",
   "execution_count": 8,
   "metadata": {},
   "outputs": [],
   "source": [
    "data_plot['colour'] = []\n",
    "colour_dict = {\n",
    "                'Main-class classifier': '#381537',\n",
    "                'C classifier': '#0e8212',\n",
    "                'D classifier': '#a33b1a',\n",
    "                'E classifier': '#465E85',\n",
    "                'Post-processing': '#333333',\n",
    "                'OS NGD': '#8b7c1e',\n",
    "                'Not estimated': '#cccccc'\n",
    "                }\n",
    "\n",
    "for ii, child in enumerate(data_plot['child']):\n",
    "    if child in ['C3', 'D6', 'D6b', 'D7', 'D7a', 'D7b', 'E1', 'E2', 'F', 'F3', 'G', 'G2', 'H', 'H1', 'H2', 'H3', 'I']:\n",
    "        data_plot['colour'].append(colour_dict['Not estimated'])\n",
    "    elif child in ['D2b', 'D2d', 'D6a', 'C4a', 'C4b', 'C4c', 'D1a', 'D1b']:\n",
    "        data_plot['colour'].append(colour_dict['Post-processing'])\n",
    "    elif child[0] in ['G', 'H'] or child == 'F2':\n",
    "        data_plot['colour'].append(colour_dict['OS NGD'])\n",
    "    elif child == 'F3d':\n",
    "        data_plot['colour'].append(colour_dict['E classifier'])\n",
    "    elif child == 'F3a':\n",
    "        data_plot['colour'].append(colour_dict['D classifier'])\n",
    "    elif child in ['C', 'D', 'E']:\n",
    "        data_plot['colour'].append(colour_dict['Main-class classifier'])\n",
    "    elif child[0] == 'C':\n",
    "        data_plot['colour'].append(colour_dict['C classifier'])\n",
    "    elif child[0] == 'D':\n",
    "        data_plot['colour'].append(colour_dict['D classifier'])\n",
    "    elif child[0] == 'E':\n",
    "        data_plot['colour'].append(colour_dict['E classifier'])\n",
    "    else:\n",
    "        assert False, f'Colour not defined for {child}'\n",
    "\n",
    "color_map_dict = dict(zip(data_plot['colour'], data_plot['colour']))"
   ]
  },
  {
   "attachments": {},
   "cell_type": "markdown",
   "metadata": {},
   "source": [
    "## Annotate label names?\n",
    "https://stackoverflow.com/questions/70129355/value-annotations-around-plotly-sunburst-diagram\n",
    "\n",
    "- Or merge with a CNN diagram:\n",
    "FLTR:\n",
    "- RGB image\n",
    "- Box: main classifier (purple) into C/D/E\n",
    "- 3 boxes: 3 classifiers (colours) into sub classes\n",
    "- Box: post-processing\n",
    "- Box: Add OS NGD \n",
    "-"
   ]
  },
  {
   "cell_type": "code",
   "execution_count": 56,
   "metadata": {},
   "outputs": [],
   "source": [
    "data_plot['colour_all_grey'] = ['#cccccc' for x in data_plot['colour']]"
   ]
  },
  {
   "cell_type": "code",
   "execution_count": 58,
   "metadata": {},
   "outputs": [
    {
     "data": {
      "application/vnd.plotly.v1+json": {
       "config": {
        "plotlyServerURL": "https://plot.ly"
       },
       "data": [
        {
         "domain": {
          "x": [
           0,
           1
          ],
          "y": [
           0,
           1
          ]
         },
         "hovertemplate": "child=%{label}<br>value=%{value}<br>parent=%{parent}<extra></extra>",
         "labels": [
          "C1",
          "C2",
          "C4a",
          "C4",
          "C4b",
          "C4c",
          "C5",
          "D1a",
          "D1",
          "D1b",
          "D2b",
          "D2",
          "D2d",
          "D3",
          "D6a",
          "D6",
          "D6b",
          "D6c",
          "E2a",
          "E2",
          "E2b",
          "F2",
          "F3a",
          "F3",
          "F3d",
          "G2a",
          "G2",
          "H1a",
          "H1",
          "H1b",
          "H1c",
          "H1d",
          "H2a",
          "H2",
          "H2b",
          "H3a",
          "H3",
          "H3b",
          "I",
          "C",
          "D",
          "E",
          "F",
          "G",
          "H"
         ],
         "leaf": {
          "opacity": 1
         },
         "marker": {
          "colors": [
           "#cccccc",
           "#cccccc",
           "#cccccc",
           "#cccccc",
           "#cccccc",
           "#cccccc",
           "#cccccc",
           "#cccccc",
           "#cccccc",
           "#cccccc",
           "#cccccc",
           "#cccccc",
           "#cccccc",
           "#cccccc",
           "#cccccc",
           "#cccccc",
           "#cccccc",
           "#cccccc",
           "#cccccc",
           "#cccccc",
           "#cccccc",
           "#cccccc",
           "#cccccc",
           "#cccccc",
           "#cccccc",
           "#cccccc",
           "#cccccc",
           "#cccccc",
           "#cccccc",
           "#cccccc",
           "#cccccc",
           "#cccccc",
           "#cccccc",
           "#cccccc",
           "#cccccc",
           "#cccccc",
           "#cccccc",
           "#cccccc",
           "#cccccc",
           "#cccccc",
           "#cccccc",
           "#cccccc",
           "#cccccc",
           "#cccccc",
           "#cccccc"
          ]
         },
         "name": "",
         "parents": [
          "C",
          "C",
          "C4",
          "C",
          "C4",
          "C4",
          "C",
          "D1",
          "D",
          "D1",
          "D2",
          "D",
          "D2",
          "D",
          "D6",
          "D",
          "D6",
          "D6",
          "E2",
          "E",
          "E2",
          "F",
          "F3",
          "F",
          "F3",
          "G2",
          "G",
          "H1",
          "H",
          "H1",
          "H1",
          "H1",
          "H2",
          "H",
          "H2",
          "H3",
          "H",
          "H3",
          "LC schema",
          "LC schema",
          "LC schema",
          "LC schema",
          "LC schema",
          "LC schema",
          "LC schema"
         ],
         "sort": false,
         "type": "sunburst",
         "values": [
          2,
          2,
          2,
          0,
          2,
          2,
          2,
          2,
          0,
          2,
          2,
          0,
          2,
          2,
          2,
          0,
          2,
          2,
          2,
          0,
          2,
          2,
          2,
          0,
          2,
          2,
          0,
          2,
          0,
          2,
          2,
          2,
          2,
          0,
          2,
          2,
          0,
          2,
          2,
          0,
          0,
          0,
          0,
          0,
          0
         ]
        },
        {
         "marker": {
          "color": "#381537",
          "size": 10
         },
         "mode": "markers",
         "name": "Main-class classifier",
         "type": "scatter",
         "x": [
          null
         ],
         "y": [
          null
         ]
        },
        {
         "marker": {
          "color": "#0e8212",
          "size": 10
         },
         "mode": "markers",
         "name": "C classifier",
         "type": "scatter",
         "x": [
          null
         ],
         "y": [
          null
         ]
        },
        {
         "marker": {
          "color": "#a33b1a",
          "size": 10
         },
         "mode": "markers",
         "name": "D classifier",
         "type": "scatter",
         "x": [
          null
         ],
         "y": [
          null
         ]
        },
        {
         "marker": {
          "color": "#465E85",
          "size": 10
         },
         "mode": "markers",
         "name": "E classifier",
         "type": "scatter",
         "x": [
          null
         ],
         "y": [
          null
         ]
        },
        {
         "marker": {
          "color": "#333333",
          "size": 10
         },
         "mode": "markers",
         "name": "Post-processing",
         "type": "scatter",
         "x": [
          null
         ],
         "y": [
          null
         ]
        },
        {
         "marker": {
          "color": "#8b7c1e",
          "size": 10
         },
         "mode": "markers",
         "name": "OS NGD",
         "type": "scatter",
         "x": [
          null
         ],
         "y": [
          null
         ]
        },
        {
         "marker": {
          "color": "#cccccc",
          "size": 10
         },
         "mode": "markers",
         "name": "Not estimated",
         "type": "scatter",
         "x": [
          null
         ],
         "y": [
          null
         ]
        }
       ],
       "layout": {
        "legend": {
         "tracegroupgap": 0
        },
        "margin": {
         "t": 60
        },
        "paper_bgcolor": "rgba(255, 255, 255,255)",
        "plot_bgcolor": "rgba(255, 255, 255, 255)",
        "template": {
         "data": {
          "bar": [
           {
            "error_x": {
             "color": "#2a3f5f"
            },
            "error_y": {
             "color": "#2a3f5f"
            },
            "marker": {
             "line": {
              "color": "#E5ECF6",
              "width": 0.5
             },
             "pattern": {
              "fillmode": "overlay",
              "size": 10,
              "solidity": 0.2
             }
            },
            "type": "bar"
           }
          ],
          "barpolar": [
           {
            "marker": {
             "line": {
              "color": "#E5ECF6",
              "width": 0.5
             },
             "pattern": {
              "fillmode": "overlay",
              "size": 10,
              "solidity": 0.2
             }
            },
            "type": "barpolar"
           }
          ],
          "carpet": [
           {
            "aaxis": {
             "endlinecolor": "#2a3f5f",
             "gridcolor": "white",
             "linecolor": "white",
             "minorgridcolor": "white",
             "startlinecolor": "#2a3f5f"
            },
            "baxis": {
             "endlinecolor": "#2a3f5f",
             "gridcolor": "white",
             "linecolor": "white",
             "minorgridcolor": "white",
             "startlinecolor": "#2a3f5f"
            },
            "type": "carpet"
           }
          ],
          "choropleth": [
           {
            "colorbar": {
             "outlinewidth": 0,
             "ticks": ""
            },
            "type": "choropleth"
           }
          ],
          "contour": [
           {
            "colorbar": {
             "outlinewidth": 0,
             "ticks": ""
            },
            "colorscale": [
             [
              0,
              "#0d0887"
             ],
             [
              0.1111111111111111,
              "#46039f"
             ],
             [
              0.2222222222222222,
              "#7201a8"
             ],
             [
              0.3333333333333333,
              "#9c179e"
             ],
             [
              0.4444444444444444,
              "#bd3786"
             ],
             [
              0.5555555555555556,
              "#d8576b"
             ],
             [
              0.6666666666666666,
              "#ed7953"
             ],
             [
              0.7777777777777778,
              "#fb9f3a"
             ],
             [
              0.8888888888888888,
              "#fdca26"
             ],
             [
              1,
              "#f0f921"
             ]
            ],
            "type": "contour"
           }
          ],
          "contourcarpet": [
           {
            "colorbar": {
             "outlinewidth": 0,
             "ticks": ""
            },
            "type": "contourcarpet"
           }
          ],
          "heatmap": [
           {
            "colorbar": {
             "outlinewidth": 0,
             "ticks": ""
            },
            "colorscale": [
             [
              0,
              "#0d0887"
             ],
             [
              0.1111111111111111,
              "#46039f"
             ],
             [
              0.2222222222222222,
              "#7201a8"
             ],
             [
              0.3333333333333333,
              "#9c179e"
             ],
             [
              0.4444444444444444,
              "#bd3786"
             ],
             [
              0.5555555555555556,
              "#d8576b"
             ],
             [
              0.6666666666666666,
              "#ed7953"
             ],
             [
              0.7777777777777778,
              "#fb9f3a"
             ],
             [
              0.8888888888888888,
              "#fdca26"
             ],
             [
              1,
              "#f0f921"
             ]
            ],
            "type": "heatmap"
           }
          ],
          "heatmapgl": [
           {
            "colorbar": {
             "outlinewidth": 0,
             "ticks": ""
            },
            "colorscale": [
             [
              0,
              "#0d0887"
             ],
             [
              0.1111111111111111,
              "#46039f"
             ],
             [
              0.2222222222222222,
              "#7201a8"
             ],
             [
              0.3333333333333333,
              "#9c179e"
             ],
             [
              0.4444444444444444,
              "#bd3786"
             ],
             [
              0.5555555555555556,
              "#d8576b"
             ],
             [
              0.6666666666666666,
              "#ed7953"
             ],
             [
              0.7777777777777778,
              "#fb9f3a"
             ],
             [
              0.8888888888888888,
              "#fdca26"
             ],
             [
              1,
              "#f0f921"
             ]
            ],
            "type": "heatmapgl"
           }
          ],
          "histogram": [
           {
            "marker": {
             "pattern": {
              "fillmode": "overlay",
              "size": 10,
              "solidity": 0.2
             }
            },
            "type": "histogram"
           }
          ],
          "histogram2d": [
           {
            "colorbar": {
             "outlinewidth": 0,
             "ticks": ""
            },
            "colorscale": [
             [
              0,
              "#0d0887"
             ],
             [
              0.1111111111111111,
              "#46039f"
             ],
             [
              0.2222222222222222,
              "#7201a8"
             ],
             [
              0.3333333333333333,
              "#9c179e"
             ],
             [
              0.4444444444444444,
              "#bd3786"
             ],
             [
              0.5555555555555556,
              "#d8576b"
             ],
             [
              0.6666666666666666,
              "#ed7953"
             ],
             [
              0.7777777777777778,
              "#fb9f3a"
             ],
             [
              0.8888888888888888,
              "#fdca26"
             ],
             [
              1,
              "#f0f921"
             ]
            ],
            "type": "histogram2d"
           }
          ],
          "histogram2dcontour": [
           {
            "colorbar": {
             "outlinewidth": 0,
             "ticks": ""
            },
            "colorscale": [
             [
              0,
              "#0d0887"
             ],
             [
              0.1111111111111111,
              "#46039f"
             ],
             [
              0.2222222222222222,
              "#7201a8"
             ],
             [
              0.3333333333333333,
              "#9c179e"
             ],
             [
              0.4444444444444444,
              "#bd3786"
             ],
             [
              0.5555555555555556,
              "#d8576b"
             ],
             [
              0.6666666666666666,
              "#ed7953"
             ],
             [
              0.7777777777777778,
              "#fb9f3a"
             ],
             [
              0.8888888888888888,
              "#fdca26"
             ],
             [
              1,
              "#f0f921"
             ]
            ],
            "type": "histogram2dcontour"
           }
          ],
          "mesh3d": [
           {
            "colorbar": {
             "outlinewidth": 0,
             "ticks": ""
            },
            "type": "mesh3d"
           }
          ],
          "parcoords": [
           {
            "line": {
             "colorbar": {
              "outlinewidth": 0,
              "ticks": ""
             }
            },
            "type": "parcoords"
           }
          ],
          "pie": [
           {
            "automargin": true,
            "type": "pie"
           }
          ],
          "scatter": [
           {
            "fillpattern": {
             "fillmode": "overlay",
             "size": 10,
             "solidity": 0.2
            },
            "type": "scatter"
           }
          ],
          "scatter3d": [
           {
            "line": {
             "colorbar": {
              "outlinewidth": 0,
              "ticks": ""
             }
            },
            "marker": {
             "colorbar": {
              "outlinewidth": 0,
              "ticks": ""
             }
            },
            "type": "scatter3d"
           }
          ],
          "scattercarpet": [
           {
            "marker": {
             "colorbar": {
              "outlinewidth": 0,
              "ticks": ""
             }
            },
            "type": "scattercarpet"
           }
          ],
          "scattergeo": [
           {
            "marker": {
             "colorbar": {
              "outlinewidth": 0,
              "ticks": ""
             }
            },
            "type": "scattergeo"
           }
          ],
          "scattergl": [
           {
            "marker": {
             "colorbar": {
              "outlinewidth": 0,
              "ticks": ""
             }
            },
            "type": "scattergl"
           }
          ],
          "scattermapbox": [
           {
            "marker": {
             "colorbar": {
              "outlinewidth": 0,
              "ticks": ""
             }
            },
            "type": "scattermapbox"
           }
          ],
          "scatterpolar": [
           {
            "marker": {
             "colorbar": {
              "outlinewidth": 0,
              "ticks": ""
             }
            },
            "type": "scatterpolar"
           }
          ],
          "scatterpolargl": [
           {
            "marker": {
             "colorbar": {
              "outlinewidth": 0,
              "ticks": ""
             }
            },
            "type": "scatterpolargl"
           }
          ],
          "scatterternary": [
           {
            "marker": {
             "colorbar": {
              "outlinewidth": 0,
              "ticks": ""
             }
            },
            "type": "scatterternary"
           }
          ],
          "surface": [
           {
            "colorbar": {
             "outlinewidth": 0,
             "ticks": ""
            },
            "colorscale": [
             [
              0,
              "#0d0887"
             ],
             [
              0.1111111111111111,
              "#46039f"
             ],
             [
              0.2222222222222222,
              "#7201a8"
             ],
             [
              0.3333333333333333,
              "#9c179e"
             ],
             [
              0.4444444444444444,
              "#bd3786"
             ],
             [
              0.5555555555555556,
              "#d8576b"
             ],
             [
              0.6666666666666666,
              "#ed7953"
             ],
             [
              0.7777777777777778,
              "#fb9f3a"
             ],
             [
              0.8888888888888888,
              "#fdca26"
             ],
             [
              1,
              "#f0f921"
             ]
            ],
            "type": "surface"
           }
          ],
          "table": [
           {
            "cells": {
             "fill": {
              "color": "#EBF0F8"
             },
             "line": {
              "color": "white"
             }
            },
            "header": {
             "fill": {
              "color": "#C8D4E3"
             },
             "line": {
              "color": "white"
             }
            },
            "type": "table"
           }
          ]
         },
         "layout": {
          "annotationdefaults": {
           "arrowcolor": "#2a3f5f",
           "arrowhead": 0,
           "arrowwidth": 1
          },
          "autotypenumbers": "strict",
          "coloraxis": {
           "colorbar": {
            "outlinewidth": 0,
            "ticks": ""
           }
          },
          "colorscale": {
           "diverging": [
            [
             0,
             "#8e0152"
            ],
            [
             0.1,
             "#c51b7d"
            ],
            [
             0.2,
             "#de77ae"
            ],
            [
             0.3,
             "#f1b6da"
            ],
            [
             0.4,
             "#fde0ef"
            ],
            [
             0.5,
             "#f7f7f7"
            ],
            [
             0.6,
             "#e6f5d0"
            ],
            [
             0.7,
             "#b8e186"
            ],
            [
             0.8,
             "#7fbc41"
            ],
            [
             0.9,
             "#4d9221"
            ],
            [
             1,
             "#276419"
            ]
           ],
           "sequential": [
            [
             0,
             "#0d0887"
            ],
            [
             0.1111111111111111,
             "#46039f"
            ],
            [
             0.2222222222222222,
             "#7201a8"
            ],
            [
             0.3333333333333333,
             "#9c179e"
            ],
            [
             0.4444444444444444,
             "#bd3786"
            ],
            [
             0.5555555555555556,
             "#d8576b"
            ],
            [
             0.6666666666666666,
             "#ed7953"
            ],
            [
             0.7777777777777778,
             "#fb9f3a"
            ],
            [
             0.8888888888888888,
             "#fdca26"
            ],
            [
             1,
             "#f0f921"
            ]
           ],
           "sequentialminus": [
            [
             0,
             "#0d0887"
            ],
            [
             0.1111111111111111,
             "#46039f"
            ],
            [
             0.2222222222222222,
             "#7201a8"
            ],
            [
             0.3333333333333333,
             "#9c179e"
            ],
            [
             0.4444444444444444,
             "#bd3786"
            ],
            [
             0.5555555555555556,
             "#d8576b"
            ],
            [
             0.6666666666666666,
             "#ed7953"
            ],
            [
             0.7777777777777778,
             "#fb9f3a"
            ],
            [
             0.8888888888888888,
             "#fdca26"
            ],
            [
             1,
             "#f0f921"
            ]
           ]
          },
          "colorway": [
           "#636efa",
           "#EF553B",
           "#00cc96",
           "#ab63fa",
           "#FFA15A",
           "#19d3f3",
           "#FF6692",
           "#B6E880",
           "#FF97FF",
           "#FECB52"
          ],
          "font": {
           "color": "#2a3f5f"
          },
          "geo": {
           "bgcolor": "white",
           "lakecolor": "white",
           "landcolor": "#E5ECF6",
           "showlakes": true,
           "showland": true,
           "subunitcolor": "white"
          },
          "hoverlabel": {
           "align": "left"
          },
          "hovermode": "closest",
          "mapbox": {
           "style": "light"
          },
          "paper_bgcolor": "white",
          "plot_bgcolor": "#E5ECF6",
          "polar": {
           "angularaxis": {
            "gridcolor": "white",
            "linecolor": "white",
            "ticks": ""
           },
           "bgcolor": "#E5ECF6",
           "radialaxis": {
            "gridcolor": "white",
            "linecolor": "white",
            "ticks": ""
           }
          },
          "scene": {
           "xaxis": {
            "backgroundcolor": "#E5ECF6",
            "gridcolor": "white",
            "gridwidth": 2,
            "linecolor": "white",
            "showbackground": true,
            "ticks": "",
            "zerolinecolor": "white"
           },
           "yaxis": {
            "backgroundcolor": "#E5ECF6",
            "gridcolor": "white",
            "gridwidth": 2,
            "linecolor": "white",
            "showbackground": true,
            "ticks": "",
            "zerolinecolor": "white"
           },
           "zaxis": {
            "backgroundcolor": "#E5ECF6",
            "gridcolor": "white",
            "gridwidth": 2,
            "linecolor": "white",
            "showbackground": true,
            "ticks": "",
            "zerolinecolor": "white"
           }
          },
          "shapedefaults": {
           "line": {
            "color": "#2a3f5f"
           }
          },
          "ternary": {
           "aaxis": {
            "gridcolor": "white",
            "linecolor": "white",
            "ticks": ""
           },
           "baxis": {
            "gridcolor": "white",
            "linecolor": "white",
            "ticks": ""
           },
           "bgcolor": "#E5ECF6",
           "caxis": {
            "gridcolor": "white",
            "linecolor": "white",
            "ticks": ""
           }
          },
          "title": {
           "x": 0.05
          },
          "xaxis": {
           "automargin": true,
           "gridcolor": "white",
           "linecolor": "white",
           "ticks": "",
           "title": {
            "standoff": 15
           },
           "zerolinecolor": "white",
           "zerolinewidth": 2
          },
          "yaxis": {
           "automargin": true,
           "gridcolor": "white",
           "linecolor": "white",
           "ticks": "",
           "title": {
            "standoff": 15
           },
           "zerolinecolor": "white",
           "zerolinewidth": 2
          }
         }
        },
        "xaxis": {
         "range": [
          1,
          4
         ],
         "tickfont": {
          "color": "rgba(0,0,0,0)"
         }
        },
        "yaxis": {
         "tickfont": {
          "color": "rgba(0,0,0,0)"
         }
        }
       }
      },
      "text/html": [
       "<div>                            <div id=\"bcd1051f-cd17-4080-81d0-fcfab027395a\" class=\"plotly-graph-div\" style=\"height:525px; width:100%;\"></div>            <script type=\"text/javascript\">                require([\"plotly\"], function(Plotly) {                    window.PLOTLYENV=window.PLOTLYENV || {};                                    if (document.getElementById(\"bcd1051f-cd17-4080-81d0-fcfab027395a\")) {                    Plotly.newPlot(                        \"bcd1051f-cd17-4080-81d0-fcfab027395a\",                        [{\"domain\":{\"x\":[0.0,1.0],\"y\":[0.0,1.0]},\"hovertemplate\":\"child=%{label}<br>value=%{value}<br>parent=%{parent}<extra></extra>\",\"labels\":[\"C1\",\"C2\",\"C4a\",\"C4\",\"C4b\",\"C4c\",\"C5\",\"D1a\",\"D1\",\"D1b\",\"D2b\",\"D2\",\"D2d\",\"D3\",\"D6a\",\"D6\",\"D6b\",\"D6c\",\"E2a\",\"E2\",\"E2b\",\"F2\",\"F3a\",\"F3\",\"F3d\",\"G2a\",\"G2\",\"H1a\",\"H1\",\"H1b\",\"H1c\",\"H1d\",\"H2a\",\"H2\",\"H2b\",\"H3a\",\"H3\",\"H3b\",\"I\",\"C\",\"D\",\"E\",\"F\",\"G\",\"H\"],\"marker\":{\"colors\":[\"#cccccc\",\"#cccccc\",\"#cccccc\",\"#cccccc\",\"#cccccc\",\"#cccccc\",\"#cccccc\",\"#cccccc\",\"#cccccc\",\"#cccccc\",\"#cccccc\",\"#cccccc\",\"#cccccc\",\"#cccccc\",\"#cccccc\",\"#cccccc\",\"#cccccc\",\"#cccccc\",\"#cccccc\",\"#cccccc\",\"#cccccc\",\"#cccccc\",\"#cccccc\",\"#cccccc\",\"#cccccc\",\"#cccccc\",\"#cccccc\",\"#cccccc\",\"#cccccc\",\"#cccccc\",\"#cccccc\",\"#cccccc\",\"#cccccc\",\"#cccccc\",\"#cccccc\",\"#cccccc\",\"#cccccc\",\"#cccccc\",\"#cccccc\",\"#cccccc\",\"#cccccc\",\"#cccccc\",\"#cccccc\",\"#cccccc\",\"#cccccc\"]},\"name\":\"\",\"parents\":[\"C\",\"C\",\"C4\",\"C\",\"C4\",\"C4\",\"C\",\"D1\",\"D\",\"D1\",\"D2\",\"D\",\"D2\",\"D\",\"D6\",\"D\",\"D6\",\"D6\",\"E2\",\"E\",\"E2\",\"F\",\"F3\",\"F\",\"F3\",\"G2\",\"G\",\"H1\",\"H\",\"H1\",\"H1\",\"H1\",\"H2\",\"H\",\"H2\",\"H3\",\"H\",\"H3\",\"LC schema\",\"LC schema\",\"LC schema\",\"LC schema\",\"LC schema\",\"LC schema\",\"LC schema\"],\"values\":[2,2,2,0,2,2,2,2,0,2,2,0,2,2,2,0,2,2,2,0,2,2,2,0,2,2,0,2,0,2,2,2,2,0,2,2,0,2,2,0,0,0,0,0,0],\"type\":\"sunburst\",\"leaf\":{\"opacity\":1},\"sort\":false},{\"marker\":{\"color\":\"#381537\",\"size\":10},\"mode\":\"markers\",\"name\":\"Main-class classifier\",\"x\":[null],\"y\":[null],\"type\":\"scatter\"},{\"marker\":{\"color\":\"#0e8212\",\"size\":10},\"mode\":\"markers\",\"name\":\"C classifier\",\"x\":[null],\"y\":[null],\"type\":\"scatter\"},{\"marker\":{\"color\":\"#a33b1a\",\"size\":10},\"mode\":\"markers\",\"name\":\"D classifier\",\"x\":[null],\"y\":[null],\"type\":\"scatter\"},{\"marker\":{\"color\":\"#465E85\",\"size\":10},\"mode\":\"markers\",\"name\":\"E classifier\",\"x\":[null],\"y\":[null],\"type\":\"scatter\"},{\"marker\":{\"color\":\"#333333\",\"size\":10},\"mode\":\"markers\",\"name\":\"Post-processing\",\"x\":[null],\"y\":[null],\"type\":\"scatter\"},{\"marker\":{\"color\":\"#8b7c1e\",\"size\":10},\"mode\":\"markers\",\"name\":\"OS NGD\",\"x\":[null],\"y\":[null],\"type\":\"scatter\"},{\"marker\":{\"color\":\"#cccccc\",\"size\":10},\"mode\":\"markers\",\"name\":\"Not estimated\",\"x\":[null],\"y\":[null],\"type\":\"scatter\"}],                        {\"template\":{\"data\":{\"histogram2dcontour\":[{\"type\":\"histogram2dcontour\",\"colorbar\":{\"outlinewidth\":0,\"ticks\":\"\"},\"colorscale\":[[0.0,\"#0d0887\"],[0.1111111111111111,\"#46039f\"],[0.2222222222222222,\"#7201a8\"],[0.3333333333333333,\"#9c179e\"],[0.4444444444444444,\"#bd3786\"],[0.5555555555555556,\"#d8576b\"],[0.6666666666666666,\"#ed7953\"],[0.7777777777777778,\"#fb9f3a\"],[0.8888888888888888,\"#fdca26\"],[1.0,\"#f0f921\"]]}],\"choropleth\":[{\"type\":\"choropleth\",\"colorbar\":{\"outlinewidth\":0,\"ticks\":\"\"}}],\"histogram2d\":[{\"type\":\"histogram2d\",\"colorbar\":{\"outlinewidth\":0,\"ticks\":\"\"},\"colorscale\":[[0.0,\"#0d0887\"],[0.1111111111111111,\"#46039f\"],[0.2222222222222222,\"#7201a8\"],[0.3333333333333333,\"#9c179e\"],[0.4444444444444444,\"#bd3786\"],[0.5555555555555556,\"#d8576b\"],[0.6666666666666666,\"#ed7953\"],[0.7777777777777778,\"#fb9f3a\"],[0.8888888888888888,\"#fdca26\"],[1.0,\"#f0f921\"]]}],\"heatmap\":[{\"type\":\"heatmap\",\"colorbar\":{\"outlinewidth\":0,\"ticks\":\"\"},\"colorscale\":[[0.0,\"#0d0887\"],[0.1111111111111111,\"#46039f\"],[0.2222222222222222,\"#7201a8\"],[0.3333333333333333,\"#9c179e\"],[0.4444444444444444,\"#bd3786\"],[0.5555555555555556,\"#d8576b\"],[0.6666666666666666,\"#ed7953\"],[0.7777777777777778,\"#fb9f3a\"],[0.8888888888888888,\"#fdca26\"],[1.0,\"#f0f921\"]]}],\"heatmapgl\":[{\"type\":\"heatmapgl\",\"colorbar\":{\"outlinewidth\":0,\"ticks\":\"\"},\"colorscale\":[[0.0,\"#0d0887\"],[0.1111111111111111,\"#46039f\"],[0.2222222222222222,\"#7201a8\"],[0.3333333333333333,\"#9c179e\"],[0.4444444444444444,\"#bd3786\"],[0.5555555555555556,\"#d8576b\"],[0.6666666666666666,\"#ed7953\"],[0.7777777777777778,\"#fb9f3a\"],[0.8888888888888888,\"#fdca26\"],[1.0,\"#f0f921\"]]}],\"contourcarpet\":[{\"type\":\"contourcarpet\",\"colorbar\":{\"outlinewidth\":0,\"ticks\":\"\"}}],\"contour\":[{\"type\":\"contour\",\"colorbar\":{\"outlinewidth\":0,\"ticks\":\"\"},\"colorscale\":[[0.0,\"#0d0887\"],[0.1111111111111111,\"#46039f\"],[0.2222222222222222,\"#7201a8\"],[0.3333333333333333,\"#9c179e\"],[0.4444444444444444,\"#bd3786\"],[0.5555555555555556,\"#d8576b\"],[0.6666666666666666,\"#ed7953\"],[0.7777777777777778,\"#fb9f3a\"],[0.8888888888888888,\"#fdca26\"],[1.0,\"#f0f921\"]]}],\"surface\":[{\"type\":\"surface\",\"colorbar\":{\"outlinewidth\":0,\"ticks\":\"\"},\"colorscale\":[[0.0,\"#0d0887\"],[0.1111111111111111,\"#46039f\"],[0.2222222222222222,\"#7201a8\"],[0.3333333333333333,\"#9c179e\"],[0.4444444444444444,\"#bd3786\"],[0.5555555555555556,\"#d8576b\"],[0.6666666666666666,\"#ed7953\"],[0.7777777777777778,\"#fb9f3a\"],[0.8888888888888888,\"#fdca26\"],[1.0,\"#f0f921\"]]}],\"mesh3d\":[{\"type\":\"mesh3d\",\"colorbar\":{\"outlinewidth\":0,\"ticks\":\"\"}}],\"scatter\":[{\"fillpattern\":{\"fillmode\":\"overlay\",\"size\":10,\"solidity\":0.2},\"type\":\"scatter\"}],\"parcoords\":[{\"type\":\"parcoords\",\"line\":{\"colorbar\":{\"outlinewidth\":0,\"ticks\":\"\"}}}],\"scatterpolargl\":[{\"type\":\"scatterpolargl\",\"marker\":{\"colorbar\":{\"outlinewidth\":0,\"ticks\":\"\"}}}],\"bar\":[{\"error_x\":{\"color\":\"#2a3f5f\"},\"error_y\":{\"color\":\"#2a3f5f\"},\"marker\":{\"line\":{\"color\":\"#E5ECF6\",\"width\":0.5},\"pattern\":{\"fillmode\":\"overlay\",\"size\":10,\"solidity\":0.2}},\"type\":\"bar\"}],\"scattergeo\":[{\"type\":\"scattergeo\",\"marker\":{\"colorbar\":{\"outlinewidth\":0,\"ticks\":\"\"}}}],\"scatterpolar\":[{\"type\":\"scatterpolar\",\"marker\":{\"colorbar\":{\"outlinewidth\":0,\"ticks\":\"\"}}}],\"histogram\":[{\"marker\":{\"pattern\":{\"fillmode\":\"overlay\",\"size\":10,\"solidity\":0.2}},\"type\":\"histogram\"}],\"scattergl\":[{\"type\":\"scattergl\",\"marker\":{\"colorbar\":{\"outlinewidth\":0,\"ticks\":\"\"}}}],\"scatter3d\":[{\"type\":\"scatter3d\",\"line\":{\"colorbar\":{\"outlinewidth\":0,\"ticks\":\"\"}},\"marker\":{\"colorbar\":{\"outlinewidth\":0,\"ticks\":\"\"}}}],\"scattermapbox\":[{\"type\":\"scattermapbox\",\"marker\":{\"colorbar\":{\"outlinewidth\":0,\"ticks\":\"\"}}}],\"scatterternary\":[{\"type\":\"scatterternary\",\"marker\":{\"colorbar\":{\"outlinewidth\":0,\"ticks\":\"\"}}}],\"scattercarpet\":[{\"type\":\"scattercarpet\",\"marker\":{\"colorbar\":{\"outlinewidth\":0,\"ticks\":\"\"}}}],\"carpet\":[{\"aaxis\":{\"endlinecolor\":\"#2a3f5f\",\"gridcolor\":\"white\",\"linecolor\":\"white\",\"minorgridcolor\":\"white\",\"startlinecolor\":\"#2a3f5f\"},\"baxis\":{\"endlinecolor\":\"#2a3f5f\",\"gridcolor\":\"white\",\"linecolor\":\"white\",\"minorgridcolor\":\"white\",\"startlinecolor\":\"#2a3f5f\"},\"type\":\"carpet\"}],\"table\":[{\"cells\":{\"fill\":{\"color\":\"#EBF0F8\"},\"line\":{\"color\":\"white\"}},\"header\":{\"fill\":{\"color\":\"#C8D4E3\"},\"line\":{\"color\":\"white\"}},\"type\":\"table\"}],\"barpolar\":[{\"marker\":{\"line\":{\"color\":\"#E5ECF6\",\"width\":0.5},\"pattern\":{\"fillmode\":\"overlay\",\"size\":10,\"solidity\":0.2}},\"type\":\"barpolar\"}],\"pie\":[{\"automargin\":true,\"type\":\"pie\"}]},\"layout\":{\"autotypenumbers\":\"strict\",\"colorway\":[\"#636efa\",\"#EF553B\",\"#00cc96\",\"#ab63fa\",\"#FFA15A\",\"#19d3f3\",\"#FF6692\",\"#B6E880\",\"#FF97FF\",\"#FECB52\"],\"font\":{\"color\":\"#2a3f5f\"},\"hovermode\":\"closest\",\"hoverlabel\":{\"align\":\"left\"},\"paper_bgcolor\":\"white\",\"plot_bgcolor\":\"#E5ECF6\",\"polar\":{\"bgcolor\":\"#E5ECF6\",\"angularaxis\":{\"gridcolor\":\"white\",\"linecolor\":\"white\",\"ticks\":\"\"},\"radialaxis\":{\"gridcolor\":\"white\",\"linecolor\":\"white\",\"ticks\":\"\"}},\"ternary\":{\"bgcolor\":\"#E5ECF6\",\"aaxis\":{\"gridcolor\":\"white\",\"linecolor\":\"white\",\"ticks\":\"\"},\"baxis\":{\"gridcolor\":\"white\",\"linecolor\":\"white\",\"ticks\":\"\"},\"caxis\":{\"gridcolor\":\"white\",\"linecolor\":\"white\",\"ticks\":\"\"}},\"coloraxis\":{\"colorbar\":{\"outlinewidth\":0,\"ticks\":\"\"}},\"colorscale\":{\"sequential\":[[0.0,\"#0d0887\"],[0.1111111111111111,\"#46039f\"],[0.2222222222222222,\"#7201a8\"],[0.3333333333333333,\"#9c179e\"],[0.4444444444444444,\"#bd3786\"],[0.5555555555555556,\"#d8576b\"],[0.6666666666666666,\"#ed7953\"],[0.7777777777777778,\"#fb9f3a\"],[0.8888888888888888,\"#fdca26\"],[1.0,\"#f0f921\"]],\"sequentialminus\":[[0.0,\"#0d0887\"],[0.1111111111111111,\"#46039f\"],[0.2222222222222222,\"#7201a8\"],[0.3333333333333333,\"#9c179e\"],[0.4444444444444444,\"#bd3786\"],[0.5555555555555556,\"#d8576b\"],[0.6666666666666666,\"#ed7953\"],[0.7777777777777778,\"#fb9f3a\"],[0.8888888888888888,\"#fdca26\"],[1.0,\"#f0f921\"]],\"diverging\":[[0,\"#8e0152\"],[0.1,\"#c51b7d\"],[0.2,\"#de77ae\"],[0.3,\"#f1b6da\"],[0.4,\"#fde0ef\"],[0.5,\"#f7f7f7\"],[0.6,\"#e6f5d0\"],[0.7,\"#b8e186\"],[0.8,\"#7fbc41\"],[0.9,\"#4d9221\"],[1,\"#276419\"]]},\"xaxis\":{\"gridcolor\":\"white\",\"linecolor\":\"white\",\"ticks\":\"\",\"title\":{\"standoff\":15},\"zerolinecolor\":\"white\",\"automargin\":true,\"zerolinewidth\":2},\"yaxis\":{\"gridcolor\":\"white\",\"linecolor\":\"white\",\"ticks\":\"\",\"title\":{\"standoff\":15},\"zerolinecolor\":\"white\",\"automargin\":true,\"zerolinewidth\":2},\"scene\":{\"xaxis\":{\"backgroundcolor\":\"#E5ECF6\",\"gridcolor\":\"white\",\"linecolor\":\"white\",\"showbackground\":true,\"ticks\":\"\",\"zerolinecolor\":\"white\",\"gridwidth\":2},\"yaxis\":{\"backgroundcolor\":\"#E5ECF6\",\"gridcolor\":\"white\",\"linecolor\":\"white\",\"showbackground\":true,\"ticks\":\"\",\"zerolinecolor\":\"white\",\"gridwidth\":2},\"zaxis\":{\"backgroundcolor\":\"#E5ECF6\",\"gridcolor\":\"white\",\"linecolor\":\"white\",\"showbackground\":true,\"ticks\":\"\",\"zerolinecolor\":\"white\",\"gridwidth\":2}},\"shapedefaults\":{\"line\":{\"color\":\"#2a3f5f\"}},\"annotationdefaults\":{\"arrowcolor\":\"#2a3f5f\",\"arrowhead\":0,\"arrowwidth\":1},\"geo\":{\"bgcolor\":\"white\",\"landcolor\":\"#E5ECF6\",\"subunitcolor\":\"white\",\"showland\":true,\"showlakes\":true,\"lakecolor\":\"white\"},\"title\":{\"x\":0.05},\"mapbox\":{\"style\":\"light\"}}},\"legend\":{\"tracegroupgap\":0},\"margin\":{\"t\":60},\"paper_bgcolor\":\"rgba(255, 255, 255,255)\",\"plot_bgcolor\":\"rgba(255, 255, 255, 255)\",\"xaxis\":{\"tickfont\":{\"color\":\"rgba(0,0,0,0)\"},\"range\":[1,4]},\"yaxis\":{\"tickfont\":{\"color\":\"rgba(0,0,0,0)\"}}},                        {\"responsive\": true}                    ).then(function(){\n",
       "                            \n",
       "var gd = document.getElementById('bcd1051f-cd17-4080-81d0-fcfab027395a');\n",
       "var x = new MutationObserver(function (mutations, observer) {{\n",
       "        var display = window.getComputedStyle(gd).display;\n",
       "        if (!display || display === 'none') {{\n",
       "            console.log([gd, 'removed!']);\n",
       "            Plotly.purge(gd);\n",
       "            observer.disconnect();\n",
       "        }}\n",
       "}});\n",
       "\n",
       "// Listen for the removal of the full notebook cells\n",
       "var notebookContainer = gd.closest('#notebook-container');\n",
       "if (notebookContainer) {{\n",
       "    x.observe(notebookContainer, {childList: true});\n",
       "}}\n",
       "\n",
       "// Listen for the clearing of the current output cell\n",
       "var outputEl = gd.closest('.output');\n",
       "if (outputEl) {{\n",
       "    x.observe(outputEl, {childList: true});\n",
       "}}\n",
       "\n",
       "                        })                };                });            </script>        </div>"
      ]
     },
     "metadata": {},
     "output_type": "display_data"
    }
   ],
   "source": [
    "save_fig = True \n",
    "\n",
    "fig = px.sunburst(data_plot,\n",
    "                  names='child',\n",
    "                  parents='parents',\n",
    "                  values='values',\n",
    "                  color='colour_all_grey',\n",
    "                  color_discrete_map=color_map_dict)\n",
    "\n",
    "fig.update_traces(sort=False, selector=dict(type='sunburst'),\n",
    "                  leaf=dict(opacity=1))\n",
    "\n",
    "## Add legend\n",
    "for name, col in colour_dict.items():\n",
    "    fig.add_trace(go.Scatter(x=[None], y=[None],\n",
    "                            mode='markers',\n",
    "                            marker=dict(color=col, size=10),\n",
    "                            name=name))\n",
    "    \n",
    "## remove clutter \n",
    "fig.update_layout(paper_bgcolor='rgba(255, 255, 255,255)',\n",
    "                  plot_bgcolor='rgba(255, 255, 255, 255)')\n",
    "fig.update_xaxes(tickfont=dict(color='rgba(0,0,0,0)'), range=[1, 4])\n",
    "fig.update_yaxes(tickfont=dict(color='rgba(0,0,0,0)'))\n",
    "fig.show()\n",
    "\n",
    "if save_fig:\n",
    "    ## When saved as PDF, all labels inside the sunburst are printed at 0 degree orientation (right way up).\n",
    "    fig.write_image('../figures/land_cover_schema_2022_all_grey.pdf')"
   ]
  },
  {
   "cell_type": "code",
   "execution_count": 15,
   "metadata": {},
   "outputs": [],
   "source": [
    "# df_schema"
   ]
  },
  {
   "cell_type": "code",
   "execution_count": 36,
   "metadata": {},
   "outputs": [],
   "source": [
    "data_plot['full_name'] = [df_schema[df_schema['code_2022'] == x]['description_2022'].to_numpy()[0] if x in df_schema['code_2022'].to_list() else x for x in data_plot['child']]\n",
    "\n",
    "# data_plot['child'].apply(lambda z: {x: y for x, y in zip(df_schema['code_2022'], df_schema['description_2022'])}[z])"
   ]
  },
  {
   "cell_type": "code",
   "execution_count": 45,
   "metadata": {},
   "outputs": [],
   "source": [
    "data_plot['full_name_child'] = ['Broadleaved',\n",
    "                        'Coniferous',\n",
    "                        'Scrub',\n",
    "                        'Scrub',\n",
    "                        'Scrub Past.',\n",
    "                        'Scrub Edge',\n",
    "                        'Felled/Planted',\n",
    "                        'Heath',\n",
    "                        'Heath',\n",
    "                        'Heath Bog',\n",
    "                        'Grass Moor',\n",
    "                        'Grass Moor',\n",
    "                        'Peat Grass',\n",
    "                        'Bracken',\n",
    "                        'Heath/Grass',\n",
    "                        'Mosaics',\n",
    "                        'Heath/Bracken',\n",
    "                        'Heath/Peat',\n",
    "                        'Improv. Past.',\n",
    "                        'Pasture',\n",
    "                        'Rough Past.',\n",
    "                        'Water',\n",
    "                        'Peat Bog',\n",
    "                        'Wetlands',\n",
    "                        'Rush Pasture',\n",
    "                        'Rocks',\n",
    "                        'Rocks',\n",
    "                        'Urban',\n",
    "                        'Built-up',\n",
    "                        'Major Transport',\n",
    "                        'Minor Transport',\n",
    "                        'Urban Greenspace',\n",
    "                        'Quarries',\n",
    "                        'Quarries',\n",
    "                        'Derelict Land',\n",
    "                        'Isolated Farms',\n",
    "                        'Rural',\n",
    "                        'Isolated Rural',\n",
    "                        'Unclassified Land',\n",
    "                        'Woods',\n",
    "                        'Moors',\n",
    "                        'Grass',\n",
    "                        'Water',\n",
    "                        'Rock',\n",
    "                        'Urban']"
   ]
  },
  {
   "cell_type": "code",
   "execution_count": 48,
   "metadata": {},
   "outputs": [],
   "source": [
    "map_code_to_name = {x: y for x, y in zip(data_plot['child'], data_plot['full_name_child'])}\n",
    "map_code_to_name['LC schema'] = 'LC schema'\n",
    "# map_code_to_name\n",
    "data_plot['full_name_parent'] = [map_code_to_name[x] for x in data_plot['parents']]"
   ]
  },
  {
   "cell_type": "code",
   "execution_count": 44,
   "metadata": {},
   "outputs": [
    {
     "data": {
      "text/plain": [
       "['C',\n",
       " 'C',\n",
       " 'C4',\n",
       " 'C',\n",
       " 'C4',\n",
       " 'C4',\n",
       " 'C',\n",
       " 'D1',\n",
       " 'D',\n",
       " 'D1',\n",
       " 'D2',\n",
       " 'D',\n",
       " 'D2',\n",
       " 'D',\n",
       " 'D6',\n",
       " 'D',\n",
       " 'D6',\n",
       " 'D6',\n",
       " 'E2',\n",
       " 'E',\n",
       " 'E2',\n",
       " 'F',\n",
       " 'F3',\n",
       " 'F',\n",
       " 'F3',\n",
       " 'G2',\n",
       " 'G',\n",
       " 'H1',\n",
       " 'H',\n",
       " 'H1',\n",
       " 'H1',\n",
       " 'H1',\n",
       " 'H2',\n",
       " 'H',\n",
       " 'H2',\n",
       " 'H3',\n",
       " 'H',\n",
       " 'H3',\n",
       " 'LC schema',\n",
       " 'LC schema',\n",
       " 'LC schema',\n",
       " 'LC schema',\n",
       " 'LC schema',\n",
       " 'LC schema',\n",
       " 'LC schema']"
      ]
     },
     "execution_count": 44,
     "metadata": {},
     "output_type": "execute_result"
    }
   ],
   "source": [
    "data_plot['parents']"
   ]
  }
 ],
 "metadata": {
  "kernelspec": {
   "display_name": "geo",
   "language": "python",
   "name": "python3"
  },
  "language_info": {
   "codemirror_mode": {
    "name": "ipython",
    "version": 3
   },
   "file_extension": ".py",
   "mimetype": "text/x-python",
   "name": "python",
   "nbconvert_exporter": "python",
   "pygments_lexer": "ipython3",
   "version": "3.7.13"
  },
  "orig_nbformat": 4
 },
 "nbformat": 4,
 "nbformat_minor": 2
}
