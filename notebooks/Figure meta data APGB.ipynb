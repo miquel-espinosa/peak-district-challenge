{
 "cells": [
  {
   "attachments": {},
   "cell_type": "markdown",
   "metadata": {},
   "source": [
    "## Notebook to create figures with APGB meta data\n",
    "Sources:\n",
    " - https://gis.stackexchange.com/questions/411376/wfs-layer-saved-as-a-shapefile\n",
    " - https://pcjericks.github.io/py-gdalogr-cookbook/vector_layers.html#get-wfs-layers-and-iterate-over-features\n",
    " "
   ]
  },
  {
   "cell_type": "code",
   "execution_count": 1,
   "metadata": {},
   "outputs": [],
   "source": [
    "%load_ext autoreload\n",
    "%autoreload 2"
   ]
  },
  {
   "cell_type": "code",
   "execution_count": 2,
   "metadata": {},
   "outputs": [
    {
     "name": "stderr",
     "output_type": "stream",
     "text": [
      "/home/tplas/anaconda3/envs/geo/lib/python3.7/site-packages/geopandas/_compat.py:115: UserWarning: The Shapely GEOS version (3.8.0-CAPI-1.13.1 ) is incompatible with the GEOS version PyGEOS was compiled with (3.10.4-CAPI-1.16.2). Conversions between both will be slow.\n",
      "  shapely_geos_version, geos_capi_version_string\n"
     ]
    },
    {
     "name": "stdout",
     "output_type": "stream",
     "text": [
      "WARNING: creating label mapping dictionary corresponding to LC80 schema (ie missing few classes)\n",
      "adding scrub\n",
      "splitting up heath\n",
      "adding wetland\n",
      "adding transport\n"
     ]
    }
   ],
   "source": [
    "from osgeo import ogr, osr, gdal\n",
    "import geopandas as gpd\n",
    "import sys\n",
    "from tqdm import tqdm \n",
    "import numpy as np\n",
    "import matplotlib.pyplot as plt\n",
    "import matplotlib as mpl \n",
    "sys.path.append('../scripts/')\n",
    "import loadpaths\n",
    "import land_cover_analysis as lca\n",
    "import land_cover_visualisation as lcv\n",
    "path_dict = loadpaths.loadpaths()"
   ]
  },
  {
   "cell_type": "code",
   "execution_count": 3,
   "metadata": {},
   "outputs": [],
   "source": [
    "df_tile_outlines = lca.load_pols(path_dict['landscape_character_grid_path'])\n",
    "df_pd_outline = lca.load_pols(path_dict['pd_outline'])\n",
    "## only keep tiles that intersect with pd _outline \n",
    "df_tile_outlines = df_tile_outlines[df_tile_outlines.intersects(df_pd_outline.unary_union)]\n",
    "df_tile_outlines = df_tile_outlines.reset_index(drop=True)\n",
    "assert len(df_tile_outlines) == 1617\n",
    "arr_tile_names = df_tile_outlines['PLAN_NO'].values\n"
   ]
  },
  {
   "cell_type": "code",
   "execution_count": 4,
   "metadata": {},
   "outputs": [],
   "source": [
    "# 'SE0d503' in arr_tile_names"
   ]
  },
  {
   "attachments": {},
   "cell_type": "markdown",
   "metadata": {},
   "source": [
    "## Method 1: use WFS layer to get info of all tiles:"
   ]
  },
  {
   "cell_type": "code",
   "execution_count": 5,
   "metadata": {},
   "outputs": [],
   "source": [
    "url = 'https://ogc.apps.midgard.airbusds-cint.com/apgb/wfs?service=WFS&guid=4cd2b5e0-41fd-41e1-90a8-09c2fb51cbf6&request=GetCapabilities'"
   ]
  },
  {
   "cell_type": "code",
   "execution_count": 6,
   "metadata": {},
   "outputs": [],
   "source": [
    "# Set the driver (optional)\n",
    "wfs_drv = ogr.GetDriverByName('WFS')\n",
    "\n",
    "# Speeds up querying WFS capabilities for services with alot of layers\n",
    "gdal.SetConfigOption('OGR_WFS_LOAD_MULTIPLE_LAYER_DEFN', 'NO')\n",
    "\n",
    "# Set config for paging. Works on WFS 2.0 services and WFS 1.0 and 1.1 with some other services.\n",
    "gdal.SetConfigOption('OGR_WFS_PAGING_ALLOWED', 'YES')\n",
    "gdal.SetConfigOption('OGR_WFS_PAGE_SIZE', '10000')\n",
    "\n",
    "# Open the webservice\n",
    "# url = 'http://example-service.com/wfs'\n",
    "wfs_ds = wfs_drv.Open('WFS:' + url)"
   ]
  },
  {
   "cell_type": "code",
   "execution_count": null,
   "metadata": {},
   "outputs": [],
   "source": [
    "if False:\n",
    "    ## Get info of all layers\n",
    "\n",
    "    # iterate over available layers\n",
    "    for i in range(wfs_ds.GetLayerCount()):\n",
    "        layer = wfs_ds.GetLayerByIndex(i)\n",
    "        srs = layer.GetSpatialRef()\n",
    "        print('i: %s, Layer: %s, Features: %s, SR: %s...' % (i, layer.GetName(), layer.GetFeatureCount(), srs.ExportToWkt()[0:50]))\n"
   ]
  },
  {
   "cell_type": "code",
   "execution_count": 8,
   "metadata": {},
   "outputs": [
    {
     "name": "stdout",
     "output_type": "stream",
     "text": [
      "Layer: apgb:AP-12CM5-GB-FOOTPRINTS-LATEST\n",
      "Features: 157622\n",
      "SR: PROJCS[\"OSGB 1936 / British National Grid\",GEOGCS[...\n"
     ]
    }
   ],
   "source": [
    "## Select layer:\n",
    "layer = wfs_ds.GetLayerByIndex(3)\n",
    "srs = layer.GetSpatialRef()\n",
    "layer_name = layer.GetName()\n",
    "n_features = layer.GetFeatureCount()\n",
    "print('Layer: %s\\nFeatures: %s\\nSR: %s...' % (layer_name, n_features, srs.ExportToWkt()[0:50]))\n"
   ]
  },
  {
   "cell_type": "code",
   "execution_count": 9,
   "metadata": {},
   "outputs": [
    {
     "name": "stderr",
     "output_type": "stream",
     "text": [
      "100%|██████████| 157622/157622 [05:12<00:00, 504.70it/s] \n"
     ]
    }
   ],
   "source": [
    "## Iterate over features\n",
    "refs_list, dates_list = [], []\n",
    "count = 0\n",
    "with tqdm(total=n_features) as pbar:\n",
    "    feat = layer.GetNextFeature()\n",
    "    while feat is not None:\n",
    "        pbar.update(1)\n",
    "        count += 1\n",
    "        km_ref = feat.GetField('kmreference')\n",
    "        if km_ref in arr_tile_names:\n",
    "            date_flown = feat.GetField('dateflown')\n",
    "            refs_list.append(km_ref)\n",
    "            dates_list.append(date_flown)\n",
    "            \n",
    "        feat = layer.GetNextFeature()\n",
    "        "
   ]
  },
  {
   "cell_type": "code",
   "execution_count": 11,
   "metadata": {},
   "outputs": [
    {
     "name": "stdout",
     "output_type": "stream",
     "text": [
      "Found 1617 tiles with date flown info\n"
     ]
    }
   ],
   "source": [
    "assert len(refs_list) == len(dates_list)\n",
    "assert len(refs_list) == 1617\n",
    "print('Found all %s tiles with date flown info' % len(refs_list))"
   ]
  },
  {
   "cell_type": "code",
   "execution_count": 12,
   "metadata": {},
   "outputs": [],
   "source": [
    "tile_list = []\n",
    "for tn in refs_list:\n",
    "    df_tmp = df_tile_outlines[df_tile_outlines['PLAN_NO'] == tn]\n",
    "    assert len(df_tmp) == 1\n",
    "    tile_list.append(df_tmp.iloc[0]['geometry'])"
   ]
  },
  {
   "cell_type": "code",
   "execution_count": 14,
   "metadata": {},
   "outputs": [],
   "source": [
    "df_dateflown = gpd.GeoDataFrame({'tile_name': refs_list, \n",
    "                                 'dateflown': dates_list, \n",
    "                                 'geometry': tile_list})"
   ]
  },
  {
   "cell_type": "code",
   "execution_count": 18,
   "metadata": {},
   "outputs": [
    {
     "data": {
      "text/plain": [
       "'2019-04-22T00:00:00Z'"
      ]
     },
     "execution_count": 18,
     "metadata": {},
     "output_type": "execute_result"
    }
   ],
   "source": [
    "df_dateflown['dateflown'].iloc[0]"
   ]
  },
  {
   "cell_type": "code",
   "execution_count": 55,
   "metadata": {},
   "outputs": [],
   "source": [
    "df_dateflown['year'] = df_dateflown['dateflown'].apply(lambda x: int(x.split('-')[0]))\n",
    "df_dateflown['month'] = df_dateflown['dateflown'].apply(lambda x: int(x.split('-')[1]))\n",
    "df_dateflown['day'] = df_dateflown['dateflown'].apply(lambda x: int(x.split('-')[2][:2]))\n",
    "df_dateflown['date'] = df_dateflown['dateflown'].apply(lambda x: x.split('T')[0])"
   ]
  },
  {
   "cell_type": "code",
   "execution_count": 57,
   "metadata": {},
   "outputs": [
    {
     "data": {
      "text/plain": [
       "array(['2019-04-22', '2020-05-31', '2020-05-06', '2021-05-30',\n",
       "       '2021-06-05', '2021-06-09', '2022-06-21'], dtype=object)"
      ]
     },
     "execution_count": 57,
     "metadata": {},
     "output_type": "execute_result"
    }
   ],
   "source": [
    "df_dateflown['date'].unique()"
   ]
  },
  {
   "cell_type": "code",
   "execution_count": 73,
   "metadata": {},
   "outputs": [
    {
     "data": {
      "image/png": "[encoded data removed]",
      "text/plain": [
       "<Figure size 400x400 with 1 Axes>"
      ]
     },
     "metadata": {},
     "output_type": "display_data"
    }
   ],
   "source": [
    "save_fig = True \n",
    "\n",
    "fig, ax = plt.subplots(1, 1, figsize=(4, 4))\n",
    "df_dateflown.plot(column='date', legend=True, ax=ax, \n",
    "                  legend_kwds={'loc': 'lower left', 'bbox_to_anchor': (1, 0), 'frameon': False},\n",
    "                  cmap=plt.cm.get_cmap('Dark2', len(df_dateflown['date'].unique())))\n",
    "ax.axis('off')\n",
    "ax.set_title('Date flown (latest 12.5cm APGB data)')\n",
    "\n",
    "if save_fig:\n",
    "    plt.savefig('../figures/fig_dateflown_12cm5_APGB.pdf', bbox_inches='tight')"
   ]
  },
  {
   "attachments": {},
   "cell_type": "markdown",
   "metadata": {},
   "source": [
    "## Method 2; read from XML of saved files"
   ]
  },
  {
   "cell_type": "code",
   "execution_count": 62,
   "metadata": {},
   "outputs": [],
   "source": [
    "import xml \n",
    "import os\n",
    "from bs4 import BeautifulSoup as bs4\n",
    "import pandas as pd \n",
    "import numpy as np\n",
    "\n",
    "## List of folders of all data (in Thijs' case it's split up in two folders, not on Turing server)\n",
    "dict_data_folders= {\n",
    "    'RGB_2010': ['/home/tplas/data/gis/DSG/second_batch/second_batch_data/12.5cm Aerial Photo/2010-2017/',\n",
    "                 '/home/tplas/data/gis/DSG/PDNPA_DSG_imagery_data/12.5cm Aerial Photo/2010-2017/'],\n",
    "    'RGB_2020': ['/home/tplas/data/gis/DSG/second_batch/second_batch_data/12.5cm Aerial Photo/2020-2021/',\n",
    "                 '/home/tplas/data/gis/DSG/PDNPA_DSG_imagery_data/12.5cm Aerial Photo/2020-2021/'],\n",
    "    'CIR_2010': ['/home/tplas/data/gis/DSG/second_batch/second_batch_data/50cm Colour Infrared/2007-2017/',\n",
    "                 '/home/tplas/data/gis/DSG/PDNPA_DSG_imagery_data/50cm Colour Infrared/2007-2017/'],\n",
    "    'CIR_2020': ['/home/tplas/data/gis/DSG/second_batch/second_batch_data/50cm Colour Infrared/2020-2021/',\n",
    "                 '/home/tplas/data/gis/DSG/PDNPA_DSG_imagery_data/50cm Colour Infrared/2020-2021/']\n",
    "                    }"
   ]
  },
  {
   "cell_type": "code",
   "execution_count": 84,
   "metadata": {},
   "outputs": [
    {
     "name": "stdout",
     "output_type": "stream",
     "text": [
      "Analysing RGB_2010 /home/tplas/data/gis/DSG/second_batch/second_batch_data/12.5cm Aerial Photo/2010-2017/\n",
      "Analysing RGB_2010 /home/tplas/data/gis/DSG/PDNPA_DSG_imagery_data/12.5cm Aerial Photo/2010-2017/\n",
      "Analysing RGB_2020 /home/tplas/data/gis/DSG/second_batch/second_batch_data/12.5cm Aerial Photo/2020-2021/\n",
      "Analysing RGB_2020 /home/tplas/data/gis/DSG/PDNPA_DSG_imagery_data/12.5cm Aerial Photo/2020-2021/\n",
      "Analysing CIR_2010 /home/tplas/data/gis/DSG/second_batch/second_batch_data/50cm Colour Infrared/2007-2017/\n",
      "Analysing CIR_2010 /home/tplas/data/gis/DSG/PDNPA_DSG_imagery_data/50cm Colour Infrared/2007-2017/\n",
      "Analysing CIR_2020 /home/tplas/data/gis/DSG/second_batch/second_batch_data/50cm Colour Infrared/2020-2021/\n",
      "Analysing CIR_2020 /home/tplas/data/gis/DSG/PDNPA_DSG_imagery_data/50cm Colour Infrared/2020-2021/\n"
     ]
    }
   ],
   "source": [
    "dict_dateflown = {}\n",
    "list_dual = []\n",
    "\n",
    "for key, folders in dict_data_folders.items():  # loop through all data folders\n",
    "    dict_dateflown[key] = {}\n",
    "    for fol in folders:\n",
    "        print('Analysing', key, fol)\n",
    "        list_tiles = os.listdir(fol)\n",
    "        for tile in list_tiles:  # loop through all tile folders \n",
    "            files_tile = os.listdir(os.path.join(fol, tile))\n",
    "            files_tile = [f for f in files_tile if f.endswith('.xml')]  # get xml \n",
    "            assert len(files_tile) == 1\n",
    "            name_tile = files_tile[0].split('.')[0] # name of tile (eg SK0909)\n",
    "            xml_file = os.path.join(fol, tile, files_tile[0])\n",
    "            with open(xml_file, 'r') as f:\n",
    "                xml_data = f.read()\n",
    "            soup = bs4(xml_data, 'xml')\n",
    "            soup_df = soup.find('dateFlown')  # for older dates, dateFlown is used\n",
    "            if soup_df is not None:\n",
    "                date_flown = soup_df.text\n",
    "                soup_df_tmp = soup.find_all('dateFlown')\n",
    "                if len(soup_df_tmp) > 1:\n",
    "                    list_dual.append([name_tile, key, fol, files_tile[0]])\n",
    "            else:\n",
    "                soup_df = soup.find('DateTime')  # for newer dates, DateTime is used\n",
    "                if soup_df is not None:\n",
    "                    date_flown = soup_df.text[:10]  # go to yyyy-mm-dd format (ignore time)\n",
    "                    soup_df_tmp = soup.find_all('DateTime')\n",
    "                    if len(soup_df_tmp) > 1:\n",
    "                        print('date captured')\n",
    "                        list_dual.append([name_tile, key, fol, files_tile[0]])\n",
    "                else:\n",
    "                    assert False, soup \n",
    "            assert name_tile not in dict_dateflown[key]\n",
    "            dict_dateflown[key][name_tile] = date_flown  # insert date flown into dict\n",
    "            "
   ]
  },
  {
   "cell_type": "code",
   "execution_count": 85,
   "metadata": {},
   "outputs": [
    {
     "data": {
      "text/plain": [
       "[['SK0698',\n",
       "  'RGB_2010',\n",
       "  '/home/tplas/data/gis/DSG/second_batch/second_batch_data/12.5cm Aerial Photo/2010-2017/',\n",
       "  'SK0698.xml'],\n",
       " ['SK0598',\n",
       "  'RGB_2010',\n",
       "  '/home/tplas/data/gis/DSG/second_batch/second_batch_data/12.5cm Aerial Photo/2010-2017/',\n",
       "  'SK0598.xml'],\n",
       " ['SK1862',\n",
       "  'RGB_2010',\n",
       "  '/home/tplas/data/gis/DSG/second_batch/second_batch_data/12.5cm Aerial Photo/2010-2017/',\n",
       "  'SK1862.xml'],\n",
       " ['SK0498',\n",
       "  'RGB_2010',\n",
       "  '/home/tplas/data/gis/DSG/second_batch/second_batch_data/12.5cm Aerial Photo/2010-2017/',\n",
       "  'SK0498.xml'],\n",
       " ['SK1196',\n",
       "  'RGB_2010',\n",
       "  '/home/tplas/data/gis/DSG/PDNPA_DSG_imagery_data/12.5cm Aerial Photo/2010-2017/',\n",
       "  'SK1196.xml'],\n",
       " ['SE0504',\n",
       "  'CIR_2010',\n",
       "  '/home/tplas/data/gis/DSG/PDNPA_DSG_imagery_data/50cm Colour Infrared/2007-2017/',\n",
       "  'SE0504.xml'],\n",
       " ['SK1260',\n",
       "  'CIR_2010',\n",
       "  '/home/tplas/data/gis/DSG/PDNPA_DSG_imagery_data/50cm Colour Infrared/2007-2017/',\n",
       "  'SK1260.xml'],\n",
       " ['SE0407',\n",
       "  'CIR_2010',\n",
       "  '/home/tplas/data/gis/DSG/PDNPA_DSG_imagery_data/50cm Colour Infrared/2007-2017/',\n",
       "  'SE0407.xml'],\n",
       " ['SK1154',\n",
       "  'CIR_2010',\n",
       "  '/home/tplas/data/gis/DSG/PDNPA_DSG_imagery_data/50cm Colour Infrared/2007-2017/',\n",
       "  'SK1154.xml'],\n",
       " ['SE0505',\n",
       "  'CIR_2010',\n",
       "  '/home/tplas/data/gis/DSG/PDNPA_DSG_imagery_data/50cm Colour Infrared/2007-2017/',\n",
       "  'SE0505.xml'],\n",
       " ['SK0853',\n",
       "  'CIR_2010',\n",
       "  '/home/tplas/data/gis/DSG/PDNPA_DSG_imagery_data/50cm Colour Infrared/2007-2017/',\n",
       "  'SK0853.xml']]"
      ]
     },
     "execution_count": 85,
     "metadata": {},
     "output_type": "execute_result"
    }
   ],
   "source": [
    "list_dual"
   ]
  },
  {
   "cell_type": "code",
   "execution_count": 77,
   "metadata": {},
   "outputs": [
    {
     "data": {
      "text/html": [
       "<div>\n",
       "<style scoped>\n",
       "    .dataframe tbody tr th:only-of-type {\n",
       "        vertical-align: middle;\n",
       "    }\n",
       "\n",
       "    .dataframe tbody tr th {\n",
       "        vertical-align: top;\n",
       "    }\n",
       "\n",
       "    .dataframe thead th {\n",
       "        text-align: right;\n",
       "    }\n",
       "</style>\n",
       "<table border=\"1\" class=\"dataframe\">\n",
       "  <thead>\n",
       "    <tr style=\"text-align: right;\">\n",
       "      <th></th>\n",
       "      <th>RGB_2010</th>\n",
       "      <th>RGB_2020</th>\n",
       "      <th>CIR_2010</th>\n",
       "      <th>CIR_2020</th>\n",
       "    </tr>\n",
       "  </thead>\n",
       "  <tbody>\n",
       "    <tr>\n",
       "      <th>SK0698</th>\n",
       "      <td>2011-10-08</td>\n",
       "      <td>2021-05-30</td>\n",
       "      <td>2010-08-16</td>\n",
       "      <td>2021-05-30</td>\n",
       "    </tr>\n",
       "    <tr>\n",
       "      <th>SK2462</th>\n",
       "      <td>2010-10-25</td>\n",
       "      <td>2020-05-06</td>\n",
       "      <td>2007-09-26</td>\n",
       "      <td>2020-12-23</td>\n",
       "    </tr>\n",
       "    <tr>\n",
       "      <th>SK1669</th>\n",
       "      <td>2017-04-08</td>\n",
       "      <td>2020-05-31</td>\n",
       "      <td>2017-04-08</td>\n",
       "      <td>2020-12-23</td>\n",
       "    </tr>\n",
       "    <tr>\n",
       "      <th>SK1375</th>\n",
       "      <td>2018-05-20</td>\n",
       "      <td>2020-05-31</td>\n",
       "      <td>2018-05-20</td>\n",
       "      <td>2020-12-23</td>\n",
       "    </tr>\n",
       "    <tr>\n",
       "      <th>SK0598</th>\n",
       "      <td>2011-10-08</td>\n",
       "      <td>2021-05-30</td>\n",
       "      <td>2010-08-16</td>\n",
       "      <td>2021-05-30</td>\n",
       "    </tr>\n",
       "    <tr>\n",
       "      <th>...</th>\n",
       "      <td>...</td>\n",
       "      <td>...</td>\n",
       "      <td>...</td>\n",
       "      <td>...</td>\n",
       "    </tr>\n",
       "    <tr>\n",
       "      <th>SK0888</th>\n",
       "      <td>2011-09-28</td>\n",
       "      <td>2021-05-30</td>\n",
       "      <td>2010-06-16</td>\n",
       "      <td>2021-05-30</td>\n",
       "    </tr>\n",
       "    <tr>\n",
       "      <th>SK1588</th>\n",
       "      <td>2011-09-28</td>\n",
       "      <td>2021-05-30</td>\n",
       "      <td>2010-06-16</td>\n",
       "      <td>2021-05-30</td>\n",
       "    </tr>\n",
       "    <tr>\n",
       "      <th>SJ9679</th>\n",
       "      <td>2010-10-17</td>\n",
       "      <td>2020-05-31</td>\n",
       "      <td>2011-04-08</td>\n",
       "      <td>2020-12-23</td>\n",
       "    </tr>\n",
       "    <tr>\n",
       "      <th>SK1092</th>\n",
       "      <td>2011-09-28</td>\n",
       "      <td>2021-05-30</td>\n",
       "      <td>2010-06-16</td>\n",
       "      <td>2021-05-30</td>\n",
       "    </tr>\n",
       "    <tr>\n",
       "      <th>SK1087</th>\n",
       "      <td>2011-09-28</td>\n",
       "      <td>2021-05-30</td>\n",
       "      <td>2010-06-17</td>\n",
       "      <td>2021-05-30</td>\n",
       "    </tr>\n",
       "  </tbody>\n",
       "</table>\n",
       "<p>89 rows × 4 columns</p>\n",
       "</div>"
      ],
      "text/plain": [
       "          RGB_2010    RGB_2020    CIR_2010    CIR_2020\n",
       "SK0698  2011-10-08  2021-05-30  2010-08-16  2021-05-30\n",
       "SK2462  2010-10-25  2020-05-06  2007-09-26  2020-12-23\n",
       "SK1669  2017-04-08  2020-05-31  2017-04-08  2020-12-23\n",
       "SK1375  2018-05-20  2020-05-31  2018-05-20  2020-12-23\n",
       "SK0598  2011-10-08  2021-05-30  2010-08-16  2021-05-30\n",
       "...            ...         ...         ...         ...\n",
       "SK0888  2011-09-28  2021-05-30  2010-06-16  2021-05-30\n",
       "SK1588  2011-09-28  2021-05-30  2010-06-16  2021-05-30\n",
       "SJ9679  2010-10-17  2020-05-31  2011-04-08  2020-12-23\n",
       "SK1092  2011-09-28  2021-05-30  2010-06-16  2021-05-30\n",
       "SK1087  2011-09-28  2021-05-30  2010-06-17  2021-05-30\n",
       "\n",
       "[89 rows x 4 columns]"
      ]
     },
     "execution_count": 77,
     "metadata": {},
     "output_type": "execute_result"
    }
   ],
   "source": [
    "df_dateflown = pd.DataFrame(dict_dateflown)\n",
    "df_dateflown"
   ]
  },
  {
   "cell_type": "code",
   "execution_count": 70,
   "metadata": {},
   "outputs": [],
   "source": [
    "df_dateflown.to_csv('../content/dates_imagery/df_dateflown.csv')"
   ]
  },
  {
   "cell_type": "code",
   "execution_count": 69,
   "metadata": {},
   "outputs": [
    {
     "name": "stdout",
     "output_type": "stream",
     "text": [
      "RGB_2010 ['2011-10-08' '2010-10-25' '2017-04-08' '2018-05-20' '2011-09-28'\n",
      " '2010-10-20' '2012-05-28' '2012-03-26' '2010-10-17']\n",
      "RGB_2020 ['2021-05-30' '2020-05-06' '2020-05-31' '2021-06-05' '2021-06-09'\n",
      " '2021-08-02']\n",
      "CIR_2010 ['2010-08-16' '2007-09-26' '2017-04-08' '2018-05-20' '2009-08-08'\n",
      " '2007-08-23' '2010-06-16' '2010-06-17' '2009-05-31' '2009-05-30'\n",
      " '2011-04-08' '2009-09-10' '2011-05-01']\n",
      "CIR_2020 ['2021-05-30' '2020-12-23' '2021-06-05' '2021-06-09' '2021-08-02']\n"
     ]
    }
   ],
   "source": [
    "## Unique dates flown:\n",
    "for c in df_dateflown.columns:\n",
    "    print(c, df_dateflown[c].unique())"
   ]
  }
 ],
 "metadata": {
  "kernelspec": {
   "display_name": "geo",
   "language": "python",
   "name": "python3"
  },
  "language_info": {
   "codemirror_mode": {
    "name": "ipython",
    "version": 3
   },
   "file_extension": ".py",
   "mimetype": "text/x-python",
   "name": "python",
   "nbconvert_exporter": "python",
   "pygments_lexer": "ipython3",
   "version": "3.7.13"
  },
  "orig_nbformat": 4
 },
 "nbformat": 4,
 "nbformat_minor": 2
}
