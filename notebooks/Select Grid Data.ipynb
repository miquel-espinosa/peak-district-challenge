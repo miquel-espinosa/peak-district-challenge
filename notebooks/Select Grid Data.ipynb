{
 "cells": [
  {
   "cell_type": "code",
   "execution_count": 3,
   "id": "15731465",
   "metadata": {},
   "outputs": [],
   "source": [
    "import geopandas as gpd\n",
    "import os"
   ]
  },
  {
   "attachments": {},
   "cell_type": "markdown",
   "id": "04be47e2",
   "metadata": {},
   "source": [
    "## Thijs' code:\n",
    "### Seeing if missing RGB and IR are same/differnet:"
   ]
  },
  {
   "cell_type": "code",
   "execution_count": 21,
   "id": "0706239e",
   "metadata": {},
   "outputs": [
    {
     "name": "stdout",
     "output_type": "stream",
     "text": [
      "rgb data from 2020-2021 contains 78 files\n",
      "rgb data from 2010-2017 contains 78 files\n",
      "ir data from 2007-2017 contains 78 files\n",
      "ir data from 2020-2021 contains 78 files\n",
      "# of tiles in IR but NOT in RGB: 0\n",
      "# of tiles in RGB but NOT in IR: 0\n"
     ]
    }
   ],
   "source": [
    "## Using the directory stucture I made for the DSG: ( /RGB/date/images/ )\n",
    "\n",
    "folder_rgb = '/media/thijs/hooghoudt/GIS projects/PD/DSG/PDNPA_DSG_imagery_data/12.5cm Aerial Photo'\n",
    "folder_ir = '/media/thijs/hooghoudt/GIS projects/PD/DSG/PDNPA_DSG_imagery_data/50cm Colour Infrared' \n",
    "folder_data = {'rgb': folder_rgb, 'ir': folder_ir}\n",
    "date_folders = dict() \n",
    "list_tiles = dict()\n",
    "\n",
    "set_all_tiles = []\n",
    "\n",
    "for key, fol in folder_data.items():  # loop through RGB and IR\n",
    "    date_folders[key] = os.listdir(fol)\n",
    "    list_tiles[key] = dict()\n",
    "    for date in date_folders[key]:  # loop through old and new dates\n",
    "        list_tiles[key][date] = []\n",
    "        current_folder = os.path.join(fol, date)\n",
    "        apgb_data = os.listdir(current_folder)  # list all folders (containing 1 tile each) for this data set\n",
    "        for apgb_folder in apgb_data:\n",
    "            files_apgb = os.listdir(os.path.join(current_folder, apgb_folder))\n",
    "            files_apgb = [x[:6] for x in files_apgb if x[-4:] == '.tif']  # get tile name \n",
    "            assert len(files_apgb) == 1, 'expected only 1 tif file'\n",
    "            list_tiles[key][date].append(files_apgb[0])  # append tile name \n",
    "\n",
    "        print(f'{key} data from {date} contains {len(list_tiles[key][date])} files')\n",
    "    set_all_tiles = set_all_tiles + list_tiles[key][date]\n",
    "set_all_tiles = set(set_all_tiles)\n",
    "## Turn into sets to look at difference between IR and RGB sets:\n",
    "set_rgb_old = set(list_tiles['rgb']['2010-2017'])\n",
    "set_ir_old = set(list_tiles['ir']['2007-2017'])\n",
    "\n",
    "diff_ir_rgb = set_ir_old - set_rgb_old\n",
    "diff_rgb_ir = set_rgb_old - set_ir_old\n",
    "\n",
    "print(f'# of tiles in IR but NOT in RGB: {len(diff_ir_rgb)}')\n",
    "print(f'# of tiles in RGB but NOT in IR: {len(diff_rgb_ir)}')"
   ]
  },
  {
   "cell_type": "code",
   "execution_count": 22,
   "id": "28a77ed6",
   "metadata": {},
   "outputs": [
    {
     "name": "stdout",
     "output_type": "stream",
     "text": [
      "0\n"
     ]
    },
    {
     "data": {
      "text/plain": [
       "[]"
      ]
     },
     "execution_count": 22,
     "metadata": {},
     "output_type": "execute_result"
    }
   ],
   "source": [
    "diff_new_old = dict()\n",
    "missing_tiles = dict()\n",
    "for key, fol in folder_data.items():\n",
    "    assert key in ['rgb', 'ir'], 'unexpected key'\n",
    "    date_folders[key].sort()\n",
    "    assert len(date_folders[key]) == 2 and date_folders[key][1][:4] == '2020', 'format not as expected'\n",
    "    date_old = date_folders[key][0]\n",
    "    date_new = date_folders[key][1]\n",
    "    set_new = set(list_tiles[key][date_new])\n",
    "    set_old = set(list_tiles[key][date_old])\n",
    "\n",
    "    assert len(set_old - set_new) == 0, 'did not expect new data missing'\n",
    "    missing_tiles[key] = set_new - set_old\n",
    "\n",
    "missing_tiles_total = list(missing_tiles['rgb'].union(missing_tiles['ir']))\n",
    "print(len(missing_tiles_total))\n",
    "t_missing = missing_tiles_total\n",
    "t_missing\n",
    "\n"
   ]
  },
  {
   "attachments": {},
   "cell_type": "markdown",
   "id": "45bae614",
   "metadata": {},
   "source": [
    "### Order David's new tiles:"
   ]
  },
  {
   "cell_type": "code",
   "execution_count": 17,
   "id": "7e23d471",
   "metadata": {},
   "outputs": [
    {
     "name": "stdout",
     "output_type": "stream",
     "text": [
      "45 new tiles selected\n",
      "0 new tiles that werent selected before\n"
     ]
    }
   ],
   "source": [
    "\n",
    "t_add = ['SK0786', 'SK0787', 'SK0789', 'SK0886', 'SK0888',\n",
    "         'SK0889', 'SK1086', 'SK1087', 'SK1088', 'SK1187',\n",
    "         'SK1188', 'SK1287', 'SK1288', 'SK1387', 'SK1388',\n",
    "         'SK0993', 'SK0894', 'SK0994', 'SK0895', 'SK0995',\n",
    "         'SK1095', 'SK0996', 'SK1096', 'SK1196', 'SK0897',\n",
    "         'SK0997', 'SK1097', 'SE0805', 'SE0905', 'SE0704',\n",
    "         'SE0804', 'SE0904', 'SE0903', 'SE1103', 'SK2585',\n",
    "         'SK2584', 'SK1092', 'SK1075', 'SK0076', 'SE0504']\n",
    "\n",
    "t_wp = ['SK1369', 'SK1767', 'SK1977', 'SK0853', 'SK1260']\n",
    "\n",
    "t_add = t_add + t_wp\n",
    "t_current = list(set_all_tiles)\n",
    "# path_current_80_tiles = '/home/thijs/repos/cnn-land-cover/content/evaluation_sample_50tiles/eval_all_tile_outlines/eval_all_tile_outlines.shp'\n",
    "# df_80_tiles = gpd.read_file(path_current_80_tiles)\n",
    "# t_current = list(df_80_tiles['PLAN_NO'])\n",
    "\n",
    "print(f'{len(t_add)} new tiles selected')\n",
    "\n",
    "t_add_unique = list(set(t_add) - set(t_current))\n",
    "print(f'{len(t_add_unique)} new tiles that werent selected before')\n",
    "\n",
    "path_tiles = '/home/thijs/Google Drive/peak district/data/Landscape_Character_Grid 2019-08-29 09-57-26/Landscape_Character_Grid.shp'\n",
    "df_tiles = gpd.read_file(path_tiles)\n",
    "# df_tiles_add = df_tiles[df_tiles['PLAN_NO'].isin(t_add_unique)]\n",
    "\n",
    "# path_save = '/home/thijs/repos/cnn-land-cover/content/evaluation_sample_50tiles/eval_40_new_change_tiles/eval_40_new_change_tiles.shp'\n",
    "# df_tiles_add.to_file(path_save)\n"
   ]
  },
  {
   "attachments": {},
   "cell_type": "markdown",
   "id": "49783273",
   "metadata": {},
   "source": [
    "1. Remove incomplete data points\n",
    "2. See how many old tiles need to be removed to insert all new tiles (or remove selection of tiles such that the total is not exactly 80)\n",
    "3. Remove that many old tiles. \n",
    "4. Insert new tiles"
   ]
  },
  {
   "cell_type": "code",
   "execution_count": 18,
   "id": "3b327d9f",
   "metadata": {},
   "outputs": [
    {
     "name": "stdout",
     "output_type": "stream",
     "text": [
      "There are 80 current tiles\n",
      "There are 2 missing/incomplete tiles\n",
      "There are 10 no-change tiles\n",
      "There are 0 new tiles\n"
     ]
    }
   ],
   "source": [
    "t_no_change = ['SK1661', 'SK1154', 'SK0852',\n",
    "                'SK0752', 'SK0554', 'SK0456', 'SK1056', 'SK1357',\n",
    "                'SK1258', 'SK1959', 'SK1360', 'SK2161', 'SK1871',\n",
    "                'SK1672', 'SJ9679', 'SK0981', 'SK1082', 'SK1683',\n",
    "                'SK0684', 'SK0685', 'SK0686', 'SK1588', 'SK1690',\n",
    "                'SK0790', 'SK2091', 'SK1992', 'SK0595', 'SK2496',\n",
    "                'SK2396', 'SK1998', 'SK1798', 'SE1400', 'SE0800',\n",
    "                'SE1203', 'SE1003']\n",
    "\n",
    "print(f'There are {len(t_current)} current tiles')\n",
    "\n",
    "## Remove names that are NOT in t_current\n",
    "t_no_change = [x for x in t_no_change if x in t_current]\n",
    "t_missing = [x for x in t_missing if x in t_current]\n",
    "## Remove names that ARE in t_current\n",
    "t_add = [x for x in t_add if x not in t_current]\n",
    "\n",
    "print(f'There are {len(t_missing)} missing/incomplete tiles')\n",
    "print(f'There are {len(t_no_change)} no-change tiles')\n",
    "print(f'There are {len(t_add)} new tiles')\n",
    "\n"
   ]
  },
  {
   "attachments": {},
   "cell_type": "markdown",
   "id": "ff90d5ce",
   "metadata": {},
   "source": [
    "## Delete old files:"
   ]
  },
  {
   "cell_type": "code",
   "execution_count": 20,
   "id": "3aca0ca3",
   "metadata": {},
   "outputs": [
    {
     "name": "stdout",
     "output_type": "stream",
     "text": [
      "['SK1977', 'SK1767']\n",
      "2 tiles to be deleted\n",
      "2 tile folders will be deleted for /media/thijs/hooghoudt/GIS projects/PD/DSG/PDNPA_DSG_imagery_data/2m Digital Surface Model\n",
      "deleted\n",
      "0 tile folders will be deleted for /media/thijs/hooghoudt/GIS projects/PD/DSG/PDNPA_DSG_imagery_data/12.5cm Aerial Photo/2010-2017\n",
      "deleted\n",
      "1 tile folders will be deleted for /media/thijs/hooghoudt/GIS projects/PD/DSG/PDNPA_DSG_imagery_data/50cm Colour Infrared/2007-2017\n",
      "deleted\n",
      "2 tile folders will be deleted for /media/thijs/hooghoudt/GIS projects/PD/DSG/PDNPA_DSG_imagery_data/12.5cm Aerial Photo/2020-2021\n",
      "deleted\n",
      "2 tile folders will be deleted for /media/thijs/hooghoudt/GIS projects/PD/DSG/PDNPA_DSG_imagery_data/50cm Colour Infrared/2020-2021\n",
      "deleted\n",
      "2 tile folders will be deleted for /media/thijs/hooghoudt/GIS projects/PD/DSG/PDNPA_DSG_imagery_data/5m Digital Terrain Model\n",
      "deleted\n"
     ]
    }
   ],
   "source": [
    "import shutil \n",
    "import numpy as np \n",
    "\n",
    "folder_delete = '/media/thijs/hooghoudt/GIS projects/PD/DSG/PDNPA_DSG_imagery_data/'\n",
    "bool_delete = True\n",
    "\n",
    "\n",
    "# n_delete = len(t_add) \n",
    "# n_del_no_change = n_delete - len(t_missing)\n",
    "# assert n_del_no_change <= len(t_no_change)\n",
    "\n",
    "# inds_random_del = np.random.choice(a=len(t_no_change), size=n_del_no_change, replace=False)\n",
    "# t_no_change_del = [t_no_change[x] for x in inds_random_del]\n",
    "# t_del = t_no_change_del + t_missing \n",
    "# assert len(t_del) == len(t_add)\n",
    "\n",
    "t_del = t_missing\n",
    "assert len(t_del) == 2\n",
    "print(t_del)\n",
    "print(f'{len(t_del)} tiles to be deleted')\n",
    "\n",
    "# subfolders_delete = [os.path.join(folder_delete, x) for x in os.listdir(folder_delete) \n",
    "#                      if os.path.isdir(os.path.join(folder_delete, x))]\n",
    "subfolders_delete = ['/media/thijs/hooghoudt/GIS projects/PD/DSG/PDNPA_DSG_imagery_data/2m Digital Surface Model',\n",
    "                    '/media/thijs/hooghoudt/GIS projects/PD/DSG/PDNPA_DSG_imagery_data/12.5cm Aerial Photo/2010-2017',\n",
    "                    '/media/thijs/hooghoudt/GIS projects/PD/DSG/PDNPA_DSG_imagery_data/50cm Colour Infrared/2007-2017',\n",
    "                    '/media/thijs/hooghoudt/GIS projects/PD/DSG/PDNPA_DSG_imagery_data/12.5cm Aerial Photo/2020-2021',\n",
    "                    '/media/thijs/hooghoudt/GIS projects/PD/DSG/PDNPA_DSG_imagery_data/50cm Colour Infrared/2020-2021',\n",
    "                    '/media/thijs/hooghoudt/GIS projects/PD/DSG/PDNPA_DSG_imagery_data/5m Digital Terrain Model']\n",
    "\n",
    "for sf in subfolders_delete:\n",
    "    tile_folders = [os.path.join(sf, x) for x in os.listdir(sf)]\n",
    "    list_tf_delete = []\n",
    "    for tf in tile_folders:\n",
    "        content_tf = os.listdir(tf)\n",
    "        tilename_tf = [x[:6] for x in os.listdir(tf) if x[-4:] == '.tif']\n",
    "        assert len(tilename_tf) == 1, tilename_tf\n",
    "        tilename_tf = tilename_tf[0]\n",
    "\n",
    "        if tilename_tf in t_del: \n",
    "            list_tf_delete.append(tf)\n",
    "\n",
    "    print(f'{len(list_tf_delete)} tile folders will be deleted for {sf}')\n",
    "    if bool_delete:\n",
    "        for tf in list_tf_delete:\n",
    "            shutil.rmtree(tf)\n",
    "        print('deleted')"
   ]
  },
  {
   "attachments": {},
   "cell_type": "markdown",
   "id": "bc524999",
   "metadata": {},
   "source": [
    "## David's code:"
   ]
  },
  {
   "cell_type": "code",
   "execution_count": 4,
   "id": "48886bdf",
   "metadata": {},
   "outputs": [
    {
     "name": "stdout",
     "output_type": "stream",
     "text": [
      "['SK0075', 'SK1360', 'SK0567', 'SK1588', 'SK2461', 'SK0456', 'SK0752', 'SK2161', 'SK1975', 'SK1661', 'SJ9679', 'SK1992', 'SK2196', 'SK1959', 'SK2777', 'SK0987', 'SE0800', 'SE0705', 'SK1874', 'SK0981', 'SE1203', 'SK0956', 'SK1258', 'SK1082', 'SK2677', 'SK0464', 'SK0852', 'SK1894', 'SK2484', 'SJ9772', 'SE1400', 'SK1154', 'SK1998', 'SK1399', 'SK1776', 'SK0077', 'SK0667', 'SK0961', 'SE0505', 'SK1472', 'SK1672', 'SK0988', 'SK0790', 'SK0879', 'SK0366', 'SK2055', 'SK1690', 'SK1464', 'SK2091', 'SK1566', 'SK0595', 'SK1683', 'SJ9566', 'SE1100', 'SK2074', 'SK2096', 'SK1357', 'SK1091', 'SK1871', 'SK2496', 'SE0503', 'SE0407', 'SK1568', 'SE1003', 'SK0686', 'SK0554', 'SK2396', 'SK0860', 'SK0665', 'SK1798', 'SK1797', 'SK1056', 'SK1778', 'SK0685', 'SK0896', 'SK0971', 'SK0682', 'SK0684', 'SK1896', 'SK0369']\n",
      "80\n"
     ]
    }
   ],
   "source": [
    "# select 80 tile names from files\n",
    "\n",
    "# training tiles (in with my 80 tiles AP)\n",
    "tr_t = ['SE1301','SK0560', 'SK0792', 'SK0796', 'SK1095', 'SK1295', 'SK2391', 'SK2479', 'SK2567', 'SK2669', 'SK2969']\n",
    "\n",
    "# store the file names in a list\n",
    "t_80 = []\n",
    "\n",
    "# list\n",
    "for x in os.listdir('C:/Users/alexad/Documents/ArcGIS/Projects/APGB/AP'):\n",
    "    if x.endswith(\".tab\"):\n",
    "        t_80.append(os.path.splitext(x)[0])\n",
    "\n",
    "# remove training tiles from list\n",
    "t_80 = list(set(t_80) - set(tr_t))\n",
    "\n",
    "print(t_80)\n",
    "print(len(t_80)) # 80 we're OK (save them here)"
   ]
  },
  {
   "cell_type": "code",
   "execution_count": 5,
   "id": "768ea107",
   "metadata": {},
   "outputs": [
    {
     "name": "stdout",
     "output_type": "stream",
     "text": [
      "['SK0369', 'SK0456', 'SK0554', 'SK0684', 'SK0685', 'SK0686', 'SE0503', 'SK0752', 'SK0790', 'SK0852', 'SK0896', 'SK0961', 'SK0988', 'SK1357', 'SK1360', 'SK1399', 'SE0705', 'SK1472', 'SK1588', 'SK1661', 'SK1683', 'SK1798', 'SK1871', 'SE0800', 'SK1896', 'SK1992', 'SK1998', 'SK2055', 'SK2091', 'SK2096', 'SK2196', 'SK2496', 'SE1203', 'SE0407', 'SE0505', 'SE1003', 'SE1100', 'SK0075', 'SK0595', 'SK0860', 'SE1400', 'SK0956', 'SK0971', 'SK0981', 'SK0987', 'SK1056', 'SK1082', 'SK1091', 'SK1154', 'SK1258', 'SK1672', 'SK1690', 'SK1797', 'SK1894', 'SK1959', 'SK2161', 'SK2396', 'SK2461', 'SK2484', 'SJ9679']\n",
      "60\n"
     ]
    }
   ],
   "source": [
    "# lets see which of the 80 tiles have no ~2010 data (more complicated as in subfolders) we may as well remove them from our 80 anyway\n",
    "\n",
    "# store the file names in a list\n",
    "t_2010 = []\n",
    "\n",
    "# top level path\n",
    "path = 'C:/Users/alexad/Documents/ArcGIS/Projects/APGB/12.5cm_2010'\n",
    "\n",
    "# walk through the directory structure\n",
    "for (root, dirs, file) in os.walk(path):\n",
    "    for f in file:\n",
    "        if '.tab' in f:\n",
    "            t_2010.append(os.path.splitext(f)[0])\n",
    "\n",
    "print(t_2010)\n",
    "print(len(t_2010)) # 60 we're OK (save them here)"
   ]
  },
  {
   "cell_type": "code",
   "execution_count": 6,
   "id": "215c07ac",
   "metadata": {},
   "outputs": [
    {
     "name": "stdout",
     "output_type": "stream",
     "text": [
      "['SK0879', 'SK0366', 'SK0567', 'SK1464', 'SK1566', 'SJ9566', 'SK1975', 'SK2074', 'SK2777', 'SK1874', 'SK1568', 'SK2677', 'SK0464', 'SJ9772', 'SK0665', 'SK1776', 'SK0077', 'SK1778', 'SK0667', 'SK0682']\n",
      "20\n"
     ]
    }
   ],
   "source": [
    "# lets find the items from ~2010 with no ~2022 available\n",
    "t_2010 = list(set(t_80) - set(t_2010))\n",
    "\n",
    "print(t_2010)\n",
    "print(len(t_2010)) # 20 we're OK (save them here)"
   ]
  },
  {
   "cell_type": "code",
   "execution_count": 7,
   "id": "3aea75ad",
   "metadata": {},
   "outputs": [
    {
     "name": "stdout",
     "output_type": "stream",
     "text": [
      "['SK0075', 'SK1360', 'SK1588', 'SK2461', 'SK0456', 'SK2055', 'SK1690', 'SK0752', 'SK2091', 'SK0595', 'SK1683', 'SK2161', 'SE1100', 'SK1896', 'SK1661', 'SJ9679', 'SK1992', 'SK1672', 'SK2096', 'SK2196', 'SK1357', 'SK1959', 'SK1091', 'SK0987', 'SE0800', 'SE0705', 'SK0981', 'SK1871', 'SK2496', 'SE1203', 'SK0956', 'SE0503', 'SE0407', 'SK1258', 'SE1003', 'SK1082', 'SK0686', 'SK0554', 'SK2396', 'SK1894', 'SK2484', 'SK0852', 'SE1400', 'SK1998', 'SK1154', 'SK0860', 'SK1399', 'SK1798', 'SK1797', 'SK1056', 'SK0685', 'SK0896', 'SK0961', 'SE0505', 'SK1472', 'SK0971', 'SK0684', 'SK0988', 'SK0790', 'SK0369']\n",
      "60\n"
     ]
    }
   ],
   "source": [
    "# lets remove these from the original list to create a fresh list\n",
    "t_2022 = list(set(t_80) - set(t_2010))\n",
    "\n",
    "print(t_2022)\n",
    "print(len(t_2022)) # 60 we're OK (save them here)"
   ]
  },
  {
   "cell_type": "code",
   "execution_count": 8,
   "metadata": {},
   "outputs": [
    {
     "name": "stdout",
     "output_type": "stream",
     "text": [
      "35\n",
      "['SK0075', 'SK2461', 'SK2055', 'SE1100', 'SK1896', 'SK2096', 'SK2196', 'SK1091', 'SK0987', 'SE0705', 'SE0503', 'SK0956', 'SE0407', 'SK1894', 'SK0860', 'SK2484', 'SK1399', 'SK1797', 'SK0896', 'SK0961', 'SE0505', 'SK1472', 'SK0971', 'SK0988', 'SK0369']\n",
      "25\n"
     ]
    }
   ],
   "source": [
    "# create a list comprised of 'not much change' from visiual inspection in GIS\n",
    "t_no_change = ['SK1661', 'SK1154', 'SK0852',\n",
    "          'SK0752', 'SK0554', 'SK0456', 'SK1056', 'SK1357',\n",
    "          'SK1258', 'SK1959', 'SK1360', 'SK2161', 'SK1871',\n",
    "          'SK1672', 'SJ9679', 'SK0981', 'SK1082', 'SK1683',\n",
    "          'SK0684', 'SK0685', 'SK0686', 'SK1588', 'SK1690',\n",
    "          'SK0790', 'SK2091', 'SK1992', 'SK0595', 'SK2496',\n",
    "          'SK2396', 'SK1998', 'SK1798', 'SE1400', 'SE0800',\n",
    "          'SE1203', 'SE1003']\n",
    "\n",
    "print(len(t_no_change))\n",
    "\n",
    "# Lets remove these from the latest data set\n",
    "#t_2022 = list(set(t_2022) - set(t_no_change))\n",
    "t_start_again = list(set(t_2022) - set(t_no_change))\n",
    "\n",
    "\n",
    "print(t_start_again)\n",
    "print(len(t_start_again)) # 35 showed little change (25 remaining)"
   ]
  },
  {
   "cell_type": "code",
   "execution_count": 32,
   "id": "3fd8dec0",
   "metadata": {},
   "outputs": [
    {
     "name": "stdout",
     "output_type": "stream",
     "text": [
      "40\n",
      "65\n"
     ]
    },
    {
     "data": {
      "text/plain": [
       "False"
      ]
     },
     "execution_count": 32,
     "metadata": {},
     "output_type": "execute_result"
    }
   ],
   "source": [
    "# create a list of new tiles of 'change' from visual inspection in GIS\n",
    "# lets add extra as APGB might not have ~2010 for all km2\n",
    "\n",
    "t_add = ['SK0786', 'SK0787', 'SK0789', 'SK0886', 'SK0888',\n",
    "         'SK0889', 'SK1086', 'SK1087', 'SK1088', 'SK1187',\n",
    "         'SK1188', 'SK1287', 'SK1288', 'SK1387', 'SK1388',\n",
    "         'SK0993', 'SK0894', 'SK0994', 'SK0895', 'SK0995',\n",
    "         'SK1095', 'SK0996', 'SK1096', 'SK1196', 'SK0897',\n",
    "         'SK0997', 'SK1097', 'SE0805', 'SE0905', 'SE0704',\n",
    "         'SE0804', 'SE0904', 'SE0903', 'SE1103', 'SK2585',\n",
    "         'SK2584', 'SK1092', 'SK1075', 'SK0076', 'SE0504']\n",
    "\n",
    "print(len(t_add)) # That's 40 lets add to t_start_again\n",
    "\n",
    "t_latest = t_add + t_start_again\n",
    "print(len(t_latest)) # 65 tiles \n",
    "\n",
    "len(t_latest) != len(set(t_latest)) # check for duplicates"
   ]
  },
  {
   "cell_type": "code",
   "execution_count": 33,
   "id": "8bdc4472",
   "metadata": {},
   "outputs": [
    {
     "name": "stdout",
     "output_type": "stream",
     "text": [
      "83\n"
     ]
    },
    {
     "data": {
      "text/plain": [
       "False"
      ]
     },
     "execution_count": 33,
     "metadata": {},
     "output_type": "execute_result"
    }
   ],
   "source": [
    "# Further change tiles to add 16/05/23 of 'change' from visual inspection in GIS\n",
    "t_add2 = ['SK2462', 'SK2463', 'SK1568', 'SK1569', 'SK1669', 'SK1668', 'SK1862', 'SK2467', 'SK2567', 'SK2563',\n",
    "           'SK2069', 'SK0498', 'SK0598', 'SK0698', 'SK1375', 'SK1475', 'SK1367', 'SK1667']\n",
    "\n",
    "t_latest = t_latest + t_add2\n",
    "print(len(t_latest)) # 83 tiles\n",
    "\n",
    "len(t_latest) != len(set(t_latest)) # check for duplicates"
   ]
  },
  {
   "cell_type": "code",
   "execution_count": 23,
   "id": "8a5231e5",
   "metadata": {},
   "outputs": [],
   "source": [
    "# Load in the .shp\n",
    "lcg = \"../content/landscape_character_grid/Landscape_Character_Grid.shp\""
   ]
  },
  {
   "cell_type": "code",
   "execution_count": 24,
   "id": "b363c144",
   "metadata": {},
   "outputs": [],
   "source": [
    "# read geopandas\n",
    "gd = gpd.read_file(lcg)"
   ]
  },
  {
   "cell_type": "code",
   "execution_count": 25,
   "id": "6a67c3e7",
   "metadata": {},
   "outputs": [],
   "source": [
    "selection = gd[gd['PLAN_NO'].isin(t_latest)]"
   ]
  },
  {
   "cell_type": "code",
   "execution_count": 26,
   "id": "a8bacf9d",
   "metadata": {},
   "outputs": [
    {
     "data": {
      "text/html": [
       "<div>\n",
       "<style scoped>\n",
       "    .dataframe tbody tr th:only-of-type {\n",
       "        vertical-align: middle;\n",
       "    }\n",
       "\n",
       "    .dataframe tbody tr th {\n",
       "        vertical-align: top;\n",
       "    }\n",
       "\n",
       "    .dataframe thead th {\n",
       "        text-align: right;\n",
       "    }\n",
       "</style>\n",
       "<table border=\"1\" class=\"dataframe\">\n",
       "  <thead>\n",
       "    <tr style=\"text-align: right;\">\n",
       "      <th></th>\n",
       "      <th>PLAN_NO</th>\n",
       "      <th>MAPNUM</th>\n",
       "      <th>SQNUM</th>\n",
       "      <th>B1_70</th>\n",
       "      <th>B2_70</th>\n",
       "      <th>B3_70</th>\n",
       "      <th>B6_70</th>\n",
       "      <th>B1_80</th>\n",
       "      <th>B2_80</th>\n",
       "      <th>B3_80</th>\n",
       "      <th>...</th>\n",
       "      <th>INPARK</th>\n",
       "      <th>COUNTY</th>\n",
       "      <th>DISTRICT</th>\n",
       "      <th>PARISH</th>\n",
       "      <th>TYSQ10</th>\n",
       "      <th>EASTM</th>\n",
       "      <th>NORTHM</th>\n",
       "      <th>ONE</th>\n",
       "      <th>MI_PRINX</th>\n",
       "      <th>geometry</th>\n",
       "    </tr>\n",
       "  </thead>\n",
       "  <tbody>\n",
       "    <tr>\n",
       "      <th>67</th>\n",
       "      <td>SE0407</td>\n",
       "      <td>3</td>\n",
       "      <td>15</td>\n",
       "      <td>0</td>\n",
       "      <td>0</td>\n",
       "      <td>0</td>\n",
       "      <td>0</td>\n",
       "      <td>0</td>\n",
       "      <td>0</td>\n",
       "      <td>0</td>\n",
       "      <td>...</td>\n",
       "      <td>T</td>\n",
       "      <td>WESTYOR</td>\n",
       "      <td>KIRKLEE</td>\n",
       "      <td>hidders</td>\n",
       "      <td>32</td>\n",
       "      <td>404500</td>\n",
       "      <td>407500</td>\n",
       "      <td>1</td>\n",
       "      <td>68</td>\n",
       "      <td>POLYGON ((404000.001 406999.997, 404000.001 40...</td>\n",
       "    </tr>\n",
       "    <tr>\n",
       "      <th>78</th>\n",
       "      <td>SE0503</td>\n",
       "      <td>7</td>\n",
       "      <td>16</td>\n",
       "      <td>0</td>\n",
       "      <td>0</td>\n",
       "      <td>0</td>\n",
       "      <td>2</td>\n",
       "      <td>0</td>\n",
       "      <td>0</td>\n",
       "      <td>0</td>\n",
       "      <td>...</td>\n",
       "      <td>T</td>\n",
       "      <td>DERBYSH</td>\n",
       "      <td>HIGHPEA</td>\n",
       "      <td>tintwis</td>\n",
       "      <td>32</td>\n",
       "      <td>405500</td>\n",
       "      <td>403500</td>\n",
       "      <td>1</td>\n",
       "      <td>79</td>\n",
       "      <td>POLYGON ((405000.003 403000.002, 405000.003 40...</td>\n",
       "    </tr>\n",
       "    <tr>\n",
       "      <th>79</th>\n",
       "      <td>SE0504</td>\n",
       "      <td>7</td>\n",
       "      <td>21</td>\n",
       "      <td>0</td>\n",
       "      <td>0</td>\n",
       "      <td>0</td>\n",
       "      <td>1</td>\n",
       "      <td>0</td>\n",
       "      <td>0</td>\n",
       "      <td>0</td>\n",
       "      <td>...</td>\n",
       "      <td>T</td>\n",
       "      <td>GT MAN</td>\n",
       "      <td>OLDHAM</td>\n",
       "      <td>saddlew</td>\n",
       "      <td>32</td>\n",
       "      <td>405500</td>\n",
       "      <td>404500</td>\n",
       "      <td>1</td>\n",
       "      <td>80</td>\n",
       "      <td>POLYGON ((405000.003 403999.995, 405000.003 40...</td>\n",
       "    </tr>\n",
       "    <tr>\n",
       "      <th>80</th>\n",
       "      <td>SE0505</td>\n",
       "      <td>4</td>\n",
       "      <td>1</td>\n",
       "      <td>0</td>\n",
       "      <td>0</td>\n",
       "      <td>0</td>\n",
       "      <td>0</td>\n",
       "      <td>0</td>\n",
       "      <td>0</td>\n",
       "      <td>0</td>\n",
       "      <td>...</td>\n",
       "      <td>T</td>\n",
       "      <td>GT MAN</td>\n",
       "      <td>OLDHAM</td>\n",
       "      <td>saddlew</td>\n",
       "      <td>32</td>\n",
       "      <td>405500</td>\n",
       "      <td>405500</td>\n",
       "      <td>1</td>\n",
       "      <td>81</td>\n",
       "      <td>POLYGON ((405000.003 404999.999, 405000.003 40...</td>\n",
       "    </tr>\n",
       "    <tr>\n",
       "      <th>109</th>\n",
       "      <td>SE0704</td>\n",
       "      <td>7</td>\n",
       "      <td>23</td>\n",
       "      <td>0</td>\n",
       "      <td>0</td>\n",
       "      <td>0</td>\n",
       "      <td>0</td>\n",
       "      <td>0</td>\n",
       "      <td>0</td>\n",
       "      <td>0</td>\n",
       "      <td>...</td>\n",
       "      <td>T</td>\n",
       "      <td>WESTYOR</td>\n",
       "      <td>KIRKLEE</td>\n",
       "      <td>holmeva</td>\n",
       "      <td>32</td>\n",
       "      <td>407500</td>\n",
       "      <td>404500</td>\n",
       "      <td>1</td>\n",
       "      <td>110</td>\n",
       "      <td>POLYGON ((406999.999 403999.995, 406999.999 40...</td>\n",
       "    </tr>\n",
       "  </tbody>\n",
       "</table>\n",
       "<p>5 rows × 40 columns</p>\n",
       "</div>"
      ],
      "text/plain": [
       "    PLAN_NO  MAPNUM  SQNUM  B1_70  B2_70  B3_70  B6_70  B1_80  B2_80  B3_80  \\\n",
       "67   SE0407       3     15      0      0      0      0      0      0      0   \n",
       "78   SE0503       7     16      0      0      0      2      0      0      0   \n",
       "79   SE0504       7     21      0      0      0      1      0      0      0   \n",
       "80   SE0505       4      1      0      0      0      0      0      0      0   \n",
       "109  SE0704       7     23      0      0      0      0      0      0      0   \n",
       "\n",
       "     ...  INPARK   COUNTY  DISTRICT   PARISH  TYSQ10   EASTM  NORTHM  ONE  \\\n",
       "67   ...       T  WESTYOR   KIRKLEE  hidders      32  404500  407500    1   \n",
       "78   ...       T  DERBYSH   HIGHPEA  tintwis      32  405500  403500    1   \n",
       "79   ...       T   GT MAN    OLDHAM  saddlew      32  405500  404500    1   \n",
       "80   ...       T   GT MAN    OLDHAM  saddlew      32  405500  405500    1   \n",
       "109  ...       T  WESTYOR   KIRKLEE  holmeva      32  407500  404500    1   \n",
       "\n",
       "     MI_PRINX                                           geometry  \n",
       "67         68  POLYGON ((404000.001 406999.997, 404000.001 40...  \n",
       "78         79  POLYGON ((405000.003 403000.002, 405000.003 40...  \n",
       "79         80  POLYGON ((405000.003 403999.995, 405000.003 40...  \n",
       "80         81  POLYGON ((405000.003 404999.999, 405000.003 40...  \n",
       "109       110  POLYGON ((406999.999 403999.995, 406999.999 40...  \n",
       "\n",
       "[5 rows x 40 columns]"
      ]
     },
     "execution_count": 26,
     "metadata": {},
     "output_type": "execute_result"
    }
   ],
   "source": [
    "selection.head(5)"
   ]
  },
  {
   "cell_type": "code",
   "execution_count": 27,
   "id": "02abd139",
   "metadata": {},
   "outputs": [],
   "source": [
    "out_file_path = r\"../content/landscape_character_grid/selection_latest_83km2.shp\"\n",
    "selection.to_file(out_file_path)"
   ]
  },
  {
   "cell_type": "code",
   "execution_count": 39,
   "id": "e05b0529",
   "metadata": {},
   "outputs": [],
   "source": [
    "# just grab the latest squares for APGB API\n",
    "APGB_selection = gd[gd['PLAN_NO'].isin(t_add2)]\n",
    "out_file_path = r\"../content/landscape_character_grid/APGB_selection_latest_18km2.shp\"\n",
    "APGB_selection.to_file(out_file_path)"
   ]
  }
 ],
 "metadata": {
  "kernelspec": {
   "display_name": "Python 3 (ipykernel)",
   "language": "python",
   "name": "python3"
  },
  "language_info": {
   "codemirror_mode": {
    "name": "ipython",
    "version": 3
   },
   "file_extension": ".py",
   "mimetype": "text/x-python",
   "name": "python",
   "nbconvert_exporter": "python",
   "pygments_lexer": "ipython3",
   "version": "3.9.12"
  }
 },
 "nbformat": 4,
 "nbformat_minor": 5
}
