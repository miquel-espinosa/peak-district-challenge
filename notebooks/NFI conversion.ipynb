{
 "cells": [
  {
   "attachments": {},
   "cell_type": "markdown",
   "metadata": {},
   "source": [
    "## Notebook to handle NFI data"
   ]
  },
  {
   "cell_type": "code",
   "execution_count": 1,
   "metadata": {},
   "outputs": [],
   "source": [
    "%load_ext autoreload\n",
    "%autoreload 2"
   ]
  },
  {
   "cell_type": "code",
   "execution_count": 2,
   "metadata": {},
   "outputs": [
    {
     "name": "stderr",
     "output_type": "stream",
     "text": [
      "/home/tplas/anaconda3/envs/geo/lib/python3.7/site-packages/geopandas/_compat.py:115: UserWarning: The Shapely GEOS version (3.8.0-CAPI-1.13.1 ) is incompatible with the GEOS version PyGEOS was compiled with (3.10.4-CAPI-1.16.2). Conversions between both will be slow.\n",
      "  shapely_geos_version, geos_capi_version_string\n"
     ]
    }
   ],
   "source": [
    "import os, sys\n",
    "sys.path.append('../scripts/')\n",
    "import numpy as np\n",
    "import matplotlib.pyplot as plt\n",
    "import rasterio, rasterio.plot\n",
    "import xarray as xr\n",
    "import rioxarray as rxr\n",
    "from tqdm import tqdm\n",
    "import pandas as pd\n",
    "import geopandas as gpd\n",
    "import loadpaths\n",
    "import land_cover_analysis as lca\n",
    "import land_cover_visualisation as lcv\n",
    "import land_cover_models as lcm\n",
    "from torch.utils.data import TensorDataset, DataLoader\n",
    "\n",
    "path_dict = loadpaths.loadpaths()"
   ]
  },
  {
   "cell_type": "code",
   "execution_count": 3,
   "metadata": {},
   "outputs": [],
   "source": [
    "path_nfi_full = '/home/tplas/data/gis/National_Forest_Inventory_Woodland_England_2020/National_Forest_Inventory_Woodland_England_2020.shp'"
   ]
  },
  {
   "cell_type": "code",
   "execution_count": 4,
   "metadata": {},
   "outputs": [
    {
     "name": "stdout",
     "output_type": "stream",
     "text": [
      "Loaded 355973 polygons from /home/tplas/data/gis/National_Forest_Inventory_Woodland_England_2020/National_Forest_Inventory_Woodland_England_2020.shp\n"
     ]
    }
   ],
   "source": [
    "pols_nfi = lca.load_pols(path_nfi_full)\n",
    "print(f'Loaded {len(pols_nfi)} polygons from {path_nfi_full}')"
   ]
  },
  {
   "cell_type": "code",
   "execution_count": 5,
   "metadata": {},
   "outputs": [],
   "source": [
    "outline_pd = lca.load_pols(path_dict['pd_outline'])\n",
    "outline_pd = outline_pd.iloc[0]['geometry']"
   ]
  },
  {
   "cell_type": "code",
   "execution_count": 6,
   "metadata": {},
   "outputs": [
    {
     "name": "stderr",
     "output_type": "stream",
     "text": [
      "/home/tplas/anaconda3/envs/geo/lib/python3.7/site-packages/pygeos/set_operations.py:129: RuntimeWarning: invalid value encountered in intersection\n",
      "  return lib.intersection(a, b, **kwargs)\n"
     ]
    }
   ],
   "source": [
    "df_pols_nfi_pd = pols_nfi.intersection(outline_pd)"
   ]
  },
  {
   "cell_type": "code",
   "execution_count": 7,
   "metadata": {},
   "outputs": [
    {
     "name": "stdout",
     "output_type": "stream",
     "text": [
      "Found 3018 polygons in PD\n"
     ]
    }
   ],
   "source": [
    "## Find non empty polygons in pd series:\n",
    "inds_inside_pd = df_pols_nfi_pd.area > 0\n",
    "df_nfi_pd = pols_nfi[inds_inside_pd]\n",
    "df_nfi_pd = df_nfi_pd.reset_index(drop=True)\n",
    "# df_pols_nfi_pd = df_pols_nfi_pd.reset_index(drop=True)\n",
    "print(f'Found {np.sum(inds_inside_pd)} polygons in PD')"
   ]
  },
  {
   "cell_type": "code",
   "execution_count": 8,
   "metadata": {},
   "outputs": [
    {
     "name": "stdout",
     "output_type": "stream",
     "text": [
      "['Bare area' 'Grassland' 'Quarry' 'Urban' 'Road' 'Other vegetation'\n",
      " 'Open water' 'Assumed woodland' 'Broadleaved' 'Conifer' 'Felled'\n",
      " 'Ground prep' 'Low density' 'Mixed mainly broadleaved'\n",
      " 'Mixed mainly conifer' 'Young trees' 'Coppice' 'Shrub' 'Windblow'\n",
      " 'Uncertain']\n"
     ]
    }
   ],
   "source": [
    "print(df_nfi_pd['IFT_IOA'].unique()) # leaving out young trees because can be any category "
   ]
  },
  {
   "cell_type": "code",
   "execution_count": 9,
   "metadata": {},
   "outputs": [],
   "source": [
    "use_clear_classes_only = False\n",
    "\n",
    "if use_clear_classes_only:\n",
    "    mapping_dict_nfi = {'Broadleaved': 'C1', \n",
    "                        'Conifer': 'C2',\n",
    "                        'Felled': 'C5',\n",
    "                        'Mixed mainly broadleaved': 'C3',\n",
    "                        'Mixed mainly conifer': 'C3',\n",
    "                        'Shrub': 'C4',\n",
    "                        'Low density': 'C4'\n",
    "                        # 'Young trees': 'C5'  # leaving out young trees because can be any category \n",
    "                        }\n",
    "\n",
    "    dict_label_to_ind = {'C1' : 1, 'C2' : 2, 'C3' : 3, 'C4' : 4, 'C5' : 5}\n",
    "else:\n",
    "    mapping_dict_nfi = {'Broadleaved': 'C1', \n",
    "                    'Conifer': 'C2',\n",
    "                    'Felled': 'C5',\n",
    "                    'Mixed mainly broadleaved': 'C3',\n",
    "                    'Mixed mainly conifer': 'C3',\n",
    "                    'Shrub': 'C4',\n",
    "                    'Low density': 'C4',\n",
    "                    'Young trees': 'C',\n",
    "                    'Assumed woodland': 'C',\n",
    "                    'Ground prep': 'C',\n",
    "                    'Windblow': 'C',\n",
    "                    'Coppice': 'C'\n",
    "                    }\n",
    "    dict_label_to_ind = {'C1' : 1, 'C2' : 2, 'C3' : 3, 'C4' : 4, 'C5' : 5, 'C': 0}\n"
   ]
  },
  {
   "cell_type": "code",
   "execution_count": 10,
   "metadata": {},
   "outputs": [
    {
     "name": "stdout",
     "output_type": "stream",
     "text": [
      "Found 2935 polygons with LC\n"
     ]
    }
   ],
   "source": [
    "df_nfi_pd['Class_low'] = df_nfi_pd['IFT_IOA'].map(mapping_dict_nfi)\n",
    "## Remove polygons with no LC:\n",
    "df_nfi_pd = df_nfi_pd[df_nfi_pd['Class_low'].notna()] \n",
    "df_nfi_pd = df_nfi_pd.reset_index(drop=True)\n",
    "df_nfi_pd['Class_lowi'] = df_nfi_pd['Class_low'].map(dict_label_to_ind)\n",
    "df_nfi_pd['Class_lowi'] = df_nfi_pd['Class_lowi'].astype(int)\n",
    "print(f'Found {len(df_nfi_pd)} polygons with LC')"
   ]
  },
  {
   "cell_type": "code",
   "execution_count": 11,
   "metadata": {},
   "outputs": [],
   "source": [
    "df_nfi_pd.to_file('/home/tplas/repos/cnn-land-cover/content/NFI_data/NFI_pd_incl_ambiguous.shp')"
   ]
  },
  {
   "cell_type": "code",
   "execution_count": 31,
   "metadata": {},
   "outputs": [
    {
     "data": {
      "text/html": [
       "<div>\n",
       "<style scoped>\n",
       "    .dataframe tbody tr th:only-of-type {\n",
       "        vertical-align: middle;\n",
       "    }\n",
       "\n",
       "    .dataframe tbody tr th {\n",
       "        vertical-align: top;\n",
       "    }\n",
       "\n",
       "    .dataframe thead th {\n",
       "        text-align: right;\n",
       "    }\n",
       "</style>\n",
       "<table border=\"1\" class=\"dataframe\">\n",
       "  <thead>\n",
       "    <tr style=\"text-align: right;\">\n",
       "      <th></th>\n",
       "      <th>OBJECTID_1</th>\n",
       "      <th>CATEGORY</th>\n",
       "      <th>IFT_IOA</th>\n",
       "      <th>COUNTRY</th>\n",
       "      <th>Area_ha</th>\n",
       "      <th>geometry</th>\n",
       "      <th>Class_low</th>\n",
       "      <th>Class_lowi</th>\n",
       "    </tr>\n",
       "  </thead>\n",
       "  <tbody>\n",
       "    <tr>\n",
       "      <th>0</th>\n",
       "      <td>190039</td>\n",
       "      <td>Woodland</td>\n",
       "      <td>Broadleaved</td>\n",
       "      <td>England</td>\n",
       "      <td>1.342133</td>\n",
       "      <td>POLYGON ((418126.710 348846.790, 418130.110 34...</td>\n",
       "      <td>C1</td>\n",
       "      <td>1</td>\n",
       "    </tr>\n",
       "    <tr>\n",
       "      <th>1</th>\n",
       "      <td>190062</td>\n",
       "      <td>Woodland</td>\n",
       "      <td>Broadleaved</td>\n",
       "      <td>England</td>\n",
       "      <td>0.854510</td>\n",
       "      <td>POLYGON ((416388.450 348892.190, 416390.340 34...</td>\n",
       "      <td>C1</td>\n",
       "      <td>1</td>\n",
       "    </tr>\n",
       "    <tr>\n",
       "      <th>2</th>\n",
       "      <td>190078</td>\n",
       "      <td>Woodland</td>\n",
       "      <td>Broadleaved</td>\n",
       "      <td>England</td>\n",
       "      <td>7.137100</td>\n",
       "      <td>POLYGON ((418866.340 348982.314, 418877.730 34...</td>\n",
       "      <td>C1</td>\n",
       "      <td>1</td>\n",
       "    </tr>\n",
       "    <tr>\n",
       "      <th>3</th>\n",
       "      <td>190105</td>\n",
       "      <td>Woodland</td>\n",
       "      <td>Broadleaved</td>\n",
       "      <td>England</td>\n",
       "      <td>0.592080</td>\n",
       "      <td>POLYGON ((417371.324 348910.954, 417350.995 34...</td>\n",
       "      <td>C1</td>\n",
       "      <td>1</td>\n",
       "    </tr>\n",
       "    <tr>\n",
       "      <th>4</th>\n",
       "      <td>190152</td>\n",
       "      <td>Woodland</td>\n",
       "      <td>Broadleaved</td>\n",
       "      <td>England</td>\n",
       "      <td>4.389116</td>\n",
       "      <td>POLYGON ((412611.260 349212.230, 412610.470 34...</td>\n",
       "      <td>C1</td>\n",
       "      <td>1</td>\n",
       "    </tr>\n",
       "    <tr>\n",
       "      <th>...</th>\n",
       "      <td>...</td>\n",
       "      <td>...</td>\n",
       "      <td>...</td>\n",
       "      <td>...</td>\n",
       "      <td>...</td>\n",
       "      <td>...</td>\n",
       "      <td>...</td>\n",
       "      <td>...</td>\n",
       "    </tr>\n",
       "    <tr>\n",
       "      <th>2592</th>\n",
       "      <td>354936</td>\n",
       "      <td>Woodland</td>\n",
       "      <td>Shrub</td>\n",
       "      <td>England</td>\n",
       "      <td>0.509918</td>\n",
       "      <td>POLYGON ((398550.944 380322.829, 398544.301 38...</td>\n",
       "      <td>C4</td>\n",
       "      <td>4</td>\n",
       "    </tr>\n",
       "    <tr>\n",
       "      <th>2593</th>\n",
       "      <td>354941</td>\n",
       "      <td>Woodland</td>\n",
       "      <td>Shrub</td>\n",
       "      <td>England</td>\n",
       "      <td>0.621780</td>\n",
       "      <td>POLYGON ((398354.400 381053.930, 398375.399 38...</td>\n",
       "      <td>C4</td>\n",
       "      <td>4</td>\n",
       "    </tr>\n",
       "    <tr>\n",
       "      <th>2594</th>\n",
       "      <td>354952</td>\n",
       "      <td>Woodland</td>\n",
       "      <td>Shrub</td>\n",
       "      <td>England</td>\n",
       "      <td>1.231423</td>\n",
       "      <td>POLYGON ((421921.740 383708.360, 421918.730 38...</td>\n",
       "      <td>C4</td>\n",
       "      <td>4</td>\n",
       "    </tr>\n",
       "    <tr>\n",
       "      <th>2595</th>\n",
       "      <td>354963</td>\n",
       "      <td>Woodland</td>\n",
       "      <td>Shrub</td>\n",
       "      <td>England</td>\n",
       "      <td>1.026729</td>\n",
       "      <td>POLYGON ((425190.030 387398.320, 425216.287 38...</td>\n",
       "      <td>C4</td>\n",
       "      <td>4</td>\n",
       "    </tr>\n",
       "    <tr>\n",
       "      <th>2596</th>\n",
       "      <td>354976</td>\n",
       "      <td>Woodland</td>\n",
       "      <td>Shrub</td>\n",
       "      <td>England</td>\n",
       "      <td>0.658205</td>\n",
       "      <td>POLYGON ((424521.520 394087.170, 424524.330 39...</td>\n",
       "      <td>C4</td>\n",
       "      <td>4</td>\n",
       "    </tr>\n",
       "  </tbody>\n",
       "</table>\n",
       "<p>2597 rows × 8 columns</p>\n",
       "</div>"
      ],
      "text/plain": [
       "      OBJECTID_1  CATEGORY      IFT_IOA  COUNTRY   Area_ha  \\\n",
       "0         190039  Woodland  Broadleaved  England  1.342133   \n",
       "1         190062  Woodland  Broadleaved  England  0.854510   \n",
       "2         190078  Woodland  Broadleaved  England  7.137100   \n",
       "3         190105  Woodland  Broadleaved  England  0.592080   \n",
       "4         190152  Woodland  Broadleaved  England  4.389116   \n",
       "...          ...       ...          ...      ...       ...   \n",
       "2592      354936  Woodland        Shrub  England  0.509918   \n",
       "2593      354941  Woodland        Shrub  England  0.621780   \n",
       "2594      354952  Woodland        Shrub  England  1.231423   \n",
       "2595      354963  Woodland        Shrub  England  1.026729   \n",
       "2596      354976  Woodland        Shrub  England  0.658205   \n",
       "\n",
       "                                               geometry Class_low  Class_lowi  \n",
       "0     POLYGON ((418126.710 348846.790, 418130.110 34...        C1           1  \n",
       "1     POLYGON ((416388.450 348892.190, 416390.340 34...        C1           1  \n",
       "2     POLYGON ((418866.340 348982.314, 418877.730 34...        C1           1  \n",
       "3     POLYGON ((417371.324 348910.954, 417350.995 34...        C1           1  \n",
       "4     POLYGON ((412611.260 349212.230, 412610.470 34...        C1           1  \n",
       "...                                                 ...       ...         ...  \n",
       "2592  POLYGON ((398550.944 380322.829, 398544.301 38...        C4           4  \n",
       "2593  POLYGON ((398354.400 381053.930, 398375.399 38...        C4           4  \n",
       "2594  POLYGON ((421921.740 383708.360, 421918.730 38...        C4           4  \n",
       "2595  POLYGON ((425190.030 387398.320, 425216.287 38...        C4           4  \n",
       "2596  POLYGON ((424521.520 394087.170, 424524.330 39...        C4           4  \n",
       "\n",
       "[2597 rows x 8 columns]"
      ]
     },
     "execution_count": 31,
     "metadata": {},
     "output_type": "execute_result"
    }
   ],
   "source": [
    "df_nfi_pd"
   ]
  },
  {
   "cell_type": "code",
   "execution_count": 32,
   "metadata": {},
   "outputs": [],
   "source": [
    "tmp_mask_tifs = '/home/tplas/data/gis/most recent APGB 12.5cm aerial/CDE_training_tiles/tiles/tile_masks_nfi/'\n"
   ]
  },
  {
   "cell_type": "code",
   "execution_count": 35,
   "metadata": {},
   "outputs": [],
   "source": [
    "list_tifs = [os.path.join(tmp_mask_tifs, x) for x in os.listdir(tmp_mask_tifs) if x[-4:] == '.tif']"
   ]
  },
  {
   "cell_type": "code",
   "execution_count": 42,
   "metadata": {},
   "outputs": [
    {
     "name": "stdout",
     "output_type": "stream",
     "text": [
      "(1, 8000, 8000) <class 'numpy.ndarray'>\n"
     ]
    },
    {
     "data": {
      "image/png": "[encoded data removed]",
      "text/plain": [
       "<Figure size 640x480 with 1 Axes>"
      ]
     },
     "metadata": {},
     "output_type": "display_data"
    }
   ],
   "source": [
    "kk += 1\n",
    "ex_tile = lca.load_tiff(tiff_file_path=list_tifs[kk], datatype='da')\n",
    "lcv.plot_image_simple(im=ex_tile, name_file=list_tifs[kk].split('/')[-1])\n"
   ]
  }
 ],
 "metadata": {
  "kernelspec": {
   "display_name": "geo",
   "language": "python",
   "name": "python3"
  },
  "language_info": {
   "codemirror_mode": {
    "name": "ipython",
    "version": 3
   },
   "file_extension": ".py",
   "mimetype": "text/x-python",
   "name": "python",
   "nbconvert_exporter": "python",
   "pygments_lexer": "ipython3",
   "version": "3.7.13"
  },
  "orig_nbformat": 4,
  "vscode": {
   "interpreter": {
    "hash": "fff134636c4dc08640ae6a35698a477c72623cae97fdeaa639b1241267bdf5e9"
   }
  }
 },
 "nbformat": 4,
 "nbformat_minor": 2
}
