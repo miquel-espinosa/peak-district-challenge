{
 "cells": [
  {
   "cell_type": "code",
   "execution_count": 1,
   "metadata": {},
   "outputs": [],
   "source": [
    "## Creating shp file with new F, G, H labels to override model predictions \n",
    "%load_ext autoreload\n",
    "%autoreload 2"
   ]
  },
  {
   "cell_type": "code",
   "execution_count": 4,
   "metadata": {},
   "outputs": [],
   "source": [
    "import os, sys, json\n",
    "import pickle\n",
    "sys.path.append('../scripts/')\n",
    "import numpy as np\n",
    "import matplotlib.pyplot as plt\n",
    "import seaborn as sns\n",
    "import rasterio, rasterio.plot\n",
    "import shapely as shp\n",
    "import xarray as xr\n",
    "import rioxarray as rxr\n",
    "from tqdm import tqdm\n",
    "import pandas as pd\n",
    "import geopandas as gpd\n",
    "import dask_geopandas as dgpd\n",
    "import loadpaths\n",
    "import land_cover_analysis as lca\n",
    "import land_cover_visualisation as lcv\n",
    "import land_cover_models as lcm\n",
    "import datetime, time\n",
    "path_dict = loadpaths.loadpaths()"
   ]
  },
  {
   "cell_type": "code",
   "execution_count": 14,
   "metadata": {},
   "outputs": [],
   "source": [
    "v1 = lca.load_pols('/home/tplas/repos/cnn-land-cover/content/evaluation_polygons/landscape_character_2022.shp')\n",
    "v2 = lca.load_pols('/home/tplas/repos/cnn-land-cover/content/evaluation_polygons/Landscape_Character_80s_2022.shp')\n",
    "v3 = lca.load_pols('/home/tplas/repos/cnn-land-cover/content/evaluation_polygons/Landscape_Character_80s_2022_FGH-override.shp')\n",
    "\n"
   ]
  },
  {
   "cell_type": "code",
   "execution_count": 15,
   "metadata": {},
   "outputs": [
    {
     "name": "stdout",
     "output_type": "stream",
     "text": [
      "Index(['AREA', 'PERIMETER', 'LC_N_80', 'LC_D_80', 'MI_PRINX', 'Class_Code',\n",
      "       'Code', 'geometry'],\n",
      "      dtype='object')\n",
      "Index(['AREA', 'PERIMETER', 'LC_N_80', 'LC_D_80', 'MI_PRINX', 'Class_Code',\n",
      "       'geometry'],\n",
      "      dtype='object')\n",
      "Index(['Class_Code', 'geometry'], dtype='object')\n"
     ]
    }
   ],
   "source": [
    "assert len(v1) == len(v2)\n",
    "assert (v1['geometry'] == v2['geometry']).all()\n",
    "assert (v1['Class_Code'] == v2['Class_Code']).all()\n",
    "\n",
    "print(v1.columns)\n",
    "print(v2.columns)\n",
    "print(v3.columns)"
   ]
  },
  {
   "attachments": {},
   "cell_type": "markdown",
   "metadata": {},
   "source": [
    "### Test how to merge:"
   ]
  },
  {
   "cell_type": "code",
   "execution_count": 27,
   "metadata": {},
   "outputs": [],
   "source": [
    "pol1 = shp.geometry.Polygon([(0,0), (0,1), (1,1), (1,0)])\n",
    "pol2 = shp.geometry.Polygon([(2,0), (2,1), (2.5,1), (2.5,0)])\n",
    "pol3 = shp.geometry.Polygon([(0.5,0.5), (0.5,1.5), (1.5,1.5), (1.5,0.5)])\n",
    "pol4 = shp.geometry.Polygon([(0,2), (0,4), (1,3), (1,2)])\n",
    "poloutline = shp.geometry.Polygon([(0.25, 0.25), (0.25, 4), (2.5, 4), (2.5, 0.25)])\n",
    "df1 = gpd.GeoDataFrame({'geometry': [pol1, pol2], 'lab': ['A', 'A']})\n",
    "df2 = gpd.GeoDataFrame({'geometry': [pol3, pol4], 'lab': ['C', 'C']})\n",
    "df1 = df1.clip(poloutline)\n",
    "df2 = gpd.clip(df2, poloutline)\n",
    "df3 = gpd.GeoDataFrame({'geometry': [pol1, pol2, pol3, pol4]})"
   ]
  },
  {
   "cell_type": "code",
   "execution_count": 30,
   "metadata": {},
   "outputs": [],
   "source": [
    "df1['source'] = 'df1'\n",
    "df2['source'] = 'df2'"
   ]
  },
  {
   "cell_type": "code",
   "execution_count": 37,
   "metadata": {},
   "outputs": [
    {
     "name": "stdout",
     "output_type": "stream",
     "text": [
      "  lab source                                           geometry\n",
      "0   A    df1  POLYGON ((1.00000 0.25000, 0.25000 0.25000, 0....\n",
      "1   A    df1  POLYGON ((2.50000 0.25000, 2.00000 0.25000, 2....\n",
      "2   C    df2  POLYGON ((1.50000 1.50000, 1.50000 0.50000, 1....\n",
      "3   C    df2  POLYGON ((1.00000 2.00000, 0.25000 2.00000, 0....\n"
     ]
    },
    {
     "name": "stderr",
     "output_type": "stream",
     "text": [
      "/home/tplas/anaconda3/envs/geo/lib/python3.7/site-packages/ipykernel_launcher.py:11: FutureWarning: Currently, index_parts defaults to True, but in the future, it will default to False to be consistent with Pandas. Use `index_parts=True` to keep the current behavior and True/False to silence the warning.\n",
      "  # This is added back by InteractiveShellApp.init_path()\n"
     ]
    },
    {
     "data": {
      "text/plain": [
       "(0.0, 4.0)"
      ]
     },
     "execution_count": 37,
     "metadata": {},
     "output_type": "execute_result"
    },
    {
     "data": {
      "image/png": "[encoded data removed]",
      "text/plain": [
       "<Figure size 640x480 with 1 Axes>"
      ]
     },
     "metadata": {},
     "output_type": "display_data"
    }
   ],
   "source": [
    "df_unique_1 = gpd.overlay(df1, df2, how='difference')  # Get df1 polygons that are not in df2\n",
    "df_unique_2 = gpd.overlay(df2, df1, how='difference')  # Get df2 polygons that are not in df1\n",
    "df_overlap = gpd.overlay(df1, df2, how='intersection')  # Get overlap between df1 and df2\n",
    "df_overlap['lab'] = df_overlap['lab_1']  # choose label that is to be used for overlap\n",
    "df_overlap = df_overlap.drop(['lab_1', 'lab_2'], axis=1)\n",
    "df_overlap['source'] = df_overlap['source_1']\n",
    "df_overlap = df_overlap.drop(['source_1', 'source_2'], axis=1)\n",
    "df_new = gpd.GeoDataFrame(pd.concat([df_unique_1, df_unique_2, df_overlap], ignore_index=True))  # Concatenate all polygons\n",
    "# df_new = gpd.GeoDataFrame(pd.concat([df_unique_1, df_unique_2], ignore_index=True, sort=False))\n",
    "df_new = df_new.dissolve(by='lab', as_index=False)  # Dissolve polygons with same label\n",
    "df_new = df_new.explode().reset_index(drop=True)\n",
    "print(df_new)\n",
    "df_new.plot(column='lab')\n",
    "plt.xlim([0, 3])\n",
    "plt.ylim([0, 4])"
   ]
  },
  {
   "cell_type": "code",
   "execution_count": 32,
   "metadata": {},
   "outputs": [
    {
     "data": {
      "text/html": [
       "<div>\n",
       "<style scoped>\n",
       "    .dataframe tbody tr th:only-of-type {\n",
       "        vertical-align: middle;\n",
       "    }\n",
       "\n",
       "    .dataframe tbody tr th {\n",
       "        vertical-align: top;\n",
       "    }\n",
       "\n",
       "    .dataframe thead th {\n",
       "        text-align: right;\n",
       "    }\n",
       "</style>\n",
       "<table border=\"1\" class=\"dataframe\">\n",
       "  <thead>\n",
       "    <tr style=\"text-align: right;\">\n",
       "      <th></th>\n",
       "      <th>lab</th>\n",
       "      <th>source</th>\n",
       "      <th>source_1</th>\n",
       "      <th>source_2</th>\n",
       "      <th>geometry</th>\n",
       "    </tr>\n",
       "  </thead>\n",
       "  <tbody>\n",
       "    <tr>\n",
       "      <th>0</th>\n",
       "      <td>A</td>\n",
       "      <td>df1</td>\n",
       "      <td>df1</td>\n",
       "      <td>df2</td>\n",
       "      <td>POLYGON ((1.00000 0.25000, 0.25000 0.25000, 0....</td>\n",
       "    </tr>\n",
       "    <tr>\n",
       "      <th>1</th>\n",
       "      <td>A</td>\n",
       "      <td>df1</td>\n",
       "      <td>df1</td>\n",
       "      <td>df2</td>\n",
       "      <td>POLYGON ((2.50000 0.25000, 2.00000 0.25000, 2....</td>\n",
       "    </tr>\n",
       "    <tr>\n",
       "      <th>2</th>\n",
       "      <td>C</td>\n",
       "      <td>df2</td>\n",
       "      <td>None</td>\n",
       "      <td>None</td>\n",
       "      <td>POLYGON ((1.50000 1.50000, 1.50000 0.50000, 1....</td>\n",
       "    </tr>\n",
       "    <tr>\n",
       "      <th>3</th>\n",
       "      <td>C</td>\n",
       "      <td>df2</td>\n",
       "      <td>None</td>\n",
       "      <td>None</td>\n",
       "      <td>POLYGON ((1.00000 2.00000, 0.25000 2.00000, 0....</td>\n",
       "    </tr>\n",
       "  </tbody>\n",
       "</table>\n",
       "</div>"
      ],
      "text/plain": [
       "  lab source source_1 source_2  \\\n",
       "0   A    df1      df1      df2   \n",
       "1   A    df1      df1      df2   \n",
       "2   C    df2     None     None   \n",
       "3   C    df2     None     None   \n",
       "\n",
       "                                            geometry  \n",
       "0  POLYGON ((1.00000 0.25000, 0.25000 0.25000, 0....  \n",
       "1  POLYGON ((2.50000 0.25000, 2.00000 0.25000, 2....  \n",
       "2  POLYGON ((1.50000 1.50000, 1.50000 0.50000, 1....  \n",
       "3  POLYGON ((1.00000 2.00000, 0.25000 2.00000, 0....  "
      ]
     },
     "execution_count": 32,
     "metadata": {},
     "output_type": "execute_result"
    }
   ],
   "source": [
    "df_new"
   ]
  },
  {
   "attachments": {},
   "cell_type": "markdown",
   "metadata": {},
   "source": [
    "With this, the iterative plan for multi-layered data is:\n",
    "- Define ranking of layers. Layer-1 is to be on top, then layer-2 etc. \n",
    "- Merge layer 1 and 2, and make sure 1 is on top. \n",
    "- Then merge layer-1/2 and layer-3, and make sure 1/2 is on top. \n",
    "- Continue till all layers are done. "
   ]
  },
  {
   "attachments": {},
   "cell_type": "markdown",
   "metadata": {},
   "source": [
    "## Create layer for overriding model predictions:"
   ]
  },
  {
   "cell_type": "code",
   "execution_count": 144,
   "metadata": {},
   "outputs": [
    {
     "data": {
      "text/html": [
       "<div>\n",
       "<style scoped>\n",
       "    .dataframe tbody tr th:only-of-type {\n",
       "        vertical-align: middle;\n",
       "    }\n",
       "\n",
       "    .dataframe tbody tr th {\n",
       "        vertical-align: top;\n",
       "    }\n",
       "\n",
       "    .dataframe thead th {\n",
       "        text-align: right;\n",
       "    }\n",
       "</style>\n",
       "<table border=\"1\" class=\"dataframe\">\n",
       "  <thead>\n",
       "    <tr style=\"text-align: right;\">\n",
       "      <th></th>\n",
       "      <th>Year</th>\n",
       "      <th>MI_PRINX</th>\n",
       "      <th>geometry</th>\n",
       "    </tr>\n",
       "  </thead>\n",
       "  <tbody>\n",
       "    <tr>\n",
       "      <th>0</th>\n",
       "      <td>2015</td>\n",
       "      <td>2</td>\n",
       "      <td>POLYGON ((432454.300 367391.315, 432454.193 36...</td>\n",
       "    </tr>\n",
       "  </tbody>\n",
       "</table>\n",
       "</div>"
      ],
      "text/plain": [
       "   Year  MI_PRINX                                           geometry\n",
       "0  2015         2  POLYGON ((432454.300 367391.315, 432454.193 36..."
      ]
     },
     "execution_count": 144,
     "metadata": {},
     "output_type": "execute_result"
    }
   ],
   "source": [
    "## Load OS data:\n",
    "\n",
    "dir_gpkg = '/home/tplas/data/gis/os_mastermap/'\n",
    "\n",
    "dict_gpkg_file_names = {'roads': 'trn_fts_roadtrackorpath.gpkg',\n",
    "                        'buildings': 'bld_fts_buildingpart.gpkg',\n",
    "                        'sites': 'lus_fts_site.gpkg',\n",
    "                        'structures': 'str_fts_structure.gpkg',\n",
    "                        'railways': 'trn_fts_rail.gpkg',\n",
    "                        'water': 'wtr_fts_water.gpkg',\n",
    "                        'land': 'lnd_fts_land.gpkg'}  # different OS layers\n",
    "\n",
    "dict_gdfs = {}\n",
    "dict_unique_descriptions = {}\n",
    "\n",
    "for key, value in dict_gpkg_file_names.items():\n",
    "    path_layer = os.path.join(dir_gpkg, value)\n",
    "    dict_gdfs[key] = gpd.read_file(path_layer)\n",
    "    dict_unique_descriptions[key] = dict_gdfs[key]['description'].unique()\n",
    "\n",
    "    ## Assert all geometry types are polygons\n",
    "    set_unique_geom_types = set([type(x) for x in dict_gdfs[key]['geometry']])\n",
    "    for geom_type in set_unique_geom_types:\n",
    "        assert geom_type in [shp.geometry.polygon.Polygon, shp.geometry.multipolygon.MultiPolygon], f'Unexpected geometry type {geom_type} for {key}'\n",
    "\n",
    "## Load PD outline:\n",
    "pol_pd_outline = lca.load_pols(path_dict['pd_outline'])\n",
    "pol_pd_outline"
   ]
  },
  {
   "cell_type": "code",
   "execution_count": 145,
   "metadata": {},
   "outputs": [],
   "source": [
    "## Create mapping dict template (from OS description to LC label)\n",
    "\n",
    "os_to_lc_mapping = {key: {} for key in dict_gdfs.keys()}  # separate dict for each OS layer\n",
    "min_size_dict = {key: None for key in dict_gdfs.keys()}\n",
    "\n",
    "## Roads:\n",
    "road_exceptions = ['Cycle Way', 'Path', 'Path And Steps', 'Track']  # all too minor to be considered transport routes\n",
    "assert (np.isin(road_exceptions, dict_unique_descriptions['roads'])).all(), 'Road exceptions not found in OS data'\n",
    "for descr in dict_unique_descriptions['roads']:\n",
    "    if descr not in road_exceptions:\n",
    "        os_to_lc_mapping['roads'][descr] = 'H1b'\n",
    "\n",
    "# ## Buildings:\n",
    "# for descr in dict_unique_descriptions['buildings']:\n",
    "#     os_to_lc_mapping['buildings'][descr] = 'H1a'\n",
    "## Better to use site layer .. ? [Private Residential Site]\n",
    "\n",
    "## Sites:\n",
    "other_isol_dev_list = ['Fish Farm']\n",
    "skip_dev_list = ['Amenity And Open Space Site', 'Mine', 'Outdoor Activity Centre']\n",
    "assert (np.isin(skip_dev_list, dict_unique_descriptions['sites'])).all(), 'Skip development exceptions not found in OS data'\n",
    "assert (np.isin(other_isol_dev_list, dict_unique_descriptions['sites'])).all(), 'Other isolated development exceptions not found in OS data'\n",
    "for descr in dict_unique_descriptions['sites']:\n",
    "    if descr == 'Farm Site':\n",
    "        os_to_lc_mapping['sites'][descr] = 'H3a'\n",
    "    elif descr in other_isol_dev_list:\n",
    "        os_to_lc_mapping['sites'][descr] = 'H3b' \n",
    "    elif descr == 'Quarry':\n",
    "        os_to_lc_mapping['sites'][descr] = 'H2a'  # some false positives in here! See #TODO below\n",
    "    elif descr in ['Rail Freight Transport' 'Rail Maintenance Site' 'Railway Station']:\n",
    "        os_to_lc_mapping['sites'][descr] = 'H1b'\n",
    "    elif descr in skip_dev_list:\n",
    "        continue\n",
    "    else:\n",
    "        os_to_lc_mapping['sites'][descr] = 'H1a'\n",
    "\n",
    "#################\n",
    "## RE quarries:\n",
    "## Maybe a extract all from OS Land and then if description | IS NOT['Quarry']\n",
    "## We could create H2c disused or restored quarry workings\n",
    "## oslandusetiera | Commercial Activity: Industrial Or Manufacturing\n",
    "## description | Heath Or Rough Grassland And Scattered Boulders Or Scattered Rock\n",
    "## description | Quarry\n",
    "#################\n",
    "\n",
    "## Structures \n",
    "## Think we can ignore these; mostly covered by sites for urban staff anyway. otherwise lots of tiny structures that are not relevant.\n",
    "\n",
    "## Railways:\n",
    "for descr in dict_unique_descriptions['railways']:\n",
    "    os_to_lc_mapping['railways'][descr] = 'H1b'\n",
    "\n",
    "## Water:\n",
    "water_exceptions = ['Collects', 'Drain', 'Leat', 'Mill Leat', 'Open Tank Reservoir', 'Open Water Tank', \n",
    "                    'Overflow', 'Paddling Pool', 'Reed Bed For Waste Water', 'Settling Pond', 'Spreads',\n",
    "                    'Spring', 'Swimming Pool', 'Watercourse', 'Waterfall']\n",
    "assert (np.isin(water_exceptions, dict_unique_descriptions['water'])).all(), 'Water exceptions not found in OS data'\n",
    "for descr in dict_unique_descriptions['water']:\n",
    "    if descr not in water_exceptions:\n",
    "        os_to_lc_mapping['water'][descr] = 'F2'\n",
    "## Maybe add minimum area threshold for water? \n",
    "min_size_dict['water'] = 1000\n",
    "\n",
    "## Land:\n",
    "rock_list = ['Boulders Or Rock']\n",
    "urban_land_list = ['Made Surface']\n",
    "assert (np.isin(urban_land_list, dict_unique_descriptions['land'])).all(), 'Urban land exceptions not found in OS data'\n",
    "assert (np.isin(rock_list, dict_unique_descriptions['land'])).all(), 'Rock exceptions not found in OS data'\n",
    "for descr in dict_unique_descriptions['land']:\n",
    "    if descr in rock_list:\n",
    "        os_to_lc_mapping['land'][descr] = 'G2'\n",
    "    elif descr in urban_land_list:\n",
    "        os_to_lc_mapping['land'][descr] = 'H3b'\n",
    "\n",
    "\n"
   ]
  },
  {
   "cell_type": "code",
   "execution_count": 155,
   "metadata": {},
   "outputs": [],
   "source": [
    "# with open('/home/tplas/repos/cnn-land-cover/content/os_to_lc_mapping.json', 'w') as fp:\n",
    "#     json.dump(os_to_lc_mapping, fp, indent=4)"
   ]
  },
  {
   "cell_type": "code",
   "execution_count": 41,
   "metadata": {},
   "outputs": [
    {
     "name": "stdout",
     "output_type": "stream",
     "text": [
      "WARNING: getting intersection with PD will take considerably more time. (Minutes instead of seconds)\n",
      "Using 24745/34716 features from roads layer\n"
     ]
    },
    {
     "name": "stderr",
     "output_type": "stream",
     "text": [
      "/home/tplas/anaconda3/envs/geo/lib/python3.7/site-packages/ipykernel_launcher.py:19: FutureWarning: Currently, index_parts defaults to True, but in the future, it will default to False to be consistent with Pandas. Use `index_parts=True` to keep the current behavior and True/False to silence the warning.\n"
     ]
    },
    {
     "name": "stdout",
     "output_type": "stream",
     "text": [
      "Using 0/56423 features from buildings layer\n",
      "Using 19704/19729 features from sites layer\n"
     ]
    },
    {
     "name": "stderr",
     "output_type": "stream",
     "text": [
      "/home/tplas/anaconda3/envs/geo/lib/python3.7/site-packages/ipykernel_launcher.py:19: FutureWarning: Currently, index_parts defaults to True, but in the future, it will default to False to be consistent with Pandas. Use `index_parts=True` to keep the current behavior and True/False to silence the warning.\n",
      "/home/tplas/anaconda3/envs/geo/lib/python3.7/site-packages/ipykernel_launcher.py:19: FutureWarning: Currently, index_parts defaults to True, but in the future, it will default to False to be consistent with Pandas. Use `index_parts=True` to keep the current behavior and True/False to silence the warning.\n"
     ]
    },
    {
     "name": "stdout",
     "output_type": "stream",
     "text": [
      "Using 0/3089 features from structures layer\n",
      "Using 328/328 features from railways layer\n"
     ]
    },
    {
     "name": "stderr",
     "output_type": "stream",
     "text": [
      "/home/tplas/anaconda3/envs/geo/lib/python3.7/site-packages/ipykernel_launcher.py:19: FutureWarning: Currently, index_parts defaults to True, but in the future, it will default to False to be consistent with Pandas. Use `index_parts=True` to keep the current behavior and True/False to silence the warning.\n",
      "/home/tplas/anaconda3/envs/geo/lib/python3.7/site-packages/ipykernel_launcher.py:19: FutureWarning: Currently, index_parts defaults to True, but in the future, it will default to False to be consistent with Pandas. Use `index_parts=True` to keep the current behavior and True/False to silence the warning.\n"
     ]
    },
    {
     "name": "stdout",
     "output_type": "stream",
     "text": [
      "Using 6943/6943 features from water layer\n",
      "    Using 1038 features from water layer after area thresholding\n"
     ]
    },
    {
     "name": "stderr",
     "output_type": "stream",
     "text": [
      "/home/tplas/anaconda3/envs/geo/lib/python3.7/site-packages/ipykernel_launcher.py:19: FutureWarning: Currently, index_parts defaults to True, but in the future, it will default to False to be consistent with Pandas. Use `index_parts=True` to keep the current behavior and True/False to silence the warning.\n"
     ]
    },
    {
     "name": "stdout",
     "output_type": "stream",
     "text": [
      "Using 19968/180798 features from land layer\n"
     ]
    },
    {
     "name": "stderr",
     "output_type": "stream",
     "text": [
      "/home/tplas/anaconda3/envs/geo/lib/python3.7/site-packages/ipykernel_launcher.py:19: FutureWarning: Currently, index_parts defaults to True, but in the future, it will default to False to be consistent with Pandas. Use `index_parts=True` to keep the current behavior and True/False to silence the warning.\n"
     ]
    }
   ],
   "source": [
    "get_intersection_with_pd_outline = True \n",
    "\n",
    "dict_layers = {} \n",
    "if get_intersection_with_pd_outline:\n",
    "    print('WARNING: getting intersection with PD will take considerably more time. (Minutes instead of seconds)')\n",
    "## Loop through different layers & reduce to only features and attrs needed.\n",
    "for it, (key, gdf_layer) in enumerate(dict_gdfs.items()):\n",
    "    inds_use = gdf_layer['description'].isin(os_to_lc_mapping[key].keys())  # only use features with a mapping\n",
    "    print(f'Using {np.sum(inds_use)}/{len(gdf_layer)} features from {key} layer')\n",
    "    tmp_layer = gdf_layer.loc[inds_use, :].copy()\n",
    "    \n",
    "    if min_size_dict[key] is not None:  # apply area threshold if specified\n",
    "        tmp_layer = tmp_layer.loc[tmp_layer['geometry'].area > min_size_dict[key], :]\n",
    "        print(f'    Using {len(tmp_layer)} features from {key} layer after area thresholding')\n",
    "\n",
    "    tmp_layer['lc_label'] = tmp_layer['description'].map(os_to_lc_mapping[key]) # add LC label\n",
    "    \n",
    "    tmp_layer = tmp_layer.drop(columns=[x for x in list(tmp_layer.columns) if x not in ['geometry', 'lc_label']])  # remove all columns that aren't relevant\n",
    "    tmp_layer = tmp_layer.explode().reset_index(drop=True)  # explode multi-polygons into separate polygons\n",
    "    if get_intersection_with_pd_outline:\n",
    "        # tmp_layer = gpd.overlay(tmp_layer, pol_pd_outline, how='intersection')  # get intersection with PD outline\n",
    "        tmp_layer = dgpd.from_geopandas(tmp_layer, npartitions=16)  # use dask geopandas to speed up intersection with lazy parallelization\n",
    "        tmp_layer = tmp_layer.clip(pol_pd_outline).compute()  # get intersection with PD outline\n",
    "        tmp_layer = tmp_layer.sort_index()\n",
    "    dict_layers[key] = tmp_layer.copy()    \n",
    "\n",
    "    "
   ]
  },
  {
   "cell_type": "code",
   "execution_count": 42,
   "metadata": {},
   "outputs": [
    {
     "name": "stdout",
     "output_type": "stream",
     "text": [
      "Layer roads has epsg:27700\n",
      "Layer buildings has epsg:27700\n",
      "Layer sites has epsg:27700\n",
      "Layer structures has epsg:27700\n",
      "Layer railways has epsg:27700\n",
      "Layer water has epsg:27700\n",
      "Layer land has epsg:27700\n"
     ]
    }
   ],
   "source": [
    "for key, val in dict_layers.items():\n",
    "    print(f'Layer {key} has {val.crs}')"
   ]
  },
  {
   "cell_type": "code",
   "execution_count": 43,
   "metadata": {},
   "outputs": [
    {
     "name": "stdout",
     "output_type": "stream",
     "text": [
      "WARNING: dissolving polygons takes considerably more time (hours instead of minutes).\n",
      "Overlaying water and sites layers\n"
     ]
    },
    {
     "name": "stderr",
     "output_type": "stream",
     "text": [
      "/home/tplas/anaconda3/envs/geo/lib/python3.7/site-packages/ipykernel_launcher.py:24: UserWarning: `keep_geom_type=True` in overlay resulted in 270 dropped geometries of different geometry types than df1 has. Set `keep_geom_type=False` to retain all geometries\n",
      "/home/tplas/anaconda3/envs/geo/lib/python3.7/site-packages/ipykernel_launcher.py:32: FutureWarning: Currently, index_parts defaults to True, but in the future, it will default to False to be consistent with Pandas. Use `index_parts=True` to keep the current behavior and True/False to silence the warning.\n",
      "/home/tplas/anaconda3/envs/geo/lib/python3.7/site-packages/ipykernel_launcher.py:20: UserWarning: CRS mismatch between the CRS of left geometries and the CRS of right geometries.\n",
      "Use `to_crs()` to reproject one of the input geometries to match the CRS of the other.\n",
      "\n",
      "Left CRS: None\n",
      "Right CRS: EPSG:27700\n",
      "\n"
     ]
    },
    {
     "name": "stdout",
     "output_type": "stream",
     "text": [
      "Overlaying railways layer\n"
     ]
    },
    {
     "name": "stderr",
     "output_type": "stream",
     "text": [
      "/home/tplas/anaconda3/envs/geo/lib/python3.7/site-packages/ipykernel_launcher.py:21: UserWarning: CRS mismatch between the CRS of left geometries and the CRS of right geometries.\n",
      "Use `to_crs()` to reproject one of the input geometries to match the CRS of the other.\n",
      "\n",
      "Left CRS: EPSG:27700\n",
      "Right CRS: None\n",
      "\n",
      "/home/tplas/anaconda3/envs/geo/lib/python3.7/site-packages/ipykernel_launcher.py:24: UserWarning: CRS mismatch between the CRS of left geometries and the CRS of right geometries.\n",
      "Use `to_crs()` to reproject one of the input geometries to match the CRS of the other.\n",
      "\n",
      "Left CRS: None\n",
      "Right CRS: EPSG:27700\n",
      "\n",
      "/home/tplas/anaconda3/envs/geo/lib/python3.7/site-packages/ipykernel_launcher.py:24: UserWarning: `keep_geom_type=True` in overlay resulted in 112 dropped geometries of different geometry types than df1 has. Set `keep_geom_type=False` to retain all geometries\n",
      "/home/tplas/anaconda3/envs/geo/lib/python3.7/site-packages/ipykernel_launcher.py:32: FutureWarning: Currently, index_parts defaults to True, but in the future, it will default to False to be consistent with Pandas. Use `index_parts=True` to keep the current behavior and True/False to silence the warning.\n",
      "/home/tplas/anaconda3/envs/geo/lib/python3.7/site-packages/ipykernel_launcher.py:20: UserWarning: CRS mismatch between the CRS of left geometries and the CRS of right geometries.\n",
      "Use `to_crs()` to reproject one of the input geometries to match the CRS of the other.\n",
      "\n",
      "Left CRS: None\n",
      "Right CRS: EPSG:27700\n",
      "\n"
     ]
    },
    {
     "name": "stdout",
     "output_type": "stream",
     "text": [
      "Overlaying roads layer\n"
     ]
    },
    {
     "name": "stderr",
     "output_type": "stream",
     "text": [
      "/home/tplas/anaconda3/envs/geo/lib/python3.7/site-packages/ipykernel_launcher.py:21: UserWarning: CRS mismatch between the CRS of left geometries and the CRS of right geometries.\n",
      "Use `to_crs()` to reproject one of the input geometries to match the CRS of the other.\n",
      "\n",
      "Left CRS: EPSG:27700\n",
      "Right CRS: None\n",
      "\n",
      "/home/tplas/anaconda3/envs/geo/lib/python3.7/site-packages/ipykernel_launcher.py:24: UserWarning: CRS mismatch between the CRS of left geometries and the CRS of right geometries.\n",
      "Use `to_crs()` to reproject one of the input geometries to match the CRS of the other.\n",
      "\n",
      "Left CRS: None\n",
      "Right CRS: EPSG:27700\n",
      "\n",
      "/home/tplas/anaconda3/envs/geo/lib/python3.7/site-packages/ipykernel_launcher.py:24: UserWarning: `keep_geom_type=True` in overlay resulted in 11979 dropped geometries of different geometry types than df1 has. Set `keep_geom_type=False` to retain all geometries\n",
      "/home/tplas/anaconda3/envs/geo/lib/python3.7/site-packages/ipykernel_launcher.py:32: FutureWarning: Currently, index_parts defaults to True, but in the future, it will default to False to be consistent with Pandas. Use `index_parts=True` to keep the current behavior and True/False to silence the warning.\n",
      "/home/tplas/anaconda3/envs/geo/lib/python3.7/site-packages/ipykernel_launcher.py:20: UserWarning: CRS mismatch between the CRS of left geometries and the CRS of right geometries.\n",
      "Use `to_crs()` to reproject one of the input geometries to match the CRS of the other.\n",
      "\n",
      "Left CRS: None\n",
      "Right CRS: EPSG:27700\n",
      "\n"
     ]
    },
    {
     "name": "stdout",
     "output_type": "stream",
     "text": [
      "Overlaying land layer\n"
     ]
    },
    {
     "name": "stderr",
     "output_type": "stream",
     "text": [
      "/home/tplas/anaconda3/envs/geo/lib/python3.7/site-packages/ipykernel_launcher.py:21: UserWarning: CRS mismatch between the CRS of left geometries and the CRS of right geometries.\n",
      "Use `to_crs()` to reproject one of the input geometries to match the CRS of the other.\n",
      "\n",
      "Left CRS: EPSG:27700\n",
      "Right CRS: None\n",
      "\n",
      "/home/tplas/anaconda3/envs/geo/lib/python3.7/site-packages/ipykernel_launcher.py:24: UserWarning: CRS mismatch between the CRS of left geometries and the CRS of right geometries.\n",
      "Use `to_crs()` to reproject one of the input geometries to match the CRS of the other.\n",
      "\n",
      "Left CRS: None\n",
      "Right CRS: EPSG:27700\n",
      "\n",
      "/home/tplas/anaconda3/envs/geo/lib/python3.7/site-packages/ipykernel_launcher.py:24: UserWarning: `keep_geom_type=True` in overlay resulted in 15841 dropped geometries of different geometry types than df1 has. Set `keep_geom_type=False` to retain all geometries\n",
      "/home/tplas/anaconda3/envs/geo/lib/python3.7/site-packages/ipykernel_launcher.py:32: FutureWarning: Currently, index_parts defaults to True, but in the future, it will default to False to be consistent with Pandas. Use `index_parts=True` to keep the current behavior and True/False to silence the warning.\n"
     ]
    }
   ],
   "source": [
    "dissolve_polygons = True\n",
    "\n",
    "ranking_keys = ['water', 'sites', 'railways','roads', 'land']\n",
    "n_keys = len(ranking_keys)\n",
    "df_new = None \n",
    "if dissolve_polygons:\n",
    "    print('WARNING: dissolving polygons takes considerably more time (hours instead of minutes).')\n",
    "for i_rank in range(n_keys - 1):\n",
    "    key_1 = ranking_keys[i_rank]\n",
    "    key_2 = ranking_keys[i_rank + 1]\n",
    "\n",
    "    if df_new is None:\n",
    "        print(f'Overlaying {key_1} and {key_2} layers')\n",
    "        df1 = dict_layers[key_1]\n",
    "    else:\n",
    "        print(f'Overlaying {key_2} layer')\n",
    "        df1 = df_new\n",
    "    df2 = dict_layers[key_2]\n",
    "    # print(f'CRS: {df1.crs}, {df2.crs}')\n",
    "    df_unique_1 = gpd.overlay(df1, df2, how='difference')  # Get df1 polygons that are not in df2\n",
    "    df_unique_2 = gpd.overlay(df2, df1, how='difference')  # Get df2 polygons that are not in df1\n",
    "\n",
    "    ## The line below throws the CRS warning message, not sure why because CRS is specified for both df1 and df2\n",
    "    df_overlap = gpd.overlay(df1, df2, how='intersection')  # Get overlap between df1 and df2\n",
    "    # print(f'CRS of overlap: {df_overlap.crs}')\n",
    "    df_overlap['lc_label'] = df_overlap['lc_label_1']  # choose label that is to be used for overlap\n",
    "    df_overlap = df_overlap.drop(['lc_label_1', 'lc_label_2'], axis=1)\n",
    "    # print(f'CRS: {df_unique_1.crs}, {df_unique_2.crs}, {df_overlap.crs}')\n",
    "    df_new = gpd.GeoDataFrame(pd.concat([df_unique_1, df_unique_2, df_overlap], ignore_index=True))  # Concatenate all polygons\n",
    "    if dissolve_polygons:\n",
    "        df_new = df_new.dissolve(by='lc_label', as_index=False)  # Dissolve polygons with same label\n",
    "        df_new = df_new.explode().reset_index(drop=True)  # explode multi-polygons into separate polygons\n",
    "        "
   ]
  },
  {
   "cell_type": "code",
   "execution_count": 15,
   "metadata": {},
   "outputs": [
    {
     "data": {
      "text/html": [
       "<div>\n",
       "<style scoped>\n",
       "    .dataframe tbody tr th:only-of-type {\n",
       "        vertical-align: middle;\n",
       "    }\n",
       "\n",
       "    .dataframe tbody tr th {\n",
       "        vertical-align: top;\n",
       "    }\n",
       "\n",
       "    .dataframe thead th {\n",
       "        text-align: right;\n",
       "    }\n",
       "</style>\n",
       "<table border=\"1\" class=\"dataframe\">\n",
       "  <thead>\n",
       "    <tr style=\"text-align: right;\">\n",
       "      <th></th>\n",
       "      <th>lc_label</th>\n",
       "      <th>geometry</th>\n",
       "    </tr>\n",
       "  </thead>\n",
       "  <tbody>\n",
       "    <tr>\n",
       "      <th>0</th>\n",
       "      <td>F2</td>\n",
       "      <td>POLYGON ((404838.800 394824.200, 404839.750 39...</td>\n",
       "    </tr>\n",
       "    <tr>\n",
       "      <th>1</th>\n",
       "      <td>F2</td>\n",
       "      <td>POLYGON ((398619.630 369739.780, 398618.700 36...</td>\n",
       "    </tr>\n",
       "    <tr>\n",
       "      <th>2</th>\n",
       "      <td>F2</td>\n",
       "      <td>POLYGON ((425538.300 365733.680, 425530.470 36...</td>\n",
       "    </tr>\n",
       "    <tr>\n",
       "      <th>3</th>\n",
       "      <td>F2</td>\n",
       "      <td>POLYGON ((425415.000 386836.000, 425519.840 38...</td>\n",
       "    </tr>\n",
       "    <tr>\n",
       "      <th>4</th>\n",
       "      <td>F2</td>\n",
       "      <td>POLYGON ((395084.690 378521.910, 395085.100 37...</td>\n",
       "    </tr>\n",
       "    <tr>\n",
       "      <th>...</th>\n",
       "      <td>...</td>\n",
       "      <td>...</td>\n",
       "    </tr>\n",
       "    <tr>\n",
       "      <th>65716</th>\n",
       "      <td>H1a</td>\n",
       "      <td>POLYGON ((411390.350 379236.020, 411382.160 37...</td>\n",
       "    </tr>\n",
       "    <tr>\n",
       "      <th>65717</th>\n",
       "      <td>H1a</td>\n",
       "      <td>POLYGON ((415481.918 359114.248, 415482.100 35...</td>\n",
       "    </tr>\n",
       "    <tr>\n",
       "      <th>65718</th>\n",
       "      <td>H1a</td>\n",
       "      <td>POLYGON ((424506.230 377811.880, 424509.950 37...</td>\n",
       "    </tr>\n",
       "    <tr>\n",
       "      <th>65719</th>\n",
       "      <td>H1a</td>\n",
       "      <td>POLYGON ((406646.400 355270.390, 406646.470 35...</td>\n",
       "    </tr>\n",
       "    <tr>\n",
       "      <th>65720</th>\n",
       "      <td>H1a</td>\n",
       "      <td>POLYGON ((409065.950 380712.170, 409067.100 38...</td>\n",
       "    </tr>\n",
       "  </tbody>\n",
       "</table>\n",
       "<p>65721 rows × 2 columns</p>\n",
       "</div>"
      ],
      "text/plain": [
       "      lc_label                                           geometry\n",
       "0           F2  POLYGON ((404838.800 394824.200, 404839.750 39...\n",
       "1           F2  POLYGON ((398619.630 369739.780, 398618.700 36...\n",
       "2           F2  POLYGON ((425538.300 365733.680, 425530.470 36...\n",
       "3           F2  POLYGON ((425415.000 386836.000, 425519.840 38...\n",
       "4           F2  POLYGON ((395084.690 378521.910, 395085.100 37...\n",
       "...        ...                                                ...\n",
       "65716      H1a  POLYGON ((411390.350 379236.020, 411382.160 37...\n",
       "65717      H1a  POLYGON ((415481.918 359114.248, 415482.100 35...\n",
       "65718      H1a  POLYGON ((424506.230 377811.880, 424509.950 37...\n",
       "65719      H1a  POLYGON ((406646.400 355270.390, 406646.470 35...\n",
       "65720      H1a  POLYGON ((409065.950 380712.170, 409067.100 38...\n",
       "\n",
       "[65721 rows x 2 columns]"
      ]
     },
     "execution_count": 15,
     "metadata": {},
     "output_type": "execute_result"
    }
   ],
   "source": [
    "df_new"
   ]
  },
  {
   "cell_type": "code",
   "execution_count": 44,
   "metadata": {},
   "outputs": [],
   "source": [
    "df_new.to_file('tmp_fgh_layer/tmp_fgh_layer.shp')  # TODO: SAVE CRS!!"
   ]
  },
  {
   "attachments": {},
   "cell_type": "markdown",
   "metadata": {},
   "source": [
    "## Overriding model predictions with this layer:\n",
    "\n",
    "- It's straightforward in principle, but I just expect the runtime to be quite long..\n",
    "- But it's the same procedure as used above when merging layers: just take the difference (pred - FGH) and then add FGH\n",
    "- Will see if it can be sped up somehow, maybe using dask-geopandas?\n"
   ]
  },
  {
   "cell_type": "code",
   "execution_count": 5,
   "metadata": {},
   "outputs": [],
   "source": [
    "filepath_manual_layer = '/home/tplas/data/gis/tmp_fgh_layer/tmp_fgh_layer.shp'\n",
    "df_fgh = gpd.read_file(filepath_manual_layer)\n",
    "date_fgh_modified = str(datetime.datetime.strptime(time.ctime(os.path.getmtime(filepath_manual_layer)), '%a %b %d %H:%M:%S %Y').date())\n",
    "    "
   ]
  },
  {
   "cell_type": "code",
   "execution_count": 24,
   "metadata": {},
   "outputs": [
    {
     "data": {
      "text/plain": [
       "'2023-01-10'"
      ]
     },
     "execution_count": 24,
     "metadata": {},
     "output_type": "execute_result"
    }
   ],
   "source": [
    "date_fgh_modified"
   ]
  },
  {
   "cell_type": "code",
   "execution_count": 6,
   "metadata": {},
   "outputs": [
    {
     "data": {
      "text/html": [
       "<div>\n",
       "<style scoped>\n",
       "    .dataframe tbody tr th:only-of-type {\n",
       "        vertical-align: middle;\n",
       "    }\n",
       "\n",
       "    .dataframe tbody tr th {\n",
       "        vertical-align: top;\n",
       "    }\n",
       "\n",
       "    .dataframe thead th {\n",
       "        text-align: right;\n",
       "    }\n",
       "</style>\n",
       "<table border=\"1\" class=\"dataframe\">\n",
       "  <thead>\n",
       "    <tr style=\"text-align: right;\">\n",
       "      <th></th>\n",
       "      <th>lc_label</th>\n",
       "      <th>geometry</th>\n",
       "      <th>source</th>\n",
       "    </tr>\n",
       "  </thead>\n",
       "  <tbody>\n",
       "    <tr>\n",
       "      <th>0</th>\n",
       "      <td>F2</td>\n",
       "      <td>POLYGON ((400841.890 360432.090, 400841.600 36...</td>\n",
       "      <td>OS NGD retrieved 2023-01-10</td>\n",
       "    </tr>\n",
       "    <tr>\n",
       "      <th>1</th>\n",
       "      <td>F2</td>\n",
       "      <td>POLYGON ((399308.710 360858.520, 399311.100 36...</td>\n",
       "      <td>OS NGD retrieved 2023-01-10</td>\n",
       "    </tr>\n",
       "    <tr>\n",
       "      <th>2</th>\n",
       "      <td>F2</td>\n",
       "      <td>POLYGON ((398209.238 361574.805, 398211.921 36...</td>\n",
       "      <td>OS NGD retrieved 2023-01-10</td>\n",
       "    </tr>\n",
       "    <tr>\n",
       "      <th>3</th>\n",
       "      <td>F2</td>\n",
       "      <td>POLYGON ((399679.571 362509.906, 399682.710 36...</td>\n",
       "      <td>OS NGD retrieved 2023-01-10</td>\n",
       "    </tr>\n",
       "    <tr>\n",
       "      <th>4</th>\n",
       "      <td>F2</td>\n",
       "      <td>POLYGON ((397708.580 363577.710, 397708.910 36...</td>\n",
       "      <td>OS NGD retrieved 2023-01-10</td>\n",
       "    </tr>\n",
       "    <tr>\n",
       "      <th>...</th>\n",
       "      <td>...</td>\n",
       "      <td>...</td>\n",
       "      <td>...</td>\n",
       "    </tr>\n",
       "    <tr>\n",
       "      <th>18051</th>\n",
       "      <td>H3b</td>\n",
       "      <td>POLYGON ((427553.290 395338.570, 427552.560 39...</td>\n",
       "      <td>OS NGD retrieved 2023-01-10</td>\n",
       "    </tr>\n",
       "    <tr>\n",
       "      <th>18052</th>\n",
       "      <td>H3b</td>\n",
       "      <td>POLYGON ((427769.030 395617.170, 427771.450 39...</td>\n",
       "      <td>OS NGD retrieved 2023-01-10</td>\n",
       "    </tr>\n",
       "    <tr>\n",
       "      <th>18053</th>\n",
       "      <td>H3b</td>\n",
       "      <td>POLYGON ((427765.920 395621.030, 427765.720 39...</td>\n",
       "      <td>OS NGD retrieved 2023-01-10</td>\n",
       "    </tr>\n",
       "    <tr>\n",
       "      <th>18054</th>\n",
       "      <td>H3b</td>\n",
       "      <td>POLYGON ((427845.770 395627.500, 427844.170 39...</td>\n",
       "      <td>OS NGD retrieved 2023-01-10</td>\n",
       "    </tr>\n",
       "    <tr>\n",
       "      <th>18055</th>\n",
       "      <td>H3b</td>\n",
       "      <td>POLYGON ((427793.969 395643.348, 427798.820 39...</td>\n",
       "      <td>OS NGD retrieved 2023-01-10</td>\n",
       "    </tr>\n",
       "  </tbody>\n",
       "</table>\n",
       "<p>18056 rows × 3 columns</p>\n",
       "</div>"
      ],
      "text/plain": [
       "      lc_label                                           geometry  \\\n",
       "0           F2  POLYGON ((400841.890 360432.090, 400841.600 36...   \n",
       "1           F2  POLYGON ((399308.710 360858.520, 399311.100 36...   \n",
       "2           F2  POLYGON ((398209.238 361574.805, 398211.921 36...   \n",
       "3           F2  POLYGON ((399679.571 362509.906, 399682.710 36...   \n",
       "4           F2  POLYGON ((397708.580 363577.710, 397708.910 36...   \n",
       "...        ...                                                ...   \n",
       "18051      H3b  POLYGON ((427553.290 395338.570, 427552.560 39...   \n",
       "18052      H3b  POLYGON ((427769.030 395617.170, 427771.450 39...   \n",
       "18053      H3b  POLYGON ((427765.920 395621.030, 427765.720 39...   \n",
       "18054      H3b  POLYGON ((427845.770 395627.500, 427844.170 39...   \n",
       "18055      H3b  POLYGON ((427793.969 395643.348, 427798.820 39...   \n",
       "\n",
       "                            source  \n",
       "0      OS NGD retrieved 2023-01-10  \n",
       "1      OS NGD retrieved 2023-01-10  \n",
       "2      OS NGD retrieved 2023-01-10  \n",
       "3      OS NGD retrieved 2023-01-10  \n",
       "4      OS NGD retrieved 2023-01-10  \n",
       "...                            ...  \n",
       "18051  OS NGD retrieved 2023-01-10  \n",
       "18052  OS NGD retrieved 2023-01-10  \n",
       "18053  OS NGD retrieved 2023-01-10  \n",
       "18054  OS NGD retrieved 2023-01-10  \n",
       "18055  OS NGD retrieved 2023-01-10  \n",
       "\n",
       "[18056 rows x 3 columns]"
      ]
     },
     "execution_count": 6,
     "metadata": {},
     "output_type": "execute_result"
    }
   ],
   "source": [
    "df_fgh['source'] = f'OS NGD retrieved {date_fgh_modified}'\n",
    "df_fgh "
   ]
  },
  {
   "cell_type": "code",
   "execution_count": 3,
   "metadata": {
    "tags": []
   },
   "outputs": [
    {
     "ename": "DriverError",
     "evalue": "tmp_fgh_layer/tmp_fgh_layer.shp: No such file or directory",
     "output_type": "error",
     "traceback": [
      "\u001b[0;31m---------------------------------------------------------------------------\u001b[0m",
      "\u001b[0;31mCPLE_OpenFailedError\u001b[0m                      Traceback (most recent call last)",
      "\u001b[0;32mfiona/_shim.pyx\u001b[0m in \u001b[0;36mfiona._shim.gdal_open_vector\u001b[0;34m()\u001b[0m\n",
      "\u001b[0;32mfiona/_err.pyx\u001b[0m in \u001b[0;36mfiona._err.exc_wrap_pointer\u001b[0;34m()\u001b[0m\n",
      "\u001b[0;31mCPLE_OpenFailedError\u001b[0m: tmp_fgh_layer/tmp_fgh_layer.shp: No such file or directory",
      "\nDuring handling of the above exception, another exception occurred:\n",
      "\u001b[0;31mDriverError\u001b[0m                               Traceback (most recent call last)",
      "\u001b[0;32m/tmp/ipykernel_87563/2788649384.py\u001b[0m in \u001b[0;36m<module>\u001b[0;34m\u001b[0m\n\u001b[1;32m      1\u001b[0m \u001b[0;31m## Load FGH layer & get list of tile paths, and new directory for tile predictions with FGH override\u001b[0m\u001b[0;34m\u001b[0m\u001b[0;34m\u001b[0m\u001b[0;34m\u001b[0m\u001b[0m\n\u001b[0;32m----> 2\u001b[0;31m \u001b[0mdf_fgh\u001b[0m \u001b[0;34m=\u001b[0m \u001b[0mgpd\u001b[0m\u001b[0;34m.\u001b[0m\u001b[0mread_file\u001b[0m\u001b[0;34m(\u001b[0m\u001b[0;34m'tmp_fgh_layer/tmp_fgh_layer.shp'\u001b[0m\u001b[0;34m)\u001b[0m\u001b[0;34m\u001b[0m\u001b[0;34m\u001b[0m\u001b[0m\n\u001b[0m\u001b[1;32m      3\u001b[0m \u001b[0;34m\u001b[0m\u001b[0m\n\u001b[1;32m      4\u001b[0m \u001b[0mtile_predictions_folder\u001b[0m \u001b[0;34m=\u001b[0m \u001b[0;34m'/home/tplas/predictions_LCU_2022-11-30-1205_dissolved1000m2/'\u001b[0m\u001b[0;34m\u001b[0m\u001b[0;34m\u001b[0m\u001b[0m\n\u001b[1;32m      5\u001b[0m \u001b[0mnew_tile_predictions_override_folder\u001b[0m \u001b[0;34m=\u001b[0m \u001b[0;34m'/home/tplas/predictions_LCU_2022-11-30-1205_dissolved1000m2_FGH-override/'\u001b[0m\u001b[0;34m\u001b[0m\u001b[0;34m\u001b[0m\u001b[0m\n",
      "\u001b[0;32m~/anaconda3/envs/geo/lib/python3.7/site-packages/geopandas/io/file.py\u001b[0m in \u001b[0;36m_read_file\u001b[0;34m(filename, bbox, mask, rows, **kwargs)\u001b[0m\n\u001b[1;32m    199\u001b[0m \u001b[0;34m\u001b[0m\u001b[0m\n\u001b[1;32m    200\u001b[0m     \u001b[0;32mwith\u001b[0m \u001b[0mfiona_env\u001b[0m\u001b[0;34m(\u001b[0m\u001b[0;34m)\u001b[0m\u001b[0;34m:\u001b[0m\u001b[0;34m\u001b[0m\u001b[0;34m\u001b[0m\u001b[0m\n\u001b[0;32m--> 201\u001b[0;31m         \u001b[0;32mwith\u001b[0m \u001b[0mreader\u001b[0m\u001b[0;34m(\u001b[0m\u001b[0mpath_or_bytes\u001b[0m\u001b[0;34m,\u001b[0m \u001b[0;34m**\u001b[0m\u001b[0mkwargs\u001b[0m\u001b[0;34m)\u001b[0m \u001b[0;32mas\u001b[0m \u001b[0mfeatures\u001b[0m\u001b[0;34m:\u001b[0m\u001b[0;34m\u001b[0m\u001b[0;34m\u001b[0m\u001b[0m\n\u001b[0m\u001b[1;32m    202\u001b[0m \u001b[0;34m\u001b[0m\u001b[0m\n\u001b[1;32m    203\u001b[0m             \u001b[0;31m# In a future Fiona release the crs attribute of features will\u001b[0m\u001b[0;34m\u001b[0m\u001b[0;34m\u001b[0m\u001b[0;34m\u001b[0m\u001b[0m\n",
      "\u001b[0;32m~/anaconda3/envs/geo/lib/python3.7/site-packages/fiona/env.py\u001b[0m in \u001b[0;36mwrapper\u001b[0;34m(*args, **kwargs)\u001b[0m\n\u001b[1;32m    396\u001b[0m     \u001b[0;32mdef\u001b[0m \u001b[0mwrapper\u001b[0m\u001b[0;34m(\u001b[0m\u001b[0;34m*\u001b[0m\u001b[0margs\u001b[0m\u001b[0;34m,\u001b[0m \u001b[0;34m**\u001b[0m\u001b[0mkwargs\u001b[0m\u001b[0;34m)\u001b[0m\u001b[0;34m:\u001b[0m\u001b[0;34m\u001b[0m\u001b[0;34m\u001b[0m\u001b[0m\n\u001b[1;32m    397\u001b[0m         \u001b[0;32mif\u001b[0m \u001b[0mlocal\u001b[0m\u001b[0;34m.\u001b[0m\u001b[0m_env\u001b[0m\u001b[0;34m:\u001b[0m\u001b[0;34m\u001b[0m\u001b[0;34m\u001b[0m\u001b[0m\n\u001b[0;32m--> 398\u001b[0;31m             \u001b[0;32mreturn\u001b[0m \u001b[0mf\u001b[0m\u001b[0;34m(\u001b[0m\u001b[0;34m*\u001b[0m\u001b[0margs\u001b[0m\u001b[0;34m,\u001b[0m \u001b[0;34m**\u001b[0m\u001b[0mkwargs\u001b[0m\u001b[0;34m)\u001b[0m\u001b[0;34m\u001b[0m\u001b[0;34m\u001b[0m\u001b[0m\n\u001b[0m\u001b[1;32m    399\u001b[0m         \u001b[0;32melse\u001b[0m\u001b[0;34m:\u001b[0m\u001b[0;34m\u001b[0m\u001b[0;34m\u001b[0m\u001b[0m\n\u001b[1;32m    400\u001b[0m             \u001b[0;32mif\u001b[0m \u001b[0misinstance\u001b[0m\u001b[0;34m(\u001b[0m\u001b[0margs\u001b[0m\u001b[0;34m[\u001b[0m\u001b[0;36m0\u001b[0m\u001b[0;34m]\u001b[0m\u001b[0;34m,\u001b[0m \u001b[0mstr\u001b[0m\u001b[0;34m)\u001b[0m\u001b[0;34m:\u001b[0m\u001b[0;34m\u001b[0m\u001b[0;34m\u001b[0m\u001b[0m\n",
      "\u001b[0;32m~/anaconda3/envs/geo/lib/python3.7/site-packages/fiona/__init__.py\u001b[0m in \u001b[0;36mopen\u001b[0;34m(fp, mode, driver, schema, crs, encoding, layer, vfs, enabled_drivers, crs_wkt, **kwargs)\u001b[0m\n\u001b[1;32m    252\u001b[0m         \u001b[0;32mif\u001b[0m \u001b[0mmode\u001b[0m \u001b[0;32min\u001b[0m \u001b[0;34m(\u001b[0m\u001b[0;34m'a'\u001b[0m\u001b[0;34m,\u001b[0m \u001b[0;34m'r'\u001b[0m\u001b[0;34m)\u001b[0m\u001b[0;34m:\u001b[0m\u001b[0;34m\u001b[0m\u001b[0;34m\u001b[0m\u001b[0m\n\u001b[1;32m    253\u001b[0m             c = Collection(path, mode, driver=driver, encoding=encoding,\n\u001b[0;32m--> 254\u001b[0;31m                            layer=layer, enabled_drivers=enabled_drivers, **kwargs)\n\u001b[0m\u001b[1;32m    255\u001b[0m         \u001b[0;32melif\u001b[0m \u001b[0mmode\u001b[0m \u001b[0;34m==\u001b[0m \u001b[0;34m'w'\u001b[0m\u001b[0;34m:\u001b[0m\u001b[0;34m\u001b[0m\u001b[0;34m\u001b[0m\u001b[0m\n\u001b[1;32m    256\u001b[0m             \u001b[0;32mif\u001b[0m \u001b[0mschema\u001b[0m\u001b[0;34m:\u001b[0m\u001b[0;34m\u001b[0m\u001b[0;34m\u001b[0m\u001b[0m\n",
      "\u001b[0;32m~/anaconda3/envs/geo/lib/python3.7/site-packages/fiona/collection.py\u001b[0m in \u001b[0;36m__init__\u001b[0;34m(self, path, mode, driver, schema, crs, encoding, layer, vsi, archive, enabled_drivers, crs_wkt, ignore_fields, ignore_geometry, **kwargs)\u001b[0m\n\u001b[1;32m    152\u001b[0m             \u001b[0;32mif\u001b[0m \u001b[0mself\u001b[0m\u001b[0;34m.\u001b[0m\u001b[0mmode\u001b[0m \u001b[0;34m==\u001b[0m \u001b[0;34m'r'\u001b[0m\u001b[0;34m:\u001b[0m\u001b[0;34m\u001b[0m\u001b[0;34m\u001b[0m\u001b[0m\n\u001b[1;32m    153\u001b[0m                 \u001b[0mself\u001b[0m\u001b[0;34m.\u001b[0m\u001b[0msession\u001b[0m \u001b[0;34m=\u001b[0m \u001b[0mSession\u001b[0m\u001b[0;34m(\u001b[0m\u001b[0;34m)\u001b[0m\u001b[0;34m\u001b[0m\u001b[0;34m\u001b[0m\u001b[0m\n\u001b[0;32m--> 154\u001b[0;31m                 \u001b[0mself\u001b[0m\u001b[0;34m.\u001b[0m\u001b[0msession\u001b[0m\u001b[0;34m.\u001b[0m\u001b[0mstart\u001b[0m\u001b[0;34m(\u001b[0m\u001b[0mself\u001b[0m\u001b[0;34m,\u001b[0m \u001b[0;34m**\u001b[0m\u001b[0mkwargs\u001b[0m\u001b[0;34m)\u001b[0m\u001b[0;34m\u001b[0m\u001b[0;34m\u001b[0m\u001b[0m\n\u001b[0m\u001b[1;32m    155\u001b[0m             \u001b[0;32melif\u001b[0m \u001b[0mself\u001b[0m\u001b[0;34m.\u001b[0m\u001b[0mmode\u001b[0m \u001b[0;32min\u001b[0m \u001b[0;34m(\u001b[0m\u001b[0;34m'a'\u001b[0m\u001b[0;34m,\u001b[0m \u001b[0;34m'w'\u001b[0m\u001b[0;34m)\u001b[0m\u001b[0;34m:\u001b[0m\u001b[0;34m\u001b[0m\u001b[0;34m\u001b[0m\u001b[0m\n\u001b[1;32m    156\u001b[0m                 \u001b[0mself\u001b[0m\u001b[0;34m.\u001b[0m\u001b[0msession\u001b[0m \u001b[0;34m=\u001b[0m \u001b[0mWritingSession\u001b[0m\u001b[0;34m(\u001b[0m\u001b[0;34m)\u001b[0m\u001b[0;34m\u001b[0m\u001b[0;34m\u001b[0m\u001b[0m\n",
      "\u001b[0;32mfiona/ogrext.pyx\u001b[0m in \u001b[0;36mfiona.ogrext.Session.start\u001b[0;34m()\u001b[0m\n",
      "\u001b[0;32mfiona/_shim.pyx\u001b[0m in \u001b[0;36mfiona._shim.gdal_open_vector\u001b[0;34m()\u001b[0m\n",
      "\u001b[0;31mDriverError\u001b[0m: tmp_fgh_layer/tmp_fgh_layer.shp: No such file or directory"
     ]
    }
   ],
   "source": [
    "## Load FGH layer & get list of tile paths, and new directory for tile predictions with FGH override\n",
    "df_fgh = gpd.read_file('//home/tplas/data/gis/tmp_fgh_layer/tmp_fgh_layer.shp')\n",
    "\n",
    "tile_predictions_folder = '/home/tplas/predictions_LCU_2022-11-30-1205_dissolved1000m2/'\n",
    "new_tile_predictions_override_folder = '/home/tplas/predictions_LCU_2022-11-30-1205_dissolved1000m2_FGH-override/'\n",
    "if not os.path.exists(new_tile_predictions_override_folder):\n",
    "    os.mkdir(new_tile_predictions_override_folder)\n",
    "subdirs_tiles = [os.path.join(tile_predictions_folder, x) for x in os.listdir(tile_predictions_folder) if os.path.isdir(os.path.join(tile_predictions_folder, x))]\n",
    "dict_shp_files = {} \n",
    "dict_new_shp_files = {}\n",
    "for tile_dir in subdirs_tiles:\n",
    "    ## Get tile name\n",
    "    tilename = tile_dir.split('/')[-1].split('_')[2]\n",
    "    assert len(tilename) == 6\n",
    "\n",
    "    ## Get path to shp file\n",
    "    tmp_list_shp_files = [os.path.join(tile_dir, x) for x in os.listdir(tile_dir) if x[-4:] == '.shp']\n",
    "    assert len(tmp_list_shp_files) == 1 \n",
    "    dict_shp_files[tilename] = tmp_list_shp_files[0]\n",
    "\n",
    "    ## Set path for new shp file to be saved\n",
    "    new_dir = os.path.join(new_tile_predictions_override_folder, tile_dir.split('/')[-1] + '_FGH-override')\n",
    "    if not os.path.exists(new_dir):\n",
    "        os.mkdir(new_dir)\n",
    "\n",
    "    ## Load shp file to see how many pols there are (takes some extra time)\n",
    "    dict_new_shp_files[tilename] = os.path.join(new_dir, new_dir.split('/')[-1] + '.shp')\n",
    "    tmp_pols = lca.load_pols(dict_shp_files[tilename])\n",
    "    if len(tmp_pols) > 20:\n",
    "        print(f'Loaded {len(tmp_pols)} polygons for tile {tilename}')\n"
   ]
  },
  {
   "cell_type": "code",
   "execution_count": null,
   "metadata": {},
   "outputs": [],
   "source": [
    "## Loop over tiles and apply FGH override\n",
    "mapping_dict = {'Wood and Forest Land': 'C', 'Moor and Heath Land': 'D', \n",
    "                'Agro-Pastoral Land': 'E', 'NO CLASS': 'I'}\n",
    "print(dict_shp_files.keys())\n",
    "for tilename, tile_pred_path in tqdm(dict_shp_files.items()):\n",
    "    print(tilename)\n",
    "    df_pred = gpd.read_file(tile_pred_path)\n",
    "    df_pred = df_pred.copy()\n",
    "    df_pred = df_pred.drop(['class', 'area'], axis=1)\n",
    "    if len(df_pred) == 1:  # just to verify that what's happening is what I think is happening\n",
    "        assert 'polygon_id' not in df_pred.columns\n",
    "    else:\n",
    "        df_pred = df_pred.drop(['polygon_id'], axis=1)\n",
    "    df_pred['lc_label'] = df_pred['Class name'].map(mapping_dict)\n",
    "    df_pred = df_pred.drop(['Class name'], axis=1)\n",
    "    # df_pred = df_pred.explode().reset_index(drop=True)  # explode multi-polygons into separate polygons\n",
    "    df_diff = gpd.overlay(df_pred, df_fgh, how='difference')  # Get df pred polygons that are not in df fgh \n",
    "    df_diff = df_diff.explode().reset_index(drop=True)\n",
    "    df_intersect = gpd.overlay(df_pred, df_fgh, how='intersection')  # Get overlap between df pred and df fgh\n",
    "    df_intersect['lc_label'] = df_intersect['lc_label_2']\n",
    "    df_intersect = df_intersect.drop(['lc_label_1', 'lc_label_2'], axis=1)\n",
    "    df_intersect = df_intersect.explode().reset_index(drop=True)\n",
    "    df_new = gpd.GeoDataFrame(pd.concat([df_diff, df_intersect], ignore_index=True))  # Concatenate all polygons\n",
    "    df_new = lca.add_main_category_index_column(df_lc=df_new, col_code_name='lc_label',\n",
    "                                                 col_ind_name='class')  # add numeric main label column\n",
    "    df_new.crs = df_pred.crs\n",
    "    # df_new = df_new.explode().reset_index(drop=True)\n",
    "    \n",
    "    new_tile_path = dict_new_shp_files[tilename]\n",
    "    df_new.to_file(new_tile_path)\n"
   ]
  },
  {
   "cell_type": "code",
   "execution_count": 62,
   "metadata": {},
   "outputs": [
    {
     "name": "stderr",
     "output_type": "stream",
     "text": [
      "100%|██████████| 50/50 [00:06<00:00,  8.09it/s]\n"
     ]
    }
   ],
   "source": [
    "## Temp fix:\n",
    "if False:\n",
    "    for tilename, tile_pred_path in tqdm(dict_new_shp_files.items()):\n",
    "        # print(tilename)\n",
    "        df_pred = gpd.read_file(tile_pred_path)\n",
    "        df_new = lca.add_main_category_index_column(df_lc=df_pred, col_code_name='lc_label',\n",
    "                                                    col_ind_name='class')  # add numeric main label column\n",
    "        df_new.crs = tmp_pols.crs\n",
    "        df_new.to_file(tile_pred_path)\n",
    "        # break \n"
   ]
  },
  {
   "attachments": {},
   "cell_type": "markdown",
   "metadata": {},
   "source": [
    "#### Override 2022 annotations:"
   ]
  },
  {
   "cell_type": "code",
   "execution_count": 7,
   "metadata": {},
   "outputs": [
    {
     "name": "stderr",
     "output_type": "stream",
     "text": [
      "/home/tplas/anaconda3/envs/geo/lib/python3.7/site-packages/ipykernel_launcher.py:15: UserWarning: CRS mismatch between the CRS of left geometries and the CRS of right geometries.\n",
      "Use `to_crs()` to reproject one of the input geometries to match the CRS of the other.\n",
      "\n",
      "Left CRS: PROJCS[\"OSGB_1936_British_National_Grid\",GEOGCS[\"G ...\n",
      "Right CRS: None\n",
      "\n",
      "  from ipykernel import kernelapp as app\n",
      "/home/tplas/anaconda3/envs/geo/lib/python3.7/site-packages/ipykernel_launcher.py:16: FutureWarning: Currently, index_parts defaults to True, but in the future, it will default to False to be consistent with Pandas. Use `index_parts=True` to keep the current behavior and True/False to silence the warning.\n",
      "  \n",
      "/home/tplas/anaconda3/envs/geo/lib/python3.7/site-packages/ipykernel_launcher.py:17: UserWarning: CRS mismatch between the CRS of left geometries and the CRS of right geometries.\n",
      "Use `to_crs()` to reproject one of the input geometries to match the CRS of the other.\n",
      "\n",
      "Left CRS: PROJCS[\"OSGB_1936_British_National_Grid\",GEOGCS[\"G ...\n",
      "Right CRS: None\n",
      "\n",
      "  app.launch_new_instance()\n",
      "/home/tplas/anaconda3/envs/geo/lib/python3.7/site-packages/ipykernel_launcher.py:22: FutureWarning: Currently, index_parts defaults to True, but in the future, it will default to False to be consistent with Pandas. Use `index_parts=True` to keep the current behavior and True/False to silence the warning.\n",
      "/home/tplas/anaconda3/envs/geo/lib/python3.7/site-packages/ipykernel_launcher.py:25: FutureWarning: Currently, index_parts defaults to True, but in the future, it will default to False to be consistent with Pandas. Use `index_parts=True` to keep the current behavior and True/False to silence the warning.\n"
     ]
    }
   ],
   "source": [
    "## Load FGH layer & get list of tile paths, and new directory for tile predictions with FGH override\n",
    "df_fgh = gpd.read_file('/home/tplas/data/gis/tmp_fgh_layer/tmp_fgh_layer.shp')\n",
    "df_fgh['Class_Code'] = df_fgh['lc_label'].apply(lambda x: x[0])\n",
    "df_fgh['Class_low'] = df_fgh['lc_label']\n",
    "df_fgh = df_fgh.drop(['lc_label'], axis=1)\n",
    "\n",
    "eval_pols_path = '/home/tplas/repos/cnn-land-cover/content/evaluation_polygons/landscape_character_2022/landscape_character_2022.shp'\n",
    "new_eval_pols_override_path = '/home/tplas/repos/cnn-land-cover/content/evaluation_polygons/landscape_character_2022_FGH-override/landscape_character_2022_FGH-override.shp'\n",
    "\n",
    "eval_pols = lca.load_pols(eval_pols_path)\n",
    "eval_pols['Class_low'] = eval_pols['Class_Code']\n",
    "eval_pols = eval_pols.drop(['AREA', 'PERIMETER', 'LC_N_80', 'LC_D_80', 'MI_PRINX', 'Code'], axis=1)\n",
    "# eval_pols.head()\n",
    "\n",
    "df_diff = gpd.overlay(eval_pols, df_fgh, how='difference')  # Get df pred polygons that are not in df fgh \n",
    "df_diff = df_diff.explode().reset_index(drop=True)\n",
    "df_intersect = gpd.overlay(eval_pols, df_fgh, how='intersection')  # Get overlap between df pred and df fgh\n",
    "df_intersect['Class_Code'] = df_intersect['Class_Code_2']\n",
    "df_intersect = df_intersect.drop(['Class_Code_1', 'Class_Code_2'], axis=1)\n",
    "df_intersect['Class_low'] = df_intersect['Class_low_2']\n",
    "df_intersect = df_intersect.drop(['Class_low_1', 'Class_low_2'], axis=1)\n",
    "df_intersect = df_intersect.explode().reset_index(drop=True)\n",
    "df_new = gpd.GeoDataFrame(pd.concat([df_diff, df_intersect], ignore_index=True))  # Concatenate all polygons\n",
    "df_new = df_new.dissolve(by='Class_low', as_index=False)  # Dissolve polygons with same label\n",
    "df_new = df_new.explode().reset_index(drop=True)  # explode multi-polygons into separate polygons\n",
    "df_new['Class_high'] = df_new['Class_Code']\n",
    "df_new = df_new.drop(['Class_Code'], axis=1)\n",
    "df_new.crs = eval_pols.crs\n",
    "\n",
    "df_new.to_file(new_eval_pols_override_path)"
   ]
  },
  {
   "cell_type": "code",
   "execution_count": 8,
   "metadata": {},
   "outputs": [
    {
     "data": {
      "text/html": [
       "<div>\n",
       "<style scoped>\n",
       "    .dataframe tbody tr th:only-of-type {\n",
       "        vertical-align: middle;\n",
       "    }\n",
       "\n",
       "    .dataframe tbody tr th {\n",
       "        vertical-align: top;\n",
       "    }\n",
       "\n",
       "    .dataframe thead th {\n",
       "        text-align: right;\n",
       "    }\n",
       "</style>\n",
       "<table border=\"1\" class=\"dataframe\">\n",
       "  <thead>\n",
       "    <tr style=\"text-align: right;\">\n",
       "      <th></th>\n",
       "      <th>Class_low</th>\n",
       "      <th>Class_high</th>\n",
       "      <th>geometry</th>\n",
       "    </tr>\n",
       "  </thead>\n",
       "  <tbody>\n",
       "    <tr>\n",
       "      <th>0</th>\n",
       "      <td>C</td>\n",
       "      <td>C</td>\n",
       "      <td>POLYGON ((405134.613 354056.340, 405141.829 35...</td>\n",
       "    </tr>\n",
       "    <tr>\n",
       "      <th>1</th>\n",
       "      <td>C</td>\n",
       "      <td>C</td>\n",
       "      <td>POLYGON ((405817.887 354457.575, 405821.021 35...</td>\n",
       "    </tr>\n",
       "    <tr>\n",
       "      <th>2</th>\n",
       "      <td>C</td>\n",
       "      <td>C</td>\n",
       "      <td>POLYGON ((405116.150 354565.590, 405116.300 35...</td>\n",
       "    </tr>\n",
       "    <tr>\n",
       "      <th>3</th>\n",
       "      <td>C</td>\n",
       "      <td>C</td>\n",
       "      <td>POLYGON ((405122.140 354531.540, 405121.650 35...</td>\n",
       "    </tr>\n",
       "    <tr>\n",
       "      <th>4</th>\n",
       "      <td>C</td>\n",
       "      <td>C</td>\n",
       "      <td>POLYGON ((405088.161 354722.453, 405097.632 35...</td>\n",
       "    </tr>\n",
       "    <tr>\n",
       "      <th>...</th>\n",
       "      <td>...</td>\n",
       "      <td>...</td>\n",
       "      <td>...</td>\n",
       "    </tr>\n",
       "    <tr>\n",
       "      <th>1688</th>\n",
       "      <td>H3b</td>\n",
       "      <td>H</td>\n",
       "      <td>POLYGON ((424178.429 396246.398, 424179.660 39...</td>\n",
       "    </tr>\n",
       "    <tr>\n",
       "      <th>1689</th>\n",
       "      <td>H3b</td>\n",
       "      <td>H</td>\n",
       "      <td>POLYGON ((424309.522 396249.667, 424310.680 39...</td>\n",
       "    </tr>\n",
       "    <tr>\n",
       "      <th>1690</th>\n",
       "      <td>H3b</td>\n",
       "      <td>H</td>\n",
       "      <td>POLYGON ((424374.990 396246.520, 424373.400 39...</td>\n",
       "    </tr>\n",
       "    <tr>\n",
       "      <th>1691</th>\n",
       "      <td>H3b</td>\n",
       "      <td>H</td>\n",
       "      <td>POLYGON ((424751.859 396847.889, 424762.494 39...</td>\n",
       "    </tr>\n",
       "    <tr>\n",
       "      <th>1692</th>\n",
       "      <td>H3b</td>\n",
       "      <td>H</td>\n",
       "      <td>POLYGON ((424751.859 396847.889, 424752.910 39...</td>\n",
       "    </tr>\n",
       "  </tbody>\n",
       "</table>\n",
       "<p>1693 rows × 3 columns</p>\n",
       "</div>"
      ],
      "text/plain": [
       "     Class_low Class_high                                           geometry\n",
       "0            C          C  POLYGON ((405134.613 354056.340, 405141.829 35...\n",
       "1            C          C  POLYGON ((405817.887 354457.575, 405821.021 35...\n",
       "2            C          C  POLYGON ((405116.150 354565.590, 405116.300 35...\n",
       "3            C          C  POLYGON ((405122.140 354531.540, 405121.650 35...\n",
       "4            C          C  POLYGON ((405088.161 354722.453, 405097.632 35...\n",
       "...        ...        ...                                                ...\n",
       "1688       H3b          H  POLYGON ((424178.429 396246.398, 424179.660 39...\n",
       "1689       H3b          H  POLYGON ((424309.522 396249.667, 424310.680 39...\n",
       "1690       H3b          H  POLYGON ((424374.990 396246.520, 424373.400 39...\n",
       "1691       H3b          H  POLYGON ((424751.859 396847.889, 424762.494 39...\n",
       "1692       H3b          H  POLYGON ((424751.859 396847.889, 424752.910 39...\n",
       "\n",
       "[1693 rows x 3 columns]"
      ]
     },
     "execution_count": 8,
     "metadata": {},
     "output_type": "execute_result"
    }
   ],
   "source": [
    "tmp = gpd.read_file(new_eval_pols_override_path)\n",
    "tmp"
   ]
  },
  {
   "cell_type": "code",
   "execution_count": 133,
   "metadata": {},
   "outputs": [
    {
     "name": "stderr",
     "output_type": "stream",
     "text": [
      "100%|██████████| 50/50 [00:01<00:00, 39.24it/s]\n",
      "100%|██████████| 50/50 [02:44<00:00,  3.29s/it]\n"
     ]
    }
   ],
   "source": [
    "## Save as tiffs:\n",
    "tiff_dir_path = '/home/tplas/data/gis/most recent APGB 12.5cm aerial/evaluation_tiles/117574_20221122/tile_masks_2022_FGH-override'\n",
    "if os.path.exists(tiff_dir_path) is False:\n",
    "    os.mkdir(tiff_dir_path)\n",
    "    \n",
    "outline_eval_tiles = lca.load_pols('/home/tplas/repos/cnn-land-cover/content/evaluation_sample_50tiles/evaluation_sample_50tiles.shp')\n",
    "dict_intersect_pols_tiles_eval = lca.get_pols_for_tiles(df_pols=df_new, df_tiles=outline_eval_tiles,\n",
    "                                                       col_name='PLAN_NO', extract_main_categories_only=True)\n",
    "\n",
    "for tile_name, df_tile in tqdm(dict_intersect_pols_tiles_eval.items()):\n",
    "\n",
    "    df_tile = lca.add_main_category_index_column(df_lc=df_tile, col_code_name='Class_Code', \n",
    "                                                col_ind_name='class')  # add numeric main label column \n",
    "    ds_tile = lca.convert_shp_mask_to_raster(df_shp=df_tile, col_name='class',\n",
    "                                            plot_raster=False, save_raster=True, verbose=0,\n",
    "                                            maskdir=tiff_dir_path, filename=f'{tile_name}_lc_2022_FGH-override_mask.tif')"
   ]
  },
  {
   "attachments": {},
   "cell_type": "markdown",
   "metadata": {},
   "source": [
    "## Evaluate difference between override & non-override predictions:"
   ]
  },
  {
   "cell_type": "code",
   "execution_count": 137,
   "metadata": {},
   "outputs": [
    {
     "name": "stdout",
     "output_type": "stream",
     "text": [
      "Loaded LCU model\n",
      "n_max_epochs is 15\n",
      "Loading predicted mask shp files\n"
     ]
    },
    {
     "name": "stderr",
     "output_type": "stream",
     "text": [
      "50it [04:08,  4.97s/it]\n"
     ]
    },
    {
     "name": "stdout",
     "output_type": "stream",
     "text": [
      "Loading predicted mask shp files\n"
     ]
    },
    {
     "name": "stderr",
     "output_type": "stream",
     "text": [
      "50it [04:11,  5.02s/it]\n"
     ]
    }
   ],
   "source": [
    "## Evaluate difference in accuracy\n",
    "\n",
    "LCU = lcm.load_model(filename='scripts/LCU_2022-11-30-1205.data')\n",
    "LCU.eval()                         \n",
    "\n",
    "stats_pred_vs_2022_dissolved_override = lca.compute_confusion_mat_from_dirs(dir_mask_true='/home/tplas/data/gis/most recent APGB 12.5cm aerial/evaluation_tiles/117574_20221122/tile_masks_2022_FGH-override',\n",
    "                                            dir_mask_pred_shp=new_tile_predictions_override_folder,\n",
    "                                            # dir_mask_pred_tif='/home/tplas/data/gis/most recent APGB 12.5cm aerial/evaluation_tiles/117574_20221122/tile_masks_80s/',\n",
    "                                            # path_mapping_pred_dict = '/home/tplas/repos/cnn-land-cover/content/label_mapping_dicts/label_mapping_dict__main_categories__2022-11-17-1512.pkl',\n",
    "                                            lc_class_name_list=LCU.dict_training_details['class_name_list'],\n",
    "                                            unique_labels_array=np.arange(len(LCU.dict_training_details['class_name_list'])),\n",
    "                                            skip_factor=None, col_name_shp_file='class')\n",
    "                                            \n",
    "\n",
    "stats_pred_vs_2022_dissolved = lca.compute_confusion_mat_from_dirs(dir_mask_true='/home/tplas/data/gis/most recent APGB 12.5cm aerial/evaluation_tiles/117574_20221122/tile_masks_2022_FGH-override',\n",
    "                                            dir_mask_pred_shp=tile_predictions_folder,\n",
    "                                            # dir_mask_pred_tif='/home/tplas/data/gis/most recent APGB 12.5cm aerial/evaluation_tiles/117574_20221122/tile_masks_80s/',\n",
    "                                            # path_mapping_pred_dict = '/home/tplas/repos/cnn-land-cover/content/label_mapping_dicts/label_mapping_dict__main_categories__2022-11-17-1512.pkl',\n",
    "                                            lc_class_name_list=LCU.dict_training_details['class_name_list'],\n",
    "                                            unique_labels_array=np.arange(len(LCU.dict_training_details['class_name_list'])),\n",
    "                                            skip_factor=None, col_name_shp_file='class')\n",
    "                                            "
   ]
  },
  {
   "cell_type": "code",
   "execution_count": 84,
   "metadata": {},
   "outputs": [
    {
     "data": {
      "text/html": [
       "<div>\n",
       "<style scoped>\n",
       "    .dataframe tbody tr th:only-of-type {\n",
       "        vertical-align: middle;\n",
       "    }\n",
       "\n",
       "    .dataframe tbody tr th {\n",
       "        vertical-align: top;\n",
       "    }\n",
       "\n",
       "    .dataframe thead th {\n",
       "        text-align: right;\n",
       "    }\n",
       "</style>\n",
       "<table border=\"1\" class=\"dataframe\">\n",
       "  <thead>\n",
       "    <tr style=\"text-align: right;\">\n",
       "      <th></th>\n",
       "      <th>class name</th>\n",
       "      <th>class shortcut</th>\n",
       "      <th>sensitivity</th>\n",
       "      <th>precision</th>\n",
       "      <th>true density</th>\n",
       "      <th>predicted density</th>\n",
       "    </tr>\n",
       "  </thead>\n",
       "  <tbody>\n",
       "    <tr>\n",
       "      <th>0</th>\n",
       "      <td>NO CLASS</td>\n",
       "      <td>0</td>\n",
       "      <td>0.000000</td>\n",
       "      <td>NaN</td>\n",
       "      <td>0.000019</td>\n",
       "      <td>0.000000</td>\n",
       "    </tr>\n",
       "    <tr>\n",
       "      <th>1</th>\n",
       "      <td>Wood and Forest Land</td>\n",
       "      <td>C</td>\n",
       "      <td>0.447859</td>\n",
       "      <td>0.185928</td>\n",
       "      <td>0.119319</td>\n",
       "      <td>0.287414</td>\n",
       "    </tr>\n",
       "    <tr>\n",
       "      <th>2</th>\n",
       "      <td>Moor and Heath Land</td>\n",
       "      <td>D</td>\n",
       "      <td>NaN</td>\n",
       "      <td>0.000000</td>\n",
       "      <td>0.000000</td>\n",
       "      <td>0.330220</td>\n",
       "    </tr>\n",
       "    <tr>\n",
       "      <th>3</th>\n",
       "      <td>Agro-Pastoral Land</td>\n",
       "      <td>E</td>\n",
       "      <td>0.626863</td>\n",
       "      <td>0.938626</td>\n",
       "      <td>0.572532</td>\n",
       "      <td>0.382366</td>\n",
       "    </tr>\n",
       "    <tr>\n",
       "      <th>4</th>\n",
       "      <td>Water and Wetland</td>\n",
       "      <td>F</td>\n",
       "      <td>NaN</td>\n",
       "      <td>NaN</td>\n",
       "      <td>0.000000</td>\n",
       "      <td>0.000000</td>\n",
       "    </tr>\n",
       "    <tr>\n",
       "      <th>5</th>\n",
       "      <td>Rock and Coastal Land</td>\n",
       "      <td>G</td>\n",
       "      <td>NaN</td>\n",
       "      <td>NaN</td>\n",
       "      <td>0.000000</td>\n",
       "      <td>0.000000</td>\n",
       "    </tr>\n",
       "    <tr>\n",
       "      <th>6</th>\n",
       "      <td>Developed Land</td>\n",
       "      <td>H</td>\n",
       "      <td>0.000000</td>\n",
       "      <td>NaN</td>\n",
       "      <td>0.308130</td>\n",
       "      <td>0.000000</td>\n",
       "    </tr>\n",
       "  </tbody>\n",
       "</table>\n",
       "</div>"
      ],
      "text/plain": [
       "              class name class shortcut  sensitivity  precision  true density  \\\n",
       "0               NO CLASS              0     0.000000        NaN      0.000019   \n",
       "1   Wood and Forest Land              C     0.447859   0.185928      0.119319   \n",
       "2    Moor and Heath Land              D          NaN   0.000000      0.000000   \n",
       "3     Agro-Pastoral Land              E     0.626863   0.938626      0.572532   \n",
       "4      Water and Wetland              F          NaN        NaN      0.000000   \n",
       "5  Rock and Coastal Land              G          NaN        NaN      0.000000   \n",
       "6         Developed Land              H     0.000000        NaN      0.308130   \n",
       "\n",
       "   predicted density  \n",
       "0           0.000000  \n",
       "1           0.287414  \n",
       "2           0.330220  \n",
       "3           0.382366  \n",
       "4           0.000000  \n",
       "5           0.000000  \n",
       "6           0.000000  "
      ]
     },
     "execution_count": 84,
     "metadata": {},
     "output_type": "execute_result"
    }
   ],
   "source": [
    "stats_pred_vs_2022_dissolved[1]['SK2055']"
   ]
  },
  {
   "cell_type": "code",
   "execution_count": 78,
   "metadata": {},
   "outputs": [
    {
     "data": {
      "text/plain": [
       "0.8694310621473523"
      ]
     },
     "execution_count": 78,
     "metadata": {},
     "output_type": "execute_result"
    }
   ],
   "source": [
    "np.mean(list(stats_pred_vs_2022_dissolved_override[0].values()))"
   ]
  },
  {
   "cell_type": "code",
   "execution_count": 142,
   "metadata": {},
   "outputs": [
    {
     "data": {
      "text/plain": [
       "Text(15.722222222222223, 0.5, 'LC 2022')"
      ]
     },
     "execution_count": 142,
     "metadata": {},
     "output_type": "execute_result"
    },
    {
     "data": {
      "image/png": "[encoded data removed]",
      "text/plain": [
       "<Figure size 900x400 with 3 Axes>"
      ]
     },
     "metadata": {},
     "output_type": "display_data"
    }
   ],
   "source": [
    "total_conf_mat = np.array(list(stats_pred_vs_2022_dissolved[2].values())).sum(0)\n",
    "\n",
    "tmp = lcv.plot_confusion_summary(model=None, conf_mat=total_conf_mat, class_name_list=LCU.dict_training_details['class_name_list'],\n",
    "                           normalise_hm=True)\n",
    "                           \n",
    "tmp[3][0].set_title('Confusion matrix 80s vs 2022\\n of evaluation tiles', weight='bold')\n",
    "tmp[3][0].set_xlabel('model prediction')\n",
    "tmp[3][0].set_ylabel('LC 2022')"
   ]
  },
  {
   "attachments": {},
   "cell_type": "markdown",
   "metadata": {},
   "source": [
    "## Print OS label names:"
   ]
  },
  {
   "cell_type": "code",
   "execution_count": 53,
   "metadata": {},
   "outputs": [
    {
     "name": "stdout",
     "output_type": "stream",
     "text": [
      "land 73\n",
      "['Arable Or Grazing Land' 'Bare Earth Or Grass' 'Boulders Or Rock'\n",
      " 'Boulders Or Rock And Heath Or Rough Grassland'\n",
      " 'Boulders Or Rock And Heath Or Rough Grassland And Marsh'\n",
      " 'Boulders Or Rock And Heath Or Rough Grassland And Scattered Coniferous Trees'\n",
      " 'Boulders Or Rock And Heath Or Rough Grassland And Scattered Non-Coniferous Trees'\n",
      " 'Boulders Or Rock And Heath Or Rough Grassland Or Marsh'\n",
      " 'Boulders Or Rock And Scattered Mixed Trees'\n",
      " 'Boulders Or Rock And Scattered Non-Coniferous Trees' 'Coniferous Trees'\n",
      " 'Coniferous Trees And Scattered Boulders Or Scattered Rock'\n",
      " 'Coniferous Trees And Scattered Boulders Or Scattered Rock And Scrub'\n",
      " 'Coniferous Trees And Scrub' 'Construction Site' 'Gallops' 'Games Court'\n",
      " 'Heath' 'Heath Or Rough Grassland' 'Heath Or Rough Grassland And Marsh'\n",
      " 'Heath Or Rough Grassland And Marsh And Scattered Coniferous Trees'\n",
      " 'Heath Or Rough Grassland And Marsh And Scattered Non-Coniferous Trees'\n",
      " 'Heath Or Rough Grassland And Marsh And Scrub'\n",
      " 'Heath Or Rough Grassland And Scattered Boulders Or Scattered Rock'\n",
      " 'Heath Or Rough Grassland And Scattered Boulders Or Scattered Rock And Scrub'\n",
      " 'Heath Or Rough Grassland And Scattered Coniferous Trees'\n",
      " 'Heath Or Rough Grassland And Scattered Coniferous Trees And Scrub'\n",
      " 'Heath Or Rough Grassland And Scattered Mixed Trees'\n",
      " 'Heath Or Rough Grassland And Scattered Mixed Trees And Scrub'\n",
      " 'Heath Or Rough Grassland And Scattered Non-Coniferous Trees'\n",
      " 'Heath Or Rough Grassland And Scattered Non-Coniferous Trees And Scrub'\n",
      " 'Heath Or Rough Grassland And Scattered Rock'\n",
      " 'Heath Or Rough Grassland And Scattered Rock And Scrub'\n",
      " 'Heath Or Rough Grassland And Scrub' 'Helipad' 'Landfill' 'Livestock Pen'\n",
      " 'Made Surface' 'Marsh' 'Marsh And Non-Coniferous Trees'\n",
      " 'Marsh And Non-Coniferous Trees And Scrub' 'Marsh And Scrub'\n",
      " 'Mixed Trees' 'Mixed Trees And Scattered Boulders Or Scattered Rock'\n",
      " 'Mixed Trees And Scattered Boulders Or Scattered Rock And Scrub'\n",
      " 'Mixed Trees And Scrub' 'Non-Coniferous Trees'\n",
      " 'Non-Coniferous Trees And Scattered Boulders Or Scattered Rock'\n",
      " 'Non-Coniferous Trees And Scattered Boulders Or Scattered Rock And Scrub'\n",
      " 'Non-Coniferous Trees And Scrub' 'Orchard' 'Quarry' 'Residential Garden'\n",
      " 'Sand Or Shingle' 'Scattered Boulders Or Scattered Rock'\n",
      " 'Scattered Boulders Or Scattered Rock And Scattered Mixed Trees And Scrub'\n",
      " 'Scattered Boulders Or Scattered Rock And Scattered Non-Coniferous Trees And Scrub'\n",
      " 'Scattered Boulders Or Scattered Rock And Scrub'\n",
      " 'Scattered Coniferous Trees' 'Scattered Coniferous Trees And Scrub'\n",
      " 'Scattered Mixed Trees' 'Scattered Mixed Trees And Scrub'\n",
      " 'Scattered Non-Coniferous Trees'\n",
      " 'Scattered Non-Coniferous Trees And Scrub' 'Scree' 'Scrub' 'Slipway'\n",
      " 'Sloping Masonry' 'Slurry Bed' 'Spoil Heap' 'Steps' 'Target'\n",
      " 'Tennis Court']\n",
      "\n",
      "\n",
      "\n"
     ]
    }
   ],
   "source": [
    "for key, descr_list in dict_unique_descriptions.items():\n",
    "    if key == 'land':\n",
    "        print(key, len(descr_list))\n",
    "        print(np.sort(descr_list))\n",
    "        print('\\n\\n')"
   ]
  }
 ],
 "metadata": {
  "kernelspec": {
   "display_name": "geo",
   "language": "python",
   "name": "python3"
  },
  "language_info": {
   "codemirror_mode": {
    "name": "ipython",
    "version": 3
   },
   "file_extension": ".py",
   "mimetype": "text/x-python",
   "name": "python",
   "nbconvert_exporter": "python",
   "pygments_lexer": "ipython3",
   "version": "3.7.13"
  },
  "orig_nbformat": 4,
  "vscode": {
   "interpreter": {
    "hash": "fff134636c4dc08640ae6a35698a477c72623cae97fdeaa639b1241267bdf5e9"
   }
  }
 },
 "nbformat": 4,
 "nbformat_minor": 2
}
