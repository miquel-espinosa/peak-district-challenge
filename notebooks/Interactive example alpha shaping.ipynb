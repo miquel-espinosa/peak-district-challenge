{
 "cells": [
  {
   "cell_type": "markdown",
   "metadata": {},
   "source": [
    "## Notebook to demonstrate alpha-shaping\n",
    "- Change parameter alpha to increase/decrease 'tightness' of hull (i.e., bound around collection of points).\n",
    "- Imagine trees are points. \n",
    "\n",
    "Originally written by Remi Proville\n",
    "https://bitbucket.org/benglitz/fishualizer_public/src/master/"
   ]
  },
  {
   "cell_type": "code",
   "execution_count": 1,
   "metadata": {},
   "outputs": [],
   "source": [
    "%load_ext autoreload\n",
    "%autoreload 2\n",
    "\n",
    "import numpy as np\n",
    "from numpy.linalg import norm, det\n",
    "from scipy.spatial import Delaunay\n",
    "from scipy.spatial.distance import cdist\n",
    "from itertools import combinations\n",
    "\n",
    "import matplotlib.pyplot as plt\n",
    "from matplotlib.patches import Circle\n",
    "# from mpl_toolkits.mplot3d.axes3d import Axes3D\n",
    "from ipywidgets import interact\n",
    "%matplotlib inline"
   ]
  },
  {
   "cell_type": "code",
   "execution_count": 2,
   "metadata": {},
   "outputs": [],
   "source": [
    "def circum(points):\n",
    "    \"\"\"\n",
    "    Compute the radius of the circum circle or sphere to the 3 or 4 given points\n",
    "    \"\"\"\n",
    "    if points.shape[1]==2:\n",
    "        n = 4\n",
    "    else:\n",
    "        n = 5\n",
    "    M = np.ones((n, n))\n",
    "    M[1:, :-1] = [[norm(p)**2, *p] for p in points]\n",
    "    M11 = compute_minor(M, 0, 0)\n",
    "    if M11 == 0:\n",
    "        return np.inf\n",
    "    \n",
    "    M12 = compute_minor(M, 0, 1)\n",
    "    M13 = compute_minor(M, 0, 2)\n",
    "    M14 = compute_minor(M, 0, 3)\n",
    "    x0 = 0.5 * M12 / M11\n",
    "    y0 = - 0.5 * M13 / M11\n",
    "    if n == 4:\n",
    "        center = np.hstack((x0, y0))\n",
    "    else:\n",
    "        z0 = 0.5 * M14 / M11 \n",
    "        center = np.hstack((x0, y0, z0))\n",
    "    r = norm(points - center, axis=1)\n",
    "    return r.mean(), center\n",
    "\n",
    "def compute_minor(arr, i, j):\n",
    "    \"\"\"\n",
    "    Compute minor of a matrix\n",
    "    \"\"\"\n",
    "    rows = set(range(arr.shape[0]))\n",
    "    rows.remove(i)\n",
    "    cols = set(range(arr.shape[1]))\n",
    "    cols.remove(j)\n",
    "    sub = arr[np.array(list(rows))[:, np.newaxis], np.array(list(cols))]\n",
    "    return det(sub)\n",
    "    "
   ]
  },
  {
   "attachments": {},
   "cell_type": "markdown",
   "metadata": {},
   "source": [
    "## Alpha-complex computation\n",
    "\n",
    "The alpha-complex is made of all the simplices whose circum circle radius is less than alpha"
   ]
  },
  {
   "cell_type": "code",
   "execution_count": 3,
   "metadata": {},
   "outputs": [],
   "source": [
    "def get_alpha_complex(simplices, points, alpha=.1, radii=None):\n",
    "    if radii is None:\n",
    "        radii = list(map(lambda s: circum(points[s])[0], simplices ))\n",
    "        get_alpha_complex.counter += 1\n",
    "        print(f\"Radii computed {get_alpha_complex.counter} time(s)\")\n",
    "    return radii, [ix for ix, r in enumerate(radii) if r < alpha]\n",
    "get_alpha_complex.counter = 0"
   ]
  },
  {
   "attachments": {},
   "cell_type": "markdown",
   "metadata": {},
   "source": [
    "## Example"
   ]
  },
  {
   "attachments": {},
   "cell_type": "markdown",
   "metadata": {},
   "source": [
    "<!-- # np.random.seed(0)\n",
    "# points = np.vstack((np.random.randn(100, 2), np.random.randn(100, 2)+1))\n",
    "# dt = Delaunay(points) -->"
   ]
  },
  {
   "cell_type": "code",
   "execution_count": 4,
   "metadata": {},
   "outputs": [],
   "source": [
    "np.random.seed(0)\n",
    "points = np.vstack((np.random.randn(100, 2), np.random.randn(100, 2)+1))\n",
    "dt = Delaunay(points)"
   ]
  },
  {
   "cell_type": "code",
   "execution_count": 5,
   "metadata": {},
   "outputs": [
    {
     "data": {
      "application/vnd.jupyter.widget-view+json": {
       "model_id": "6c356eef9c904cd987521f1e7923c4e6",
       "version_major": 2,
       "version_minor": 0
      },
      "text/plain": [
       "interactive(children=(FloatSlider(value=0.1, description='alpha', max=5.0, min=0.01, step=0.005), Output()), _…"
      ]
     },
     "metadata": {},
     "output_type": "display_data"
    }
   ],
   "source": [
    "def random_complex(alpha=.1):\n",
    "    fig = plt.figure(figsize=(8, 8))\n",
    "    ax = fig.add_subplot(1, 1, 1)\n",
    "    ax.set_aspect(1)\n",
    "    try:\n",
    "        radii = random_complex._radii\n",
    "    except AttributeError:\n",
    "        radii = None\n",
    "    radii, spx_ix = get_alpha_complex(dt.simplices, points, alpha=alpha, radii=radii)\n",
    "    random_complex._radii = radii\n",
    "    ax.scatter(*points.T);\n",
    "    ax.triplot(points[:, 0], points[:, 1], dt.simplices[spx_ix])\n",
    "    [ax.plot(*np.vstack((dt.points[p[0],:], dt.points[p[1],:])).T, c='k', linestyle='dotted') for p in dt.convex_hull]\n",
    "    ax.axis('off')\n",
    "\n",
    "interact(random_complex, alpha=(0.01, 5, .005));\n"
   ]
  },
  {
   "cell_type": "code",
   "execution_count": 6,
   "metadata": {},
   "outputs": [],
   "source": [
    "def vertex_to_simplices(vertices, dt):\n",
    "    '''### Getting all the simplices to which a vertex belongs'''\n",
    "    simplices = {v: [] for v in vertices}\n",
    "    for v in vertices:\n",
    "        spx = dt.vertex_to_simplex[v]\n",
    "        simplices[v].append(spx)\n",
    "        to_explore = [x for x in dt.neighbors[spx] if x != -1]\n",
    "        ix = 0\n",
    "        while ix < len(to_explore):\n",
    "            n = to_explore[ix]\n",
    "            ix += 1\n",
    "            if v in dt.simplices[n]:\n",
    "                simplices[v].append(n)\n",
    "                to_explore.extend([x for x in dt.neighbors[n] if x != -1 and x not in to_explore])\n",
    "    return simplices\n",
    "\n",
    "def circles_from_p1p2r(p1, p2, r):\n",
    "    \"\"\"\n",
    "    Code from here: https://rosettacode.org/wiki/Circles_of_given_radius_through_two_points#Python\n",
    "    Following explanation at http://mathforum.org/library/drmath/view/53027.html\n",
    "    \"\"\"\n",
    "    if r == 0.0:\n",
    "        raise ValueError('radius of zero')\n",
    "    (x1, y1), (x2, y2) = p1, p2\n",
    "    if all(p1 == p2):\n",
    "        raise ValueError('coincident points gives infinite number of Circles')\n",
    "    # delta x, delta y between points\n",
    "    dx, dy = x2 - x1, y2 - y1\n",
    "    # halfway point\n",
    "    x3, y3 = (x1+x2)/2, (y1+y2)/2\n",
    "    # dist between points\n",
    "    q = np.sqrt(dx**2 + dy**2)\n",
    "    if q > 2.0*r:\n",
    "        # raise ValueError('separation of points > diameter')\n",
    "        return (x3, y3), (x3, y3)\n",
    "    # distance along the mirror line\n",
    "    d = np.sqrt(r**2-(q/2)**2)\n",
    "    # One answer\n",
    "    c1 = (x3 - d*dy/q, y3 + d*dx/q)\n",
    "    # The other answer\n",
    "    c2 = (x3 + d*dy/q, y3 - d*dx/q)\n",
    "    return c1, c2\n",
    "\n",
    "def alpha_exposed_segments(simplex, dt, alpha):\n",
    "    indices, indptr = dt.vertex_neighbor_vertices\n",
    "    neigh = set(np.hstack([indptr[indices[p]:indices[p+1]] for p in simplex]))\n",
    "    segments = []\n",
    "    for pair in combinations(simplex, 2):\n",
    "        c_neigh = neigh - set(pair)\n",
    "        neigh_coords = dt.points[list(c_neigh),: ]\n",
    "        centers = circles_from_p1p2r(dt.points[pair[0]], dt.points[pair[1]], alpha)\n",
    "        dists = [cdist(np.atleast_2d(c), neigh_coords) for c in centers]\n",
    "        exposed = [np.all(d > alpha) for d in dists]\n",
    "        if exposed[0] ^ exposed[1]:\n",
    "            segments.append(pair)\n",
    "    return segments\n",
    "\n",
    "def get_alpha_shape(spx_ix, dt, alpha):\n",
    "    vert_in_ch = set(dt.convex_hull.reshape(-1))\n",
    "    spx_in_cpx = set(spx_ix)\n",
    "    vert_in_cpx = set(dt.simplices[spx_ix].reshape(-1))\n",
    "    v_to_s = vertex_to_simplices(vert_in_cpx, dt)\n",
    "    vert_in_shape = set()\n",
    "    for v in vert_in_cpx: \n",
    "        if v in vert_in_ch:\n",
    "            vert_in_shape.add(v)\n",
    "            continue\n",
    "        if all(s in spx_in_cpx for s in v_to_s[v]):\n",
    "            continue\n",
    "        vert_in_shape.add(v)\n",
    "    # spx_in_shape = [list(filter(lambda v: v in vert_in_shape, dt.simplices[s])) for s in spx_in_cpx]\n",
    "    spx_in_shape = set(sum([v_to_s[v] for v in vert_in_shape], []))\n",
    "    segments = [alpha_exposed_segments(dt.simplices[spx_ix], dt, alpha) for spx_ix in spx_in_shape]\n",
    "    segments = list(set(sum(segments, [])))\n",
    "    return vert_in_shape, spx_in_shape, segments\n",
    "        \n",
    "    "
   ]
  },
  {
   "cell_type": "code",
   "execution_count": 7,
   "metadata": {},
   "outputs": [
    {
     "data": {
      "application/vnd.jupyter.widget-view+json": {
       "model_id": "b2533705fcff4a60b8ba0dbe1c3772fc",
       "version_major": 2,
       "version_minor": 0
      },
      "text/plain": [
       "interactive(children=(FloatSlider(value=0.13, description='alpha', max=1.0, min=0.01, step=0.005), Output()), …"
      ]
     },
     "metadata": {},
     "output_type": "display_data"
    }
   ],
   "source": [
    "def random_alpha_shape(alpha=.13):\n",
    "    try:\n",
    "        radii = random_alpha_shape._radii\n",
    "    except AttributeError:\n",
    "        radii = None\n",
    "    radii, spx_ix = get_alpha_complex(dt.simplices, points, alpha=alpha, radii=radii)\n",
    "    random_alpha_shape._radii = radii\n",
    "    vert_shape, spx_in_shape, seg_shape = get_alpha_shape(spx_ix, dt, alpha=alpha)\n",
    "    fig = plt.figure(figsize=(8, 8))\n",
    "    ax = fig.add_subplot(1, 1, 1)\n",
    "    ax.set_aspect(1)\n",
    "    ax.triplot(points[:, 0], points[:, 1], dt.simplices[spx_ix])\n",
    "    ax.triplot(points[:, 0], points[:, 1], dt.simplices, linestyle='dotted', color=(.5,  .5, .5))\n",
    "    for seg in seg_shape:\n",
    "        pts = np.vstack([dt.points[s, :] for s in seg])\n",
    "        ax.plot(*pts.T, c='k')\n",
    "    ax.scatter(*dt.points[list(vert_shape), :].T, c='orange', s=70)\n",
    "    [ax.plot(*np.vstack((dt.points[p[0],:], dt.points[p[1],:])).T, c='k', linestyle='dotted') for p in dt.convex_hull]\n",
    "    ax.axis('off')\n",
    "\n",
    "interact(random_alpha_shape, alpha=(0.01, 1, .005));\n"
   ]
  },
  {
   "cell_type": "code",
   "execution_count": null,
   "metadata": {},
   "outputs": [],
   "source": []
  }
 ],
 "metadata": {
  "kernelspec": {
   "display_name": "geo",
   "language": "python",
   "name": "python3"
  },
  "language_info": {
   "codemirror_mode": {
    "name": "ipython",
    "version": 3
   },
   "file_extension": ".py",
   "mimetype": "text/x-python",
   "name": "python",
   "nbconvert_exporter": "python",
   "pygments_lexer": "ipython3",
   "version": "3.7.13"
  },
  "orig_nbformat": 4,
  "vscode": {
   "interpreter": {
    "hash": "fff134636c4dc08640ae6a35698a477c72623cae97fdeaa639b1241267bdf5e9"
   }
  }
 },
 "nbformat": 4,
 "nbformat_minor": 2
}
