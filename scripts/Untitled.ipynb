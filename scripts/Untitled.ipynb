{
 "cells": [
  {
   "cell_type": "code",
   "execution_count": null,
   "id": "d575d8f2",
   "metadata": {},
   "outputs": [],
   "source": [
    "import land_cover_models as lcm\n",
    "import torch\n",
    "from fmix import combine_masks\n",
    "\n",
    "ROOT_PATH = '/home/s2254242/PHD/ATI/peak-district-challenge'\n",
    "\n",
    "dir_test_im_patches = f'{ROOT_PATH}/data/images_detailed_annotation/'\n",
    "dir_test_mask_patches = f'{ROOT_PATH}/data/masks_detailed_annotation/'\n",
    "\n",
    "mask_suffix_test_ds = '_lc_2022_detailed_mask.npy'\n",
    "mask_dir_name_test = ''\n",
    "\n",
    "path_mapping_dict=f'{ROOT_PATH}/content/label_mapping_dicts/label_mapping_dict__main_categories__2023-04-20-1541.pkl'\n",
    "\n",
    "ds = lcm.DataSetPatches(im_dir=dir_test_im_patches, mask_dir=dir_test_mask_patches, \n",
    "                                    mask_suffix=mask_suffix_test_ds, mask_dir_name=mask_dir_name_test,\n",
    "                                #   list_tile_names=dict_tile_names_sample['test'],\n",
    "                                    list_tile_patches_use=None,\n",
    "                                    shuffle_order_patches=True, relabel_masks=True,\n",
    "                                    subsample_patches=False, # frac_subsample=0.1,\n",
    "                                    path_mapping_dict=path_mapping_dict\n",
    "                                    )\n",
    "\n",
    "\n",
    "batch_size = 16\n",
    "trainloader = torch.utils.data.DataLoader(ds, batch_size=batch_size)\n",
    "\n",
    "# Train the model\n",
    "n_epochs = 200\n",
    "loss_fn = nn.BCELoss()\n",
    "optimizer = optim.SGD(model.parameters(), lr=0.1)\n",
    "model.train()\n",
    "for epoch in range(n_epochs):\n",
    "    for X_batch, y_batch in loader:\n",
    "        y_pred = model(X_batch)\n",
    "        loss = loss_fn(y_pred, y_batch)\n",
    "        optimizer.zero_grad()\n",
    "        loss.backward()\n",
    "        optimizer.step()\n",
    "\n",
    "model.eval()"
   ]
  }
 ],
 "metadata": {
  "kernelspec": {
   "display_name": "Python 3 (ipykernel)",
   "language": "python",
   "name": "python3"
  },
  "language_info": {
   "codemirror_mode": {
    "name": "ipython",
    "version": 3
   },
   "file_extension": ".py",
   "mimetype": "text/x-python",
   "name": "python",
   "nbconvert_exporter": "python",
   "pygments_lexer": "ipython3",
   "version": "3.11.3"
  }
 },
 "nbformat": 4,
 "nbformat_minor": 5
}
