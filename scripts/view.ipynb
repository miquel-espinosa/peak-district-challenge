{
 "cells": [
  {
   "cell_type": "code",
   "execution_count": 16,
   "metadata": {},
   "outputs": [
    {
     "name": "stdout",
     "output_type": "stream",
     "text": [
      "WARNING: no normalisation will be applied when loading images\n",
      "Patches ordered randomly\n",
      "Loaded 1027 patches\n",
      "Loaded label_mapping_dict__main_categories__2023-04-20-1541.pkl to map labels\n"
     ]
    }
   ],
   "source": [
    "import land_cover_models as lcm\n",
    "import torch\n",
    "# import glob\n",
    "# from glob import glob\n",
    "\n",
    "\n",
    "ROOT_PATH = '/home/s2254242/PHD/ATI/peak-district-challenge'\n",
    "\n",
    "dir_test_im_patches = f'{ROOT_PATH}/data/images_detailed_annotation/'\n",
    "dir_test_mask_patches = f'{ROOT_PATH}/data/masks_detailed_annotation/'\n",
    "\n",
    "mask_suffix_test_ds = '_lc_2022_detailed_mask.npy'\n",
    "mask_dir_name_test = ''\n",
    "\n",
    "path_mapping_dict=f'{ROOT_PATH}/content/label_mapping_dicts/label_mapping_dict__main_categories__2023-04-20-1541.pkl'\n",
    "\n",
    "ds = lcm.DataSetPatches(im_dir=dir_test_im_patches, mask_dir=dir_test_mask_patches, \n",
    "                                    mask_suffix=mask_suffix_test_ds, mask_dir_name=mask_dir_name_test,\n",
    "                                #   list_tile_names=dict_tile_names_sample['test'],\n",
    "                                    list_tile_patches_use=None,\n",
    "                                    shuffle_order_patches=True, relabel_masks=True,\n",
    "                                    subsample_patches=False, # frac_subsample=0.1,\n",
    "                                    path_mapping_dict=path_mapping_dict\n",
    "                                    )\n",
    "\n",
    "\n",
    "trainloader = torch.utils.data.DataLoader(ds)"
   ]
  },
  {
   "cell_type": "code",
   "execution_count": 17,
   "metadata": {},
   "outputs": [
    {
     "data": {
      "text/plain": [
       "1027"
      ]
     },
     "execution_count": 17,
     "metadata": {},
     "output_type": "execute_result"
    }
   ],
   "source": [
    "len(ds)"
   ]
  }
 ],
 "metadata": {
  "kernelspec": {
   "display_name": "geo",
   "language": "python",
   "name": "python3"
  },
  "language_info": {
   "codemirror_mode": {
    "name": "ipython",
    "version": 3
   },
   "file_extension": ".py",
   "mimetype": "text/x-python",
   "name": "python",
   "nbconvert_exporter": "python",
   "pygments_lexer": "ipython3",
   "version": "3.7.16"
  },
  "orig_nbformat": 4
 },
 "nbformat": 4,
 "nbformat_minor": 2
}
